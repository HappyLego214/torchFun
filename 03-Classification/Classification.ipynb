{
 "cells": [
  {
   "cell_type": "code",
   "execution_count": 1,
   "id": "4bc874b9-9637-4847-806b-03a78bc5945a",
   "metadata": {},
   "outputs": [],
   "source": [
    "import torch"
   ]
  },
  {
   "cell_type": "markdown",
   "id": "17e1e8b7-b828-4d51-ad25-7395a0b33052",
   "metadata": {},
   "source": [
    "**CLASSIFICATION**\n",
    "\n",
    "Touching onto classification means that there involves deciding whether this or that. It basically boils down onto classifying an output. It is either this or it's not that. It's one thing or another. However, there are different problem types for classification but it does boil down into the following:\n",
    "\n",
    "1. *Binary Classification* - As the name suggests, this decides whether this or that. It's 1 or 0. The target can be one of two options. An example of this would be identifying if this is a number or not. Is this a letter or not. If someone has a heart disease based on a certain parameter. It's yes or no.\n",
    "\n",
    "2. *Multi-class Classification* - Target can be one of two or more options. There are more options to choose when it comes to this. So it can check if a bear is a brown, grizzly, or a black bear. So it's akin to Binary classification but there are a lot more options to choose.\n",
    "\n",
    "3. *Multi-label Classification* - As opposed to the previous two this classification is quite the opposite. Instead of assigning the target to only one label or option. The target here can be assigned multiple labels or multiple options. So it is akin to a movie (target) having multiple categories (labels/options).\n",
    "\n",
    "Remember how we dealt with predicting a number in *01-Workflow Fundamentals*? That was a regression task. This time, we're going to deal with classification. Regression and Classification are two of the most common types of machine learning problems.\n",
    "\n",
    "This time, we're going to go through differentt classification problems in PyTorch. Basically, we will be receiving a set of inputs and then predicting what class those set of inputs belong to."
   ]
  },
  {
   "cell_type": "markdown",
   "id": "7183d571-ce42-4bb6-901e-1b9fdfad29bb",
   "metadata": {},
   "source": [
    "![Display](images/02-different-classification-problems.png \"Basic Descriptions of Classification Problems\")"
   ]
  },
  {
   "cell_type": "markdown",
   "id": "7f89b375-6376-4576-a154-a306701859c6",
   "metadata": {},
   "source": [
    "**COVERAGE**\n",
    "\n",
    "So in this chapter we'll be tackling classification but for the most part we'll retain the PyTorch Workflow that we originally used in the previous chapter which can be easily summarized into this:"
   ]
  },
  {
   "cell_type": "markdown",
   "id": "946f3c81-157c-4ab2-b94a-379fd300af57",
   "metadata": {},
   "source": [
    "![Display](images/01-pytorch-workflow.png \"Basic PyTorch Workflow\")"
   ]
  },
  {
   "cell_type": "markdown",
   "id": "7f740340-10c0-4d27-95e6-4f1de53c2cbe",
   "metadata": {},
   "source": [
    "There is only one difference in this. We're going to work with a classification problem and not a linear problem that we did before, which was simply just predicting a straight line. So, the chapter goes as follows:\n",
    "\n",
    "1. __Architecture of a Classification Neural Network__ - Neural networks can be in any shape or size but there is always a typica floor plan.\n",
    "   \n",
    "2. __Getting Binary Classification Ready__ -  Data can be anything that can be converted but to start, we'll be using a simple binary classification dataset.\n",
    "\n",
    "3. __Building a PyTorch Classification Mode__ - In this section we will start creating the model to learn the patterns of the data. Choosing a *loss_function*, *optimizer*, and create a *training loop* to deal with classificatin.\n",
    "\n",
    "4. __Fitting Model To Data__ - Since we've created our model already and the training loop, we need to start predicting and letting the model find patterns in the *training* data.\n",
    "\n",
    "5. __Making Predictions & Evaluating Model__ - Once the model has checked for patters in the data, we need to make sure that the patterns it has detected fits the actual *testing* data that we have. Metrics such as accuracy is a good start.\n",
    "\n",
    "6. __Improving Models: Stepping Weights__ - We have evaluated the performance of our model and we need to make some changes to ensure that it is being improved. Basically, we need to start updating/stepping the weights. Or do other changes such as on the learning rate, etc.\n",
    "\n",
    "7. __Adding Non-Linearity__ - Linearity is pretty boring. Straight line's just doesn't cover enough ground for all possibilities such as non-linear problems. We need to make sure that the model can tackle non-linearity (non-straight lines). Using an activation function that covers nonlinearity such as *ReLU* is a good idea.\n",
    "\n",
    "8. __Replicating Non-Linear Functions__ - We used non-linear functions such as *ReLU* to deal with non-inear data but what do these actually look like? We'll take a look.\n",
    "\n",
    "9. __Combining Everything For Multi-class Classification__ - Once done with everything in creating binary classifaction, we'll be assembling everything together again with a multi-class classification problem. The reason that we're starting with binary classification is because it'll be easier to move on to multi-class classification afterward. It's akin to starting with two which are the basics and then just adding ontop of that. Afterall, binary and multi-class are both classifications at the end. "
   ]
  },
  {
   "cell_type": "markdown",
   "id": "686ffa8c-7b52-4600-b0ca-c6d69426114a",
   "metadata": {},
   "source": [
    "**Architecture of a Classification Neural Network**"
   ]
  }
 ],
 "metadata": {
  "kernelspec": {
   "display_name": "Python 3 (ipykernel)",
   "language": "python",
   "name": "python3"
  },
  "language_info": {
   "codemirror_mode": {
    "name": "ipython",
    "version": 3
   },
   "file_extension": ".py",
   "mimetype": "text/x-python",
   "name": "python",
   "nbconvert_exporter": "python",
   "pygments_lexer": "ipython3",
   "version": "3.10.11"
  }
 },
 "nbformat": 4,
 "nbformat_minor": 5
}
