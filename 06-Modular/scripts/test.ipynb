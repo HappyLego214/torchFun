{
 "cells": [
  {
   "cell_type": "code",
   "id": "7aaf7bb8-c769-4d2f-becc-9477012b307e",
   "metadata": {
    "ExecuteTime": {
     "end_time": "2024-06-14T08:36:51.780745Z",
     "start_time": "2024-06-14T08:36:51.777055Z"
    }
   },
   "source": [
    "from pathlib import Path\n",
    "import os \n",
    "\n",
    "data_path = Path('data')\n",
    "image_path = data_path / 'pizza_steak_sushi'\n",
    "\n",
    "script_dir = os.getcwd()\n",
    "parent_dir = os.path.dirname(script_dir)\n",
    "train_dir = parent_dir / image_path / 'train'\n",
    "test_dir = parent_dir / image_path / 'test'"
   ],
   "outputs": [],
   "execution_count": 10
  },
  {
   "cell_type": "code",
   "id": "b9e688d1-ad15-4b77-a07a-ba414b60d7dc",
   "metadata": {
    "ExecuteTime": {
     "end_time": "2024-06-14T08:37:10.210885Z",
     "start_time": "2024-06-14T08:36:51.782755Z"
    }
   },
   "source": [
    "import torch\n",
    "\n",
    "import data_setup\n",
    "import engine\n",
    "import model_builder\n",
    "import utils\n",
    "\n",
    "from torchvision import transforms, datasets\n",
    "from torch.utils.data import DataLoader, Dataset\n",
    "from torch import optim\n",
    "from torch import nn\n",
    "\n",
    "from tqdm.auto import tqdm\n",
    "from pathlib import Path\n",
    "from typing import Dict, List, Tuple\n",
    "    \n",
    "\n",
    "BATCH_SIZE = 32\n",
    "EPOCHS = 10\n",
    "LR = 0.001\n",
    "HIDDEN_UNITS = 10\n",
    "INPUT_SHAPE = 3\n",
    "\n",
    "device = 'cuda' if torch.cuda.is_available else 'cpu'\n",
    "\n",
    "model_path = parent_dir/Path('models')\n",
    "\n",
    "data_transform = transforms.Compose([\n",
    "    transforms.Resize((64,64)),\n",
    "    transforms.ToTensor()\n",
    "])\n",
    "\n",
    "train_dataloader, test_dataloader, class_list = data_setup.create_dataloaders(\n",
    "    train_dir=train_dir,\n",
    "    test_dir=test_dir,\n",
    "    transform=data_transform,\n",
    "    batch_size=BATCH_SIZE,\n",
    "    num_workers=0\n",
    ")\n",
    "\n",
    "model_0 = model_builder.TinyVGG(input_shape=INPUT_SHAPE, hidden_units=HIDDEN_UNITS, output_shape=len(class_list))\n",
    "model_0.to(device)\n",
    "\n",
    "print(f\"Using {device} For Training\")\n",
    "\n",
    "loss_fn = nn.CrossEntropyLoss()\n",
    "optimizer = optim.SGD(model_0.parameters(), lr=LR)\n",
    "\n",
    "results = engine.train(\n",
    "    model=model_0,\n",
    "    train_dataloader=train_dataloader,\n",
    "    test_dataloader=test_dataloader,\n",
    "    loss_fn=loss_fn,\n",
    "    optimizer=optimizer,\n",
    "    device = device,\n",
    "    epochs = EPOCHS\n",
    ")\n",
    "\n",
    "utils.save_model(\n",
    "    model=model_0,\n",
    "    target_dir=model_path,\n",
    "    model_name='TinyVGG'\n",
    ")"
   ],
   "outputs": [
    {
     "name": "stdout",
     "output_type": "stream",
     "text": [
      "Using cuda For Training\n"
     ]
    },
    {
     "data": {
      "text/plain": [
       "  0%|          | 0/10 [00:00<?, ?it/s]"
      ],
      "application/vnd.jupyter.widget-view+json": {
       "version_major": 2,
       "version_minor": 0,
       "model_id": "43e43a956c1645df89772b2122945131"
      }
     },
     "metadata": {},
     "output_type": "display_data"
    },
    {
     "name": "stdout",
     "output_type": "stream",
     "text": [
      "Epoch: 1 | Train Loss: 1.0986 | Train Accuracy: 0.2812 | Test Loss: 1.1007 | Test Accuracy: 0.2875\n",
      "Epoch: 2 | Train Loss: 1.0986 | Train Accuracy: 0.3187 | Test Loss: 1.1005 | Test Accuracy: 0.2750\n",
      "Epoch: 3 | Train Loss: 1.1008 | Train Accuracy: 0.2500 | Test Loss: 1.1004 | Test Accuracy: 0.2750\n",
      "Epoch: 4 | Train Loss: 1.0995 | Train Accuracy: 0.2854 | Test Loss: 1.1004 | Test Accuracy: 0.3063\n",
      "Epoch: 5 | Train Loss: 1.0989 | Train Accuracy: 0.2625 | Test Loss: 1.1005 | Test Accuracy: 0.3125\n",
      "Epoch: 6 | Train Loss: 1.0992 | Train Accuracy: 0.3333 | Test Loss: 1.1005 | Test Accuracy: 0.3250\n",
      "Epoch: 7 | Train Loss: 1.0987 | Train Accuracy: 0.3083 | Test Loss: 1.1005 | Test Accuracy: 0.3063\n",
      "Epoch: 8 | Train Loss: 1.0984 | Train Accuracy: 0.2958 | Test Loss: 1.1004 | Test Accuracy: 0.3187\n",
      "Epoch: 9 | Train Loss: 1.0978 | Train Accuracy: 0.3771 | Test Loss: 1.1004 | Test Accuracy: 0.3312\n",
      "Epoch: 10 | Train Loss: 1.0985 | Train Accuracy: 0.3375 | Test Loss: 1.1004 | Test Accuracy: 0.3125\n"
     ]
    },
    {
     "ename": "AssertionError",
     "evalue": "model_name should end with '.pt' or '.pth'",
     "output_type": "error",
     "traceback": [
      "\u001B[1;31m---------------------------------------------------------------------------\u001B[0m",
      "\u001B[1;31mAssertionError\u001B[0m                            Traceback (most recent call last)",
      "Cell \u001B[1;32mIn[11], line 59\u001B[0m\n\u001B[0;32m     47\u001B[0m optimizer \u001B[38;5;241m=\u001B[39m optim\u001B[38;5;241m.\u001B[39mSGD(model_0\u001B[38;5;241m.\u001B[39mparameters(), lr\u001B[38;5;241m=\u001B[39mLR)\n\u001B[0;32m     49\u001B[0m results \u001B[38;5;241m=\u001B[39m engine\u001B[38;5;241m.\u001B[39mtrain(\n\u001B[0;32m     50\u001B[0m     model\u001B[38;5;241m=\u001B[39mmodel_0,\n\u001B[0;32m     51\u001B[0m     train_dataloader\u001B[38;5;241m=\u001B[39mtrain_dataloader,\n\u001B[1;32m   (...)\u001B[0m\n\u001B[0;32m     56\u001B[0m     epochs \u001B[38;5;241m=\u001B[39m EPOCHS\n\u001B[0;32m     57\u001B[0m )\n\u001B[1;32m---> 59\u001B[0m \u001B[43mutils\u001B[49m\u001B[38;5;241;43m.\u001B[39;49m\u001B[43msave_model\u001B[49m\u001B[43m(\u001B[49m\n\u001B[0;32m     60\u001B[0m \u001B[43m    \u001B[49m\u001B[43mmodel\u001B[49m\u001B[38;5;241;43m=\u001B[39;49m\u001B[43mmodel_0\u001B[49m\u001B[43m,\u001B[49m\n\u001B[0;32m     61\u001B[0m \u001B[43m    \u001B[49m\u001B[43mtarget_dir\u001B[49m\u001B[38;5;241;43m=\u001B[39;49m\u001B[43mmodel_path\u001B[49m\u001B[43m,\u001B[49m\n\u001B[0;32m     62\u001B[0m \u001B[43m    \u001B[49m\u001B[43mmodel_name\u001B[49m\u001B[38;5;241;43m=\u001B[39;49m\u001B[38;5;124;43m'\u001B[39;49m\u001B[38;5;124;43mTinyVGG\u001B[39;49m\u001B[38;5;124;43m'\u001B[39;49m\n\u001B[0;32m     63\u001B[0m \u001B[43m)\u001B[49m\n",
      "File \u001B[1;32mD:\\Jupyter\\torchFun\\06-Modular\\scripts\\utils.py:13\u001B[0m, in \u001B[0;36msave_model\u001B[1;34m(model, target_dir, model_name)\u001B[0m\n\u001B[0;32m     10\u001B[0m target_dir_path \u001B[38;5;241m=\u001B[39m Path(target_dir)\n\u001B[0;32m     11\u001B[0m target_dir_path\u001B[38;5;241m.\u001B[39mmkdir(parents\u001B[38;5;241m=\u001B[39m\u001B[38;5;28;01mTrue\u001B[39;00m, exist_ok\u001B[38;5;241m=\u001B[39m\u001B[38;5;28;01mTrue\u001B[39;00m)\n\u001B[1;32m---> 13\u001B[0m \u001B[38;5;28;01massert\u001B[39;00m model_name\u001B[38;5;241m.\u001B[39mendswith(\u001B[38;5;124m\"\u001B[39m\u001B[38;5;124m.pth\u001B[39m\u001B[38;5;124m\"\u001B[39m) \u001B[38;5;129;01mor\u001B[39;00m model_name\u001B[38;5;241m.\u001B[39mendswith(\u001B[38;5;124m\"\u001B[39m\u001B[38;5;124m.pt\u001B[39m\u001B[38;5;124m\"\u001B[39m), \u001B[38;5;124m\"\u001B[39m\u001B[38;5;124mmodel_name should end with \u001B[39m\u001B[38;5;124m'\u001B[39m\u001B[38;5;124m.pt\u001B[39m\u001B[38;5;124m'\u001B[39m\u001B[38;5;124m or \u001B[39m\u001B[38;5;124m'\u001B[39m\u001B[38;5;124m.pth\u001B[39m\u001B[38;5;124m'\u001B[39m\u001B[38;5;124m\"\u001B[39m\n\u001B[0;32m     14\u001B[0m model_save_path \u001B[38;5;241m=\u001B[39m target_dir_path\u001B[38;5;241m/\u001B[39mmodel_name\n\u001B[0;32m     16\u001B[0m \u001B[38;5;28mprint\u001B[39m(\u001B[38;5;124mf\u001B[39m\u001B[38;5;124m\"\u001B[39m\u001B[38;5;124mINFO: Saving Model To: \u001B[39m\u001B[38;5;132;01m{\u001B[39;00mmodel_save_path\u001B[38;5;132;01m}\u001B[39;00m\u001B[38;5;124m\"\u001B[39m)\n",
      "\u001B[1;31mAssertionError\u001B[0m: model_name should end with '.pt' or '.pth'"
     ]
    }
   ],
   "execution_count": 11
  },
  {
   "cell_type": "code",
   "id": "9a11e969-c988-4f7f-b7fd-d9e1fbf74dd2",
   "metadata": {},
   "source": "os.cpu_count()",
   "outputs": [],
   "execution_count": null
  },
  {
   "metadata": {},
   "cell_type": "code",
   "source": "",
   "id": "44bb1679ee40f498",
   "outputs": [],
   "execution_count": null
  }
 ],
 "metadata": {
  "kernelspec": {
   "display_name": "Python 3 (ipykernel)",
   "language": "python",
   "name": "python3"
  },
  "language_info": {
   "codemirror_mode": {
    "name": "ipython",
    "version": 3
   },
   "file_extension": ".py",
   "mimetype": "text/x-python",
   "name": "python",
   "nbconvert_exporter": "python",
   "pygments_lexer": "ipython3",
   "version": "3.12.3"
  }
 },
 "nbformat": 4,
 "nbformat_minor": 5
}
