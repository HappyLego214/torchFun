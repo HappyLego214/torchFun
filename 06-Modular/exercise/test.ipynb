{
 "cells": [
  {
   "cell_type": "code",
   "id": "initial_id",
   "metadata": {
    "collapsed": true,
    "ExecuteTime": {
     "end_time": "2024-06-14T11:27:28.395840Z",
     "start_time": "2024-06-14T11:27:28.386111Z"
    }
   },
   "source": [
    "import os\n",
    "import requests\n",
    "import zipfile\n",
    "from pathlib import Path\n",
    "\n",
    "parentDir = Path(os.getcwd()).parent\n",
    "\n",
    "data_path = Path('data/')\n",
    "image_path = parentDir/data_path/'pizza_steak_sushi'\n",
    "train_path = parentDir/data_path/image_path/'test'\n",
    "test_path = parentDir/data_path/image_path/'train'\n",
    "\n",
    "if image_path.is_dir():\n",
    "    print(f\"Directory Exists {image_path}\")\n",
    "else:\n",
    "    print(f\"Directory Does Not Exist {image_path}\")\n",
    "    image_path.mkdir(parents=True, exist_ok=True)\n",
    "\n",
    "if train_path.is_dir() and test_path.is_dir():\n",
    "    print(f\"Directories Exist - {train_path} - {test_path}\")\n",
    "    print(f\"Skipping Downloading - Skipping Extraction\")\n",
    "else:\n",
    "    print(f\"Directories Does Not Exist - {train_path} - {test_path}\")\n",
    "    with open(data_path/'pizza_steak_sushi.zip', 'wr') as f:\n",
    "        print(f\"Downloading Data\")\n",
    "        request = requests.get(\"https://github.com/mrdbourke/pytorch-deep-learning/raw/main/data/pizza_steak_sushi_20_percent.zip\")\n",
    "        f.write(request.content)\n",
    "    \n",
    "    with open(data_path/'pizza_steak_sushi.zip', 'rb') as zipdata:\n",
    "        print(f\"Unzipping Data\")\n",
    "        zipdata.extractall(image_path)\n",
    "        \n",
    "    os.remove('pizza_steak_sushi.zip')\n",
    "        \n",
    "train_path = parentDir/data_path/image_path/'test'\n",
    "test_path = parentDir/data_path/image_path/'train'\n"
   ],
   "outputs": [
    {
     "name": "stdout",
     "output_type": "stream",
     "text": [
      "Directory Exists /Users/josh/Dev/pytorch/torchFun/06-Modular/data/pizza_steak_sushi\n",
      "Directories Exist - /Users/josh/Dev/pytorch/torchFun/06-Modular/data/pizza_steak_sushi/test - /Users/josh/Dev/pytorch/torchFun/06-Modular/data/pizza_steak_sushi/train\n",
      "Skipping Downloading - Skipping Extraction\n"
     ]
    }
   ],
   "execution_count": 19
  },
  {
   "metadata": {},
   "cell_type": "code",
   "outputs": [],
   "execution_count": null,
   "source": "",
   "id": "cbc7cc4f4d622c27"
  }
 ],
 "metadata": {
  "kernelspec": {
   "display_name": "Python 3",
   "language": "python",
   "name": "python3"
  },
  "language_info": {
   "codemirror_mode": {
    "name": "ipython",
    "version": 2
   },
   "file_extension": ".py",
   "mimetype": "text/x-python",
   "name": "python",
   "nbconvert_exporter": "python",
   "pygments_lexer": "ipython2",
   "version": "2.7.6"
  }
 },
 "nbformat": 4,
 "nbformat_minor": 5
}
