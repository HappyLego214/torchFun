{
 "cells": [
  {
   "cell_type": "markdown",
   "id": "ca196db6-4f21-4be5-897f-fdfd858a4d83",
   "metadata": {},
   "source": [
    "1. Create a straight line dataset using the linear regression formula (weight * X + bias).\n",
    "* Set weight=0.3 and bias=0.9 there should be at least 100 datapoints total.\n",
    "* Split the data into 80% training, 20% testing.\n",
    "* Plot the training and testing data so it becomes visual.\n",
    "  \n",
    "2. Build a PyTorch model by subclassing nn.Module.\n",
    "* Inside should be a randomly initialized nn.Parameter() with requires_grad=True, one for weights and one for bias.\n",
    "* Implement the forward() method to compute the linear regression function you used to create the dataset in 1.\n",
    "* Once you've constructed the model, make an instance of it and check its state_dict().\n",
    "*  Note: If you'd like to use nn.Linear() instead of nn.Parameter() you can.\n",
    "  \n",
    "3. Create a loss function and optimizer using nn.L1Loss() and torch.optim.SGD(params, lr) respectively.\n",
    "* Set the learning rate of the optimizer to be 0.01 and the parameters to optimize should be the model parameters from the model you created in 2.\n",
    "* Write a training loop to perform the appropriate training steps for 300 epochs.\n",
    "* The training loop should test the model on the test dataset every 20 epochs.\n",
    "  \n",
    "4. Make predictions with the trained model on the test data.\n",
    "* Visualize these predictions against the original training and testing data (note: you may need to make sure the predictions are not on the GPU if you want to use non-CUDA-enabled libraries such as matplotlib to plot).\n",
    "  \n",
    "5. Save your trained model's state_dict() to file.\n",
    "* Create a new instance of your model class you made in 2. and load in the state_dict() you just saved to it.\n",
    "* Perform predictions on your test data with the loaded model and confirm they match the original model predictions from 4."
   ]
  },
  {
   "cell_type": "code",
   "execution_count": 1,
   "id": "cee73ea2-ff83-4fa9-a2f1-02b6ae462f44",
   "metadata": {},
   "outputs": [],
   "source": [
    "import torch\n",
    "import matplotlib.pyplot as plt\n",
    "from torch import nn"
   ]
  },
  {
   "cell_type": "code",
   "execution_count": 2,
   "id": "88aa3602-f3f2-499d-b0d3-102450130334",
   "metadata": {},
   "outputs": [],
   "source": [
    "device = 'cuda'"
   ]
  },
  {
   "cell_type": "code",
   "execution_count": 3,
   "id": "2d8eb80b-8727-4d6b-bb4d-6df76b059b6f",
   "metadata": {},
   "outputs": [
    {
     "data": {
      "text/plain": [
       "(tensor([[0.0000],\n",
       "         [0.0100],\n",
       "         [0.0200],\n",
       "         [0.0300],\n",
       "         [0.0400],\n",
       "         [0.0500],\n",
       "         [0.0600],\n",
       "         [0.0700],\n",
       "         [0.0800],\n",
       "         [0.0900]]),\n",
       " torch.Size([100, 1]),\n",
       " tensor([[0.3000],\n",
       "         [0.3090],\n",
       "         [0.3180],\n",
       "         [0.3270],\n",
       "         [0.3360],\n",
       "         [0.3450],\n",
       "         [0.3540],\n",
       "         [0.3630],\n",
       "         [0.3720],\n",
       "         [0.3810]]),\n",
       " torch.Size([100, 1]))"
      ]
     },
     "execution_count": 3,
     "metadata": {},
     "output_type": "execute_result"
    }
   ],
   "source": [
    "weights = 0.9\n",
    "bias = 0.3\n",
    "\n",
    "start = 0\n",
    "end = 1\n",
    "step = 0.01\n",
    "\n",
    "X = torch.arange(start, end, step).unsqueeze(dim=1)\n",
    "y = weights * X + bias\n",
    "\n",
    "X[:10], X.shape, y[:10], y.shape"
   ]
  },
  {
   "cell_type": "code",
   "execution_count": 4,
   "id": "4059d6ad-b1eb-48bc-b414-8020cd3d5be5",
   "metadata": {},
   "outputs": [
    {
     "data": {
      "text/plain": [
       "(80, 80, 20, 20)"
      ]
     },
     "execution_count": 4,
     "metadata": {},
     "output_type": "execute_result"
    }
   ],
   "source": [
    "dataSplit = int(0.8 * len(X))\n",
    "X_train, y_train = X[:dataSplit], y[:dataSplit]\n",
    "X_test, y_test = X[dataSplit:], y[dataSplit:]\n",
    "\n",
    "len(X_train), len(y_train), len(X_test), len(y_test)"
   ]
  },
  {
   "cell_type": "code",
   "execution_count": 5,
   "id": "8b3d7500-8366-4a9e-bed2-ef8531e3bdfc",
   "metadata": {},
   "outputs": [],
   "source": [
    "def plot_predictions(\n",
    "    train_data = X_train,\n",
    "    train_labels = y_train,\n",
    "    test_data = X_test,\n",
    "    test_labels = y_test,\n",
    "    predictions = None\n",
    "):\n",
    "    plt.figure(figsize=(10,7))\n",
    "    plt.scatter(train_data, train_labels, c=\"b\", s=4, label=\"Training Data\")\n",
    "    plt.scatter(test_data, test_labels, c=\"r\", s=4, label=\"Testing Data\")\n",
    "\n",
    "    if predictions is not None:\n",
    "        plt.scatter(test_data, predictions, c=\"g\", s=4, label=\"Predictions\")\n",
    "\n",
    "    plt.legend(prop={\"size\": 14})"
   ]
  },
  {
   "cell_type": "code",
   "execution_count": 6,
   "id": "1e3cab89-9a81-4c5d-b7c6-eba2bd57b870",
   "metadata": {},
   "outputs": [
    {
     "data": {
      "image/png": "[encoded data removed]",
      "text/plain": [
       "<Figure size 1000x700 with 1 Axes>"
      ]
     },
     "metadata": {},
     "output_type": "display_data"
    }
   ],
   "source": [
    "plot_predictions()"
   ]
  },
  {
   "cell_type": "code",
   "execution_count": 7,
   "id": "8d4b0bfe-be0a-48c1-836a-b43f128f3618",
   "metadata": {},
   "outputs": [],
   "source": [
    "torch.manual_seed=42\n",
    "\n",
    "class LinearRegressionModel(nn.Module):\n",
    "    def __init__(self):\n",
    "        super().__init__()\n",
    "        self.linear_layer = nn.Linear(in_features=1, out_features=1)\n",
    "\n",
    "    def forward(self, x: torch.Tensor) -> torch.Tensor:\n",
    "        return self.linear_layer(x)"
   ]
  },
  {
   "cell_type": "code",
   "execution_count": 8,
   "id": "2efd1983-f837-4ff6-827a-15a5f1b0d926",
   "metadata": {
    "scrolled": true
   },
   "outputs": [
    {
     "data": {
      "text/plain": [
       "OrderedDict([('linear_layer.weight', tensor([[0.8625]])),\n",
       "             ('linear_layer.bias', tensor([-0.3067]))])"
      ]
     },
     "execution_count": 8,
     "metadata": {},
     "output_type": "execute_result"
    }
   ],
   "source": [
    "model_0 = LinearRegressionModel()\n",
    "model_0.state_dict()"
   ]
  },
  {
   "cell_type": "code",
   "execution_count": 9,
   "id": "c6e0a1e4-7799-4b0d-b476-e8bf0207c74d",
   "metadata": {
    "scrolled": true
   },
   "outputs": [
    {
     "data": {
      "text/plain": [
       "LinearRegressionModel(\n",
       "  (linear_layer): Linear(in_features=1, out_features=1, bias=True)\n",
       ")"
      ]
     },
     "execution_count": 9,
     "metadata": {},
     "output_type": "execute_result"
    }
   ],
   "source": [
    "model_0.to(device)"
   ]
  },
  {
   "cell_type": "code",
   "execution_count": 10,
   "id": "99bd18e3-3d59-4041-a6e6-39ec0564e315",
   "metadata": {},
   "outputs": [
    {
     "data": {
      "text/plain": [
       "device(type='cuda', index=0)"
      ]
     },
     "execution_count": 10,
     "metadata": {},
     "output_type": "execute_result"
    }
   ],
   "source": [
    "next(model_0.parameters()).device"
   ]
  },
  {
   "cell_type": "code",
   "execution_count": 11,
   "id": "4b8a65e0-a8e4-413d-91ca-61f7b7105a06",
   "metadata": {},
   "outputs": [],
   "source": [
    "loss_func = nn.L1Loss()\n",
    "optimizer = torch.optim.SGD(model_0.parameters(), lr=0.01)"
   ]
  },
  {
   "cell_type": "code",
   "execution_count": 12,
   "id": "b0a5db9d-7917-4487-8d3e-b6caac60aebe",
   "metadata": {},
   "outputs": [
    {
     "name": "stdout",
     "output_type": "stream",
     "text": [
      "Epoch: 0     | Train Loss: 0.6214879751205444 |      Test Loss: 0.6267053484916687\n",
      "Epoch: 20     | Train Loss: 0.39028292894363403 |      Test Loss: 0.3560003638267517\n",
      "Epoch: 40     | Train Loss: 0.1590779423713684 |      Test Loss: 0.08529539406299591\n",
      "Epoch: 60     | Train Loss: 0.03205766901373863 |      Test Loss: 0.06906308978796005\n",
      "Epoch: 80     | Train Loss: 0.025011956691741943 |      Test Loss: 0.057586606591939926\n",
      "Epoch: 100     | Train Loss: 0.01815875992178917 |      Test Loss: 0.04194672033190727\n",
      "Epoch: 120     | Train Loss: 0.011306680738925934 |      Test Loss: 0.02596352808177471\n",
      "Epoch: 140     | Train Loss: 0.004455573856830597 |      Test Loss: 0.00963632483035326\n",
      "Epoch: 160     | Train Loss: 0.0039666867814958096 |      Test Loss: 0.006543606519699097\n",
      "Epoch: 180     | Train Loss: 0.0039666867814958096 |      Test Loss: 0.006543606519699097\n",
      "Epoch: 200     | Train Loss: 0.0039666867814958096 |      Test Loss: 0.006543606519699097\n",
      "Epoch: 220     | Train Loss: 0.0039666867814958096 |      Test Loss: 0.006543606519699097\n",
      "Epoch: 240     | Train Loss: 0.0039666867814958096 |      Test Loss: 0.006543606519699097\n",
      "Epoch: 260     | Train Loss: 0.0039666867814958096 |      Test Loss: 0.006543606519699097\n",
      "Epoch: 280     | Train Loss: 0.0039666867814958096 |      Test Loss: 0.006543606519699097\n"
     ]
    }
   ],
   "source": [
    "epochs = 300\n",
    "\n",
    "X_train = X_train.to(device)\n",
    "X_test = X_test.to(device)\n",
    "\n",
    "y_train = y_train.to(device)\n",
    "y_test = y_test.to(device)\n",
    "\n",
    "for epoch in range(epochs):\n",
    "\n",
    "\n",
    "    ### TRAINING LOOP\n",
    "    model_0.train()\n",
    "    y_preds = model_0(X_train)\n",
    "    loss = loss_func(y_preds, y_train)\n",
    "    optimizer.zero_grad()\n",
    "    loss.backward()\n",
    "    optimizer.step()\n",
    "\n",
    "    ### TESTING LOOP\n",
    "\n",
    "    model_0.eval()\n",
    "    with torch.inference_mode():\n",
    "        test_preds = model_0(X_test)\n",
    "        test_loss = loss_func(test_preds, y_test)\n",
    "\n",
    "    if epoch % 20 == 0:\n",
    "        print(f\"Epoch: {epoch}     | Train Loss: {loss} |      Test Loss: {test_loss}\")"
   ]
  },
  {
   "cell_type": "code",
   "execution_count": 13,
   "id": "bb08e9c9-4319-4f7f-9425-8b7f543f3a59",
   "metadata": {},
   "outputs": [
    {
     "name": "stdout",
     "output_type": "stream",
     "text": [
      "OrderedDict([('linear_layer.weight', tensor([[0.9060]], device='cuda:0')), ('linear_layer.bias', tensor([0.3016], device='cuda:0'))])\n"
     ]
    }
   ],
   "source": [
    "print(model_0.state_dict())"
   ]
  },
  {
   "cell_type": "code",
   "execution_count": 21,
   "id": "8b75f22f-0f04-42e1-82eb-10288a4d406a",
   "metadata": {},
   "outputs": [
    {
     "data": {
      "text/plain": [
       "tensor([[1.0264],\n",
       "        [1.0355],\n",
       "        [1.0445],\n",
       "        [1.0536],\n",
       "        [1.0627],\n",
       "        [1.0717],\n",
       "        [1.0808],\n",
       "        [1.0898],\n",
       "        [1.0989],\n",
       "        [1.1080],\n",
       "        [1.1170],\n",
       "        [1.1261],\n",
       "        [1.1351],\n",
       "        [1.1442],\n",
       "        [1.1533],\n",
       "        [1.1623],\n",
       "        [1.1714],\n",
       "        [1.1804],\n",
       "        [1.1895],\n",
       "        [1.1986]], device='cuda:0')"
      ]
     },
     "execution_count": 21,
     "metadata": {},
     "output_type": "execute_result"
    }
   ],
   "source": [
    "model_0.eval()\n",
    "with torch.inference_mode():\n",
    "    test_preds = model_0(X_test)\n",
    "test_preds"
   ]
  },
  {
   "cell_type": "code",
   "execution_count": 24,
   "id": "785d0f47-e0ef-465a-896f-52038e447305",
   "metadata": {},
   "outputs": [
    {
     "data": {
      "image/png": "[encoded data removed]",
      "text/plain": [
       "<Figure size 1000x700 with 1 Axes>"
      ]
     },
     "metadata": {},
     "output_type": "display_data"
    }
   ],
   "source": [
    "plot_predictions(predictions=test_preds.cpu())"
   ]
  },
  {
   "cell_type": "code",
   "execution_count": 28,
   "id": "852565d1-2505-4bf3-b7b8-d6f27be46a39",
   "metadata": {},
   "outputs": [],
   "source": [
    "from pathlib import Path\n",
    "\n",
    "MODEL_PATH = Path(\"models\")\n",
    "MODEL_PATH.mkdir(parents=True, exist_ok=True)\n",
    "\n",
    "MODEL_NAME = \"exercise_model_0\"\n",
    "MODEL_SAVE_PATH = MODEL_PATH/MODEL_NAME \n",
    "\n",
    "torch.save(obj=model_0.state_dict(), f=MODEL_SAVE_PATH)"
   ]
  },
  {
   "cell_type": "code",
   "execution_count": 31,
   "id": "170beaa9-aa9a-4b71-833a-b45cd6c30edd",
   "metadata": {},
   "outputs": [
    {
     "data": {
      "text/plain": [
       "LinearRegressionModel(\n",
       "  (linear_layer): Linear(in_features=1, out_features=1, bias=True)\n",
       ")"
      ]
     },
     "execution_count": 31,
     "metadata": {},
     "output_type": "execute_result"
    }
   ],
   "source": [
    "model_1 = LinearRegressionModel()\n",
    "model_1.load_state_dict(torch.load(f=MODEL_SAVE_PATH))\n",
    "model_1.to(device)"
   ]
  },
  {
   "cell_type": "code",
   "execution_count": 33,
   "id": "3ff9d367-1f80-44bf-a5cb-fb9caa04acd8",
   "metadata": {},
   "outputs": [
    {
     "data": {
      "text/plain": [
       "tensor([[True],\n",
       "        [True],\n",
       "        [True],\n",
       "        [True],\n",
       "        [True],\n",
       "        [True],\n",
       "        [True],\n",
       "        [True],\n",
       "        [True],\n",
       "        [True],\n",
       "        [True],\n",
       "        [True],\n",
       "        [True],\n",
       "        [True],\n",
       "        [True],\n",
       "        [True],\n",
       "        [True],\n",
       "        [True],\n",
       "        [True],\n",
       "        [True]], device='cuda:0')"
      ]
     },
     "execution_count": 33,
     "metadata": {},
     "output_type": "execute_result"
    }
   ],
   "source": [
    "model_1.eval()\n",
    "with torch.inference_mode():\n",
    "    test_preds_1 = model_1(X_test)\n",
    "test_preds_1 == test_preds"
   ]
  },
  {
   "cell_type": "code",
   "execution_count": null,
   "id": "09888d8f-bc64-4c1f-8c51-3dfc710cc925",
   "metadata": {},
   "outputs": [],
   "source": []
  }
 ],
 "metadata": {
  "kernelspec": {
   "display_name": "Python 3 (ipykernel)",
   "language": "python",
   "name": "python3"
  },
  "language_info": {
   "codemirror_mode": {
    "name": "ipython",
    "version": 3
   },
   "file_extension": ".py",
   "mimetype": "text/x-python",
   "name": "python",
   "nbconvert_exporter": "python",
   "pygments_lexer": "ipython3",
   "version": "3.10.11"
  }
 },
 "nbformat": 4,
 "nbformat_minor": 5
}
