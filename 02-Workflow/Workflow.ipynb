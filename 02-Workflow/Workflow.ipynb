{
 "cells": [
  {
   "cell_type": "markdown",
   "id": "abca2020-b5b8-45f6-b51f-926875d8de24",
   "metadata": {},
   "source": [
    "**Workflow Fundamentals - Introduction**"
   ]
  },
  {
   "cell_type": "markdown",
   "id": "1ce4e2fd-cd1a-43e4-82f8-c126ffe40d4d",
   "metadata": {},
   "source": [
    "The most basic idea of how machine learning and deep learning works is to take data from the past, build an algorithm (neural network) to discover the patters that is in the data and use these patterns to calculate predictions. There are many ways to recognize these patterns and more are being discovered as research continues.\n",
    "\n",
    "But, there's no reason for us to go deep into these things yet. Let's start small.\n",
    "\n",
    "We'll see if we can build a PyTorch model that can reccognize the patterns of a straight line and match it. "
   ]
  },
  {
   "cell_type": "markdown",
   "id": "2780d0a1-311a-4f1e-aee8-0f22c7517bf7",
   "metadata": {},
   "source": [
    "**Coverage**\n",
    "\n",
    "Basically, this entire chapter will be split into 6 steps. Let's start breaking it down:\n",
    "\n",
    "1. **Getting Data Ready** - Data can be taken in any shape and form. However, in this case, it's going to be just a simple straight line.\n",
    "   \n",
    "2. **Building a Model** - The model will be the one to recognize patterns in the data. It'll be the one to create predictions. So in this step it'll be a bit more in-depth. We're going to need a *loss function* and a *optimizer* to form a training loop.\n",
    "   \n",
    "3. **Fitting The Model To Data - Training** - Now that we have a model and data. We're going to need to find away for our model to identify the patterns in the *training data* that we have.\n",
    "\n",
    "4. **Making Predictions & Evaluating a Model - Inference** - Once our model has identified patterns and have created predictions, we need to evaluate these predictions that it's making. We can do this by comparing the predictions to our *testing data*.\n",
    "\n",
    "5. **Saving & Loading a Model** - If you want to use your model elsewhere or share it. We need to save and load it. We'll be tackling that in this section.\n",
    "\n",
    "6. **Putting it Together** - We'll be combining all these steps into one."
   ]
  },
  {
   "cell_type": "markdown",
   "id": "c0385088-1b05-4d4d-9acb-83105c3bb02e",
   "metadata": {},
   "source": [
    "**Getting Started**\n",
    "\n",
    "First, we need to make sure that we can remind ourselves about this entire process. So we'll make this into a dictionary so that we can put this up anytime we need it without having to scroll all the way up."
   ]
  },
  {
   "cell_type": "code",
   "execution_count": 1,
   "id": "443bb67c-f539-473c-bab9-55eda373275e",
   "metadata": {},
   "outputs": [],
   "source": [
    "chapter_coverage = {\n",
    "    1: \"Data - Prepare & Load\",\n",
    "    2: \"Fitting Model To Data - Training\",\n",
    "    3: \"Making Predictions & Evaluation of Predictions - Inference\",\n",
    "    4: \"Saving & Loading a Model\",\n",
    "    5: \"Putting it Together\",\n",
    "}"
   ]
  },
  {
   "cell_type": "markdown",
   "id": "d5ab6de9-cd4a-4b0d-a152-48913a6c4a0e",
   "metadata": {},
   "source": [
    "Let's first start off with the imports. Naturally, we'll impot torch. But at the same time we have to import *torch.nn* - The *nn* stands for neural network and it includes all that we need for creating a neural network in PyTorch. We'll also import matplotlib for visualization of our data."
   ]
  },
  {
   "cell_type": "code",
   "execution_count": 2,
   "id": "0d9e6f33-d812-49cb-a61f-b2b649eebe88",
   "metadata": {
    "scrolled": true
   },
   "outputs": [
    {
     "data": {
      "text/plain": [
       "'2.1.2+cu121'"
      ]
     },
     "execution_count": 2,
     "metadata": {},
     "output_type": "execute_result"
    }
   ],
   "source": [
    "import torch\n",
    "import matplotlib.pyplot as plt\n",
    "from torch import nn\n",
    "torch.__version__"
   ]
  },
  {
   "cell_type": "markdown",
   "id": "c2a571a2-36a1-49bc-9b51-c9d3cd48b06a",
   "metadata": {},
   "source": [
    "**Preparing Data**\n",
    "\n",
    "It is important to always remember that 'data' can take the form of almost anything possible. Tables of numbers such as those in excel spreadsheets, YouTube videos, audio files for music or podcasts, images, text, protein structures (DNA), and many more. \n",
    "\n",
    "So we have all these data. What do we do with it?\n",
    "\n",
    "1. We turn our data into numbers - a representation of it in number-form. \n",
    "2. We choose / build a model to learn these representations of the data as best as possible.\n",
    "\n",
    "We can do both at the same time. Now, what if we don't have data?\n",
    "\n",
    "No problem, we can make our data. Since we're making a straight line. Let's go ahead and do that. We'll be using linear regression to create the data with known *parameters* / *weights* - these are things that can be learned by a model. Then using PyTorch, we'll check if we can build a model to estimate these parameters using gradient descent. \n",
    "\n",
    "**NOTE:** Linear regression is as simple as trying to find the shortest and best-fitting path from point A to point B.\n"
   ]
  },
  {
   "cell_type": "code",
   "execution_count": 3,
   "id": "edf701f8-3419-43a1-9f2f-80160df3d5ce",
   "metadata": {},
   "outputs": [
    {
     "data": {
      "text/plain": [
       "(tensor([[0.0000],\n",
       "         [0.0200],\n",
       "         [0.0400],\n",
       "         [0.0600],\n",
       "         [0.0800],\n",
       "         [0.1000],\n",
       "         [0.1200],\n",
       "         [0.1400],\n",
       "         [0.1600],\n",
       "         [0.1800]]),\n",
       " torch.Size([50, 1]),\n",
       " tensor([[0.3000],\n",
       "         [0.3140],\n",
       "         [0.3280],\n",
       "         [0.3420],\n",
       "         [0.3560],\n",
       "         [0.3700],\n",
       "         [0.3840],\n",
       "         [0.3980],\n",
       "         [0.4120],\n",
       "         [0.4260]]),\n",
       " torch.Size([50, 1]))"
      ]
     },
     "execution_count": 3,
     "metadata": {},
     "output_type": "execute_result"
    }
   ],
   "source": [
    "# creating 'known' parameters\n",
    "weight = 0.7\n",
    "bias = 0.3\n",
    "\n",
    "# creating data\n",
    "start = 0\n",
    "end = 1\n",
    "step = 0.02\n",
    "\n",
    "X = torch.arange(start, end, step).unsqueeze(dim=1)\n",
    "y = weight * X + bias\n",
    "\n",
    "X[:10], X.shape, y [:10], y.shape"
   ]
  },
  {
   "cell_type": "markdown",
   "id": "c6ae33b3-6c64-41a3-be03-a7e4e6a53372",
   "metadata": {},
   "source": [
    "So as we can see, X has 50 rows in a single column. If we put 0 instead of 1 in the unsqueeze function it would show [1, 50] instead which is 1 row of 50 columns. But that won't show exactly 50 because it would be truncated for display purposes. \n",
    "\n",
    "In anycase, now that we have our X - features and y - labels. We need to buil a model that can learn the relatiomship between these two. "
   ]
  },
  {
   "cell_type": "markdown",
   "id": "2fc977c5-0cdd-49a7-8daa-5a49507106a5",
   "metadata": {},
   "source": [
    "**Splitting Data - Training & Test Sets**\n",
    "\n",
    "Now that we have created our data, we need to split our data into three different sets. These are the followig:\n",
    "\n",
    "1. Training Set - The model learns from this data | 60 - 80% of total data | REQUIRED\n",
    "2. Validation Set - The model gets tuned on this data  | 10 - 20% of total data | Important! \n",
    "3. Testing Set - The model is evaluated on this data | 10 - 20% of total data | REQUIRED\n",
    "\n",
    "You can think of validation set as taking a quiz while testing set is akin to taking an exam. \n",
    "\n",
    "For now, we'll be fine with just the training and testing set. That way we can have our datasets for the model to be trained and evaluated on. We'll start by splitting our X and Y tensors. Usually, for already prepped datasets, these are already stored on different folders. But here since we're making our data ourselves, we'll have to manually split some off our created data. \n",
    "\n",
    "**NOTE:** It is very important that data we are going to use for the training set is kept away at the start and unseen by the model. This is so that we can check if our model is overfitting. That means that the model is trained to only identify the images in the training set and is incapable of recognizing general patterns that we want. Remember that we want to recognize general patterns of the data that we are using. "
   ]
  },
  {
   "cell_type": "code",
   "execution_count": 4,
   "id": "95e518d6-fdfe-4bd3-ad1d-0748bbaa79f8",
   "metadata": {},
   "outputs": [
    {
     "data": {
      "text/plain": [
       "(40, 40, 10, 10)"
      ]
     },
     "execution_count": 4,
     "metadata": {},
     "output_type": "execute_result"
    }
   ],
   "source": [
    "train_split = int(0.8 * len(X))  # 80% of data used for training set, 20% used for testing set.\n",
    "X_train, y_train = X[:train_split], y[:train_split]\n",
    "X_test, y_test = X[train_split:], y[train_split:]\n",
    "\n",
    "len(X_train), len(y_train), len(X_test), len(y_test)"
   ]
  },
  {
   "cell_type": "markdown",
   "id": "38fdf9df-533a-446e-bde9-0ffa73e4e72e",
   "metadata": {},
   "source": [
    "We have now successfully split our samples into 40 for the training set and 10 for the testing set. So our model will utilize the *X_train* & *y_train*. It will determine the relationship between these two. Afterwards, we will test what it has learned from this using our *X_test* and *y_test* dataset.\n",
    "\n",
    "Going back to our data, it's a bit hard to understand considering that it's all just a set of numbers. Since we're dealing with lines, let's try to graph it out using matplotlib. \n",
    "\n",
    "Starting by creating a function to visualize it. "
   ]
  },
  {
   "cell_type": "code",
   "execution_count": 5,
   "id": "955fd126-4dc1-4279-9670-8670ce529654",
   "metadata": {},
   "outputs": [],
   "source": [
    "def plot_predictions(train_data=X_train,\n",
    "                     train_labels=y_train,\n",
    "                     test_data=X_test,\n",
    "                     test_labels=y_test,\n",
    "                     predictions = None\n",
    "                    ):\n",
    "\n",
    "    # This plots the training and testing data. In addition it also compares predictions.\n",
    "\n",
    "    plt.figure(figsize=(10,7))\n",
    "    \n",
    "    # Plots training data in blue\n",
    "    plt.scatter(train_data, train_labels, c=\"b\", s=4, label=\"Training Data\")\n",
    "    \n",
    "    # Plots testing data in green\n",
    "    plt.scatter(test_data, test_labels, c=\"g\", s=4, label=\"Testing Data\")\n",
    "    \n",
    "    \n",
    "    if predictions is not None:\n",
    "        # Plots the predictions in red - if there are predictions made on the test data\n",
    "        plt.scatter(test_data, predictions, c=\"r\", s=4, label=\"Predictions\")\n",
    "    \n",
    "    plt.legend(prop={\"size\": 14});"
   ]
  },
  {
   "cell_type": "code",
   "execution_count": 6,
   "id": "c9cde5ce-adce-4b5c-b090-a3ccc7e2d42f",
   "metadata": {},
   "outputs": [
    {
     "data": {
      "image/png": "[encoded data removed]",
      "text/plain": [
       "<Figure size 1000x700 with 1 Axes>"
      ]
     },
     "metadata": {},
     "output_type": "display_data"
    }
   ],
   "source": [
    "plot_predictions()"
   ]
  },
  {
   "cell_type": "code",
   "execution_count": 7,
   "id": "482bf29b-4b04-4875-a5a7-c547a172a9e9",
   "metadata": {},
   "outputs": [
    {
     "name": "stdout",
     "output_type": "stream",
     "text": [
      "Train Min Value: 0.30000001192092896\n",
      "Train Max Value: 0.7799999713897705\n",
      "Test Min Value: 0.8600000143051147\n",
      "Test Max Value: 0.9800000190734863\n"
     ]
    }
   ],
   "source": [
    "train_maxValue = X_train.max()\n",
    "train_minValue = y_train.min()\n",
    "\n",
    "test_maxValue = X_test.max()\n",
    "test_minValue = y_test.min()\n",
    "\n",
    "print(f\"Train Min Value: {train_minValue}\")\n",
    "print(f\"Train Max Value: {train_maxValue}\")\n",
    "print(f\"Test Min Value: {test_minValue}\")\n",
    "print(f\"Test Max Value: {test_maxValue}\")"
   ]
  },
  {
   "cell_type": "markdown",
   "id": "7240de78-9579-4834-a263-74a50e04be32",
   "metadata": {},
   "source": [
    "It's a straight line! Starting from 0.3 to nearly 1. We can notice that Train dataset stops near 8 because that's 80% of what we specified while the remaining 20% is on Test dataset. It's a lot easier to work with things if they are visualized. So it's really great if you can make work with matplotlib. "
   ]
  },
  {
   "cell_type": "markdown",
   "id": "8d3cd6c6-79a5-427b-a192-ab528a18ee8f",
   "metadata": {},
   "source": [
    "**Building The Model**"
   ]
  },
  {
   "cell_type": "markdown",
   "id": "3e8ad17c-33d7-4429-b58d-d20cb1ba51b2",
   "metadata": {},
   "source": [
    "Not that we have our data, we'll use the blue dots (80% of our training data) to predict the green dots (the remaining 20% in the test set). \n",
    "We'll create a standard linear regression model using pure PyTorch. Basically we'll be creating a line model."
   ]
  },
  {
   "cell_type": "code",
   "execution_count": 8,
   "id": "8330e5fd-6b8b-4178-b385-70767b0ae14b",
   "metadata": {},
   "outputs": [],
   "source": [
    "# Creating a linear regression model class\n",
    "\n",
    "class LinearRegressionModel(nn.Module): # Almost everything in PyTorch is a nn.Module. Think of these as Lego blocks that you use to assemble.\n",
    "    def __init__(self):\n",
    "        super().__init__()\n",
    "        # Random weight & bias are always set at start as this will just be adjusted during the training mode\n",
    "        self.weights = nn.Parameter(torch.randn(1, dtype=torch.float32, requires_grad=True))\n",
    "        self.bias = nn.Parameter(torch.randn(1, dtype=torch.float32, requires_grad=True))\n",
    "                                    \n",
    "    # Forward defines the computation in the model\n",
    "    def forward(self, x: torch.Tensor) -> torch.Tensor: # <- \"x\" is the input data (training/testing features)\n",
    "        return self.weights * x + self.bias # <- the linear regression formula (y = m*x + b)"
   ]
  },
  {
   "cell_type": "markdown",
   "id": "8e72eea7-0e03-4548-bf3d-121e1cd4588d",
   "metadata": {},
   "source": [
    "LinearRegressionModel is a child of the nn.Module class. That is described by the super().__init__() is coming from. It has two attributes which are the weights and bias that are randomly generated and are tracked by PyTorch using requires_grad. \n",
    "\n",
    "Forward is the calculation method of the model. This is where the predictions are made from the training/testing datasets using the formula provided by linear regression. *x: torch.Tensor* is a typehint wherein this just simply describes that the x should be of type *torch.Tensor*. The *-> torch.Tensor:* is also a typehint that indicates that the output of the functin is also a *torch.Tensor*. These do not affect the runtime of the code. It's purpose is simply for easier readability.\n"
   ]
  },
  {
   "cell_type": "markdown",
   "id": "e3e9d188-a188-4a5b-890f-19ac14c2b919",
   "metadata": {},
   "source": [
    "**PyTorch Model Building Essentials**\n",
    "\n",
    "There are four (give or take) critical modules that you can use to create almost any kind of neural network that you want. These are the following: *torch.nn*, *torch.optim*, *torch.utils.data.Dataset*, *torch.utils.data.DataLoader*. We'll discuss about the first two then later on for the latter. "
   ]
  },
  {
   "cell_type": "markdown",
   "id": "41104628-ee64-405a-b3c6-27dbf04815cc",
   "metadata": {},
   "source": [
    "1. *torch.nn* - This contains many functions and classes to build neural networks from activation layers to loss functions and many more. It is primarily a namespace for building neural networks. If you want access to predefined layers, functions, and utilities. It's all here.\n",
    " \n",
    "3. *torch.nn.Parameter* - Stores tensors that can be used with the nn.Module. If specifed with the condition of *requires_grad=True*. PyTorch will track all the operations conducted. Gradients are used for updating model parameters. **Note:** Parameters/Weights are used interchangeably.\n",
    "   \n",
    "4. *torch.nn.Module* - This is the base class for all neural network modules. All the neural network building blocks are subclasses. When building a neural network in PyTorch, models should be subclasses of the nn.Module. Requires a forward() method be implemented. If you want to make your own custom neural network, you subclass it to *torch.nn.Module*.\n",
    "   \n",
    "5. *torch.optim* - This contains many optimization algorithms. These algorithms are the one's that improve the loss rate and update the model parameters in *nn.Parameters*. Examples are Stochastic Gradient Descent or SGD.\n",
    "   \n",
    "6. *def forward()* - All nn.Module subclasses require a forward() method. This defines the computation that happens on the data going through the *nn.Module* (e.g linear regression formula)\n",
    "\n",
    "**Note:** Subclasses are another means of saying that this is a class that is derived from a base class or it is a child of a parent class. "
   ]
  },
  {
   "cell_type": "markdown",
   "id": "8801f844-7b53-4fed-8a34-e1ae41c2855f",
   "metadata": {},
   "source": [
    "Sounds a bit complicated so let's tone it down into these:\n",
    "\n",
    "**nn.Module**: This is the base class for all neural network modules, which can be thought of as large building blocks or layers.\n",
    "\n",
    "**nn.Parameter**: This represents the parameters (weights and biases) of a neural network. When combined with other components within an *nn.Module*, they define the behavior of the network.\n",
    "\n",
    "**forward()**: The forward() method defines how the *nn.Module processes* input data (tensors). It’s the core of the module where the computation is defined.\n",
    "\n",
    "**torch.optim**: This module provides optimization algorithms that adjust the parameters (in *nn.Parameter*) to minimize the loss function, thereby improving the model’s pattern recognition from the input data."
   ]
  },
  {
   "cell_type": "markdown",
   "id": "d98fd161-7b5b-4ed1-8295-be547f2920ba",
   "metadata": {},
   "source": [
    "![Display](images/01-pytorch-linear-model-annotated.png \"Review of Earlier Code\")"
   ]
  },
  {
   "cell_type": "markdown",
   "id": "dd61dab0-5558-4426-88f1-0cb5e05e7517",
   "metadata": {},
   "source": [
    "**Checking The Contents of a PyTorch Model**"
   ]
  },
  {
   "cell_type": "markdown",
   "id": "17882218-7b2e-4c4e-a0d2-822d3fda9ed1",
   "metadata": {},
   "source": [
    "Let's create an instance of the a model using the LinearRegressionModel class that we defined earlier. Let's check the paramters using *.parameters()*. Keep in mind that *nn.Parameter* is different from *parameters()*. The former is a class that is used to create weights and biases while the latter is used to access the parameters of a model"
   ]
  },
  {
   "cell_type": "code",
   "execution_count": 9,
   "id": "7d605472-8f67-40c1-bd95-9490c3baef1b",
   "metadata": {},
   "outputs": [
    {
     "data": {
      "text/plain": [
       "[Parameter containing:\n",
       " tensor([0.3367], requires_grad=True),\n",
       " Parameter containing:\n",
       " tensor([0.1288], requires_grad=True)]"
      ]
     },
     "execution_count": 9,
     "metadata": {},
     "output_type": "execute_result"
    }
   ],
   "source": [
    "# We set the manual seed for nn.Parameter. It's randomly generated but by using a seed, we can make it not so random.\n",
    "torch.manual_seed(42)\n",
    "# This creates an instance of the model - a subclass of nn.Module that contains nn.Parameter()\n",
    "model_0 = LinearRegressionModel()\n",
    "# Let's take a look at the parameters within the model_0 - nn.Module subclass. \n",
    "list(model_0.parameters())"
   ]
  },
  {
   "cell_type": "markdown",
   "id": "1125892a-0ab9-42ec-93a2-a6ccd0192d33",
   "metadata": {},
   "source": [
    "We can also check what the model contains inside using *.state_dict()*"
   ]
  },
  {
   "cell_type": "code",
   "execution_count": 10,
   "id": "edc60e58-6618-4265-bb75-7057d105b17f",
   "metadata": {},
   "outputs": [
    {
     "data": {
      "text/plain": [
       "OrderedDict([('weights', tensor([0.3367])), ('bias', tensor([0.1288]))])"
      ]
     },
     "execution_count": 10,
     "metadata": {},
     "output_type": "execute_result"
    }
   ],
   "source": [
    "model_0.state_dict()"
   ]
  },
  {
   "cell_type": "markdown",
   "id": "8f984940-01e5-4d62-bd9a-f3664c322d43",
   "metadata": {},
   "source": [
    "Notice how the weights and bias are random float tensors? Remember that we specified the creation of these parameters with *torch.randn()* earlier in the class definition. It is important that we start from random because we'll still use the model to update these values to fit our data best. \n",
    "\n",
    "Luckily, we're not really making it too random because we can set our manual_seed meaning that while it is random, it's well within our means of being able to track the values. Since these are random values, obviously it wouldn't really do well when it comes to predicting."
   ]
  },
  {
   "cell_type": "markdown",
   "id": "ba6dd5dd-55a0-422f-a1d7-cde6f48fe934",
   "metadata": {},
   "source": [
    "**Making Predictions**"
   ]
  },
  {
   "cell_type": "markdown",
   "id": "9d10f3c8-77de-49ae-82dc-07e2d0e9894e",
   "metadata": {},
   "source": [
    "Let's start making predictions with our initialized random weights & bias. \n",
    "\n",
    "**NOTE:** Bias can be a fixed value and it can also be a random value that is being updated by the model similiar to weights. Both are acceptable approaches to use. If you want to have more control with the model then you can set the bias yourself. You can do this by setting *torch.requires_grad*\n",
    "\n",
    "We can start making predictions by utilizing the torch.inference_mode(). We pass it our X_test data to see how it close it is in predicting our y_test labels. So it's making predictions for our X_test data (which it has never seen before) and then it compares that to y_test labels (ground truth). \n",
    "\n",
    "When we pass our data to the model, it'll go through the model's forward() method and produce a result using the computation we've defined, in this case our linear regression formula."
   ]
  },
  {
   "cell_type": "code",
   "execution_count": 11,
   "id": "15535bbc-2d5e-4146-bd6e-54f4be837e0a",
   "metadata": {},
   "outputs": [],
   "source": [
    "# Make predictions with model\n",
    "with torch.inference_mode():\n",
    "    y_preds = model_0 (X_test)\n",
    "\n",
    "# In older PyTorch code, torch.no_grad() is also used. "
   ]
  },
  {
   "cell_type": "markdown",
   "id": "42750770-ec06-4315-971d-7e2553226ed7",
   "metadata": {},
   "source": [
    "We used *torch.inference_mode()* as a context manager (that's why there is a *with* preceeding it) to make the predictions. As the name suggests (inference is the same as making predictions), this function creates predictions for us. At the same time, it also turns off some features that are resource heavy such as gradient tracking which is necessary for learning but not for making predictions. These 'optimizations' make the forward-pass (data going through the forward() method) much faster.\n",
    "\n",
    "**NOTE:** Prior to *torch.inference_mode()* there also existed a similiar function called *torch.no_grad()*. However, there are are more benefits to using *torch.inference_mode()* as it is newer, faster, and generally preferred.\n",
    "\n",
    "Since we've created our predictions, let's take a look at them!"
   ]
  },
  {
   "cell_type": "code",
   "execution_count": 12,
   "id": "129d90cd-f1ae-469f-85d4-8e33114357ba",
   "metadata": {},
   "outputs": [
    {
     "name": "stdout",
     "output_type": "stream",
     "text": [
      "Number of Testing Samples: 10\n",
      "Number of Predictions Made: 10\n",
      "Predicted Values:\n",
      "tensor([[0.3982],\n",
      "        [0.4049],\n",
      "        [0.4116],\n",
      "        [0.4184],\n",
      "        [0.4251],\n",
      "        [0.4318],\n",
      "        [0.4386],\n",
      "        [0.4453],\n",
      "        [0.4520],\n",
      "        [0.4588]])\n"
     ]
    }
   ],
   "source": [
    "print(f\"Number of Testing Samples: {len(X_test)}\")\n",
    "print(f\"Number of Predictions Made: {len(y_preds)}\")\n",
    "print(f\"Predicted Values:\\n{y_preds}\")"
   ]
  },
  {
   "cell_type": "markdown",
   "id": "00739734-d32c-41a7-a32a-c31a1620a34e",
   "metadata": {},
   "source": [
    "Notice that there is one prediction for each testing sample that we've provided. That's because of the data that we are using. Since we're dealing with a straight line, one X value maps to one y value. \n",
    "\n",
    "However, machine learning models are flexible and can handle many more mappings. For example, you can have 100 X values mapping to one, two, or three, etc. y values. It all depends on the data that you're working with. \n",
    "\n",
    "Since we have our predictions, let's try visualizing them to see how well we did."
   ]
  },
  {
   "cell_type": "code",
   "execution_count": 13,
   "id": "8a55a9d0-9f23-4721-aa55-0f7f32dabf0e",
   "metadata": {},
   "outputs": [
    {
     "data": {
      "image/png": "[encoded data removed]",
      "text/plain": [
       "<Figure size 1000x700 with 1 Axes>"
      ]
     },
     "metadata": {},
     "output_type": "display_data"
    }
   ],
   "source": [
    "plot_predictions(predictions=y_preds)"
   ]
  },
  {
   "cell_type": "code",
   "execution_count": 14,
   "id": "f4adb70c-57c0-44f0-b93e-fa05dfe44500",
   "metadata": {},
   "outputs": [
    {
     "data": {
      "text/plain": [
       "tensor([[0.4618],\n",
       "        [0.4691],\n",
       "        [0.4764],\n",
       "        [0.4836],\n",
       "        [0.4909],\n",
       "        [0.4982],\n",
       "        [0.5054],\n",
       "        [0.5127],\n",
       "        [0.5200],\n",
       "        [0.5272]])"
      ]
     },
     "execution_count": 14,
     "metadata": {},
     "output_type": "execute_result"
    }
   ],
   "source": [
    "# We're calculating the distance from our the our y_test (labels) - ground truth to our predictions in y_preds (label predictions).\n",
    "y_test - y_preds"
   ]
  },
  {
   "cell_type": "markdown",
   "id": "efb65591-adf4-4d6b-93b6-b645d214caa1",
   "metadata": {},
   "source": [
    "We're not even close. But that's alright since we were working with random values. That's like randomly guessing. We can fix that by updating our parameters. Our parameters are the weights and biases that we've set using *nn.Parameter()* and *torch.randn()*. We can change these two into something that actually represents our data. \n",
    "\n",
    "We could hardcode our weights and biases to get this to work exactly we want. Remember how we created the line? We specified weights = 0.7 and the bias = 0.3. But, that defeats the purpose of machine learning if we're just going to set it ourselves. It's a lot more fun if it can manage to figure that out itself. So let's try making it do exactly that.\n",
    "\n",
    "In anycase, majority of the time, we won't even know the ideal parameters for the model and that's okay because our model's job is to figure that out. "
   ]
  },
  {
   "cell_type": "markdown",
   "id": "cd382735-261f-44f8-871e-85407f646d6a",
   "metadata": {},
   "source": [
    "**Creating a Loss Function & Optimizer in PyTorch**"
   ]
  },
  {
   "cell_type": "markdown",
   "id": "dfd59612-1f52-4191-9237-36a68eca7be9",
   "metadata": {},
   "source": [
    "Let's start by working with a loss function and optimizer to make our model learn! But let's take a deeper look into these two first."
   ]
  },
  {
   "cell_type": "markdown",
   "id": "067e8340-3c9b-406e-8f55-a2f46182a002",
   "metadata": {},
   "source": [
    "1. **Loss Function**\n",
    "\n",
    "**What does it do?** It answers the question of how wrong the predictions of the model (y_preds) are compared to the truth labels (y_test). Typically, a lower value for the loss is better. The loss is the output of the loss function.\n",
    "\n",
    "**Where is it in PyTorch?** You can access this *torch.nn*. There are plenty of built-in loss functions that you can choose from.\n",
    "\n",
    "**Common Examples:** Mean Absolute Error - Regression Problems = *torch.nn.L1Loss()*, Binary Cross Entropy - Binary Classification Problems = *torch.nn.BCELoss()*\n",
    "\n",
    "2. **Optimizer**\n",
    "\n",
    "**What does it do?** Tells your models how to update its internal parameters (bias & weights) to lower the loss.\n",
    "\n",
    "**Where is it in PyTorch?** You can access this in *torch.optim*. There are plenty of optimization functions you can choose from here.\n",
    "\n",
    "**Common Examples:** Stochastic Gradient Descent = *torch.optim.SGD()*, Adam Optimizer = *torch.optim.Adam()*\n",
    "\n",
    "Basically, we get the loss from our loss function which tells our model how wrong it is on the predictions that it's made from the forward-pass. We then take this loss and pass it to our optimizer which calculates how we can update the parameters (weights & bias) to hopefully get a lower loss error."
   ]
  },
  {
   "cell_type": "markdown",
   "id": "c61ec6ee-b236-4b0b-a937-766a0f594bef",
   "metadata": {},
   "source": [
    "Your loss function and optimizer will change depending on the data and the problem that you are trying to solve. Typically, it is split into two. Regression problems which require a model to predict what is the next value using the previous values. Example of this is a weather temperature prediction, or in our case right now, a prediction for the next value of our line. \n",
    "\n",
    "The other problem is classification. This requires a model to predict between discrete class labels. Going with our previous example of the weather, classification would be trying to predict if tomorrow will rain or not or would it be hot or cold. Another example would be for it to detect if an image is of a dog or not a dog.\n",
    "\n",
    "However, there are common values that are known to work well such as SGD (stochastic gradient descent) / Adam Optimizer. There is also the Mean Absolute Error loss function for regression (predicting a number) or Binary Cross Entropy loss function for classification (predicting one thing or another).\n",
    "\n",
    "Since we're dealing with a number, let's use MAE which can be accessed by *torch.nn.L1Loss()* in PyTorch."
   ]
  },
  {
   "cell_type": "markdown",
   "id": "a46ccde9-d339-4add-bae5-9257e38bf09c",
   "metadata": {},
   "source": [
    "![Display](images/01-mae-loss-annotated.png \"Mean Absolute Error\")"
   ]
  },
  {
   "cell_type": "markdown",
   "id": "ae4e9c55-9465-4088-a5ba-c412858751e9",
   "metadata": {},
   "source": [
    "1. Mean Absolute Difference / *torch.nn.L1Loss*: This calculates the absolte difference between two points (predictions & labels) and then takes the mean of the results of all the points. Basically, it's pretty good in calculating the distance between our predictions and labels. \n",
    "\n",
    "2. Stochastic Gradient Descent / *torch.optim.SGD(params, lr)*: This is a function where gradients are calculated on a curve. This uses derivatives to descend down the steepest point bit by bit by utilizing the learning rate.\n",
    "\n",
    "**params** - is the target model parameters which we want to optimize. These are the weights and biases which we want to update.\n",
    "\n",
    "**lr** - is the learning rate that we want to specify. Higher values means that it will try large 'jump's to go down the curve faster. However this can cause issues because it might overshoot. Lower values means that it will try smaller steps but it might take longer and thus be resource-intensive. The learning rate is considered a *hyperparameter* since we are the one's (machine learning engineer )to set it up. Common values that we can decide on ar 0.01, 0.001, 0.0001. "
   ]
  },
  {
   "cell_type": "code",
   "execution_count": 15,
   "id": "d8f39961-fc3b-49bf-b023-131fc517f364",
   "metadata": {},
   "outputs": [],
   "source": [
    "loss_fn = nn.L1Loss()\n",
    "optimizer = torch.optim.SGD(model_0.parameters(), lr=0.01)"
   ]
  },
  {
   "cell_type": "markdown",
   "id": "c026ed1a-8956-46ad-baed-bb3d41bd8f6f",
   "metadata": {},
   "source": [
    "**Creating an Optimization Loop in PyTorch**"
   ]
  },
  {
   "cell_type": "markdown",
   "id": "443b273b-deac-4e2e-ab7e-4a04ef23f1c5",
   "metadata": {},
   "source": [
    "Now that we've picked our loss function and optimizer. We technically have all that we need to start learning. We just need to REPEAT, REPEAT, REPEAT the entire proces. Basically, we now need to make a loop for all these to happen in one go. The optimization loop is technically comprised of two loops. \n",
    "\n",
    "**The training loop** involves the model to run through the training data and recognizing the patterns between features and labels.\n",
    "**The testing loop** involves going through the testing data and evaluating the patterns (predictions) that the model has learned on the training data. Remember that the model has never seen the testing data. \n",
    "\n",
    "Each of these is called a 'loop' because we want our model to loop through at each sample in each dataset. We're going to use a simple Python for loop for this. In addition, there's also the unofficial optimization loop song that you can sing to remember the entire process."
   ]
  },
  {
   "cell_type": "markdown",
   "id": "962adf02-905c-4e20-bc1a-6d9c1646f78a",
   "metadata": {},
   "source": [
    "![Display](images/01-pytorch-optimization-loop-song.png \"Optimization Song!\")"
   ]
  },
  {
   "cell_type": "markdown",
   "id": "687a26c5-d9b9-4d45-84e3-79d434a3e2ca",
   "metadata": {},
   "source": [
    "**PyTorch Training Loop**"
   ]
  },
  {
   "cell_type": "markdown",
   "id": "a2812abd-e6aa-46f6-936d-f4f6f652e054",
   "metadata": {},
   "source": [
    "1. Forward Pass - The model goes through all the training data using the forward() function and **creates predictions**. Represented by *model(x_train)*\n",
    "\n",
    "2. Calculate Loss - The model's predictions are compared to the ground truth (training labels) and **evaluated to see how wrong** they are using the loss function and calculates the loss. Represented by *loss = loss_fn(y_pred, y_train)*\n",
    "   \n",
    "3. Zero Gradients - The optimizer's gradients are reset to zero. This is so that they don't add on each other per each loop. This is done so that the **gradients are calculated only for that specific training step**. Represented by *optimizer.zero_grad()*\n",
    "\n",
    "4. Perform Backpropagation on Loss - **Computes the gradients** of the loss per every parameter to be updated (one's that we specifed with requires_grad=True). Basically, we retrace the steps that we took in the forward pass that gave us our loss. Represented by: *loss.backward()*\n",
    "\n",
    "5. Update Optimizer (gradient descent) - **Updating the parameters** (weights & biases) that have *requires_grad=True* using the loss gradients. Represented By: *optimizer.step()*"
   ]
  },
  {
   "cell_type": "markdown",
   "id": "41ce37d7-fbf2-4b60-bbff-02ce37c8ea22",
   "metadata": {},
   "source": [
    "![Display](images/01-pytorch-training-loop-annotated.png \"Training Loop\")"
   ]
  },
  {
   "cell_type": "markdown",
   "id": "f29772a5-7fbb-45cf-8065-84444fc019eb",
   "metadata": {},
   "source": [
    "The above is one example of doing a training loop. However this can be quite flexible if you experiment with them. Here are some rules of thumb that you can use when working with the loop:\n",
    "\n",
    "1. Calculate the loss before backpropagation.\n",
    "2. Zero the gradients before stepping them.\n",
    "3. Step the optimizer after backpropagation.\n",
    "\n",
    "We're done with the training loop. Let's move on towards the testing loop."
   ]
  },
  {
   "cell_type": "markdown",
   "id": "ffe51eaf-b85c-4ef7-83ba-80537648338e",
   "metadata": {},
   "source": [
    "1. Forward Pass - The model goes through all the testing data using the forward() function and **creates predictions**. Represented by *model(x_test)*\n",
    "\n",
    "2. Calculate Loss - The model's predictions are compared to the ground truth (testing labels) and **evaluated to see how wrong** they are using the loss function and calculates the loss. Represented by *loss = loss_fn(y_pred, y_test)*\n",
    "\n",
    "3. Caculate Metrics - The loss is utilized by the model for it to learn how wrong it is but it isn't entirely great for human consumption. So it's best to evaluate using a different metric, for example, accuracy on the test set. This can be done by custom functions."
   ]
  },
  {
   "cell_type": "markdown",
   "id": "1b380696-b5c2-4b87-b58f-53fc2241a29b",
   "metadata": {},
   "source": [
    "Notice how the testing loop does not contain backpropagation *loss.backward* nor stepping the optimizer *optimzer.step()*. This is because we're not touching the parameters anymore because as the name suggests, we're testing the parameters on data that it hasn't seen yet. \n",
    "\n",
    "We've already optimized the weights in the training loop. Why is it so important to test on unseen data? So that we know that our model isn't only memorizing the training data, meaning that we trained it so much that it literally memorized our data. \n",
    "\n",
    "Remember that we want to recognize general patterns not memorize. That way we can use our model even on data that it has never seen before. That is the ultimate goal of machine learning."
   ]
  },
  {
   "cell_type": "markdown",
   "id": "a0773f31-7658-457e-b78f-6da23b992ad3",
   "metadata": {},
   "source": [
    "![Display](images/01-pytorch-testing-loop-annotated.png \"Training Loop\")"
   ]
  },
  {
   "cell_type": "markdown",
   "id": "6052f9d8-35da-49f0-a4e9-d504ebb67be0",
   "metadata": {},
   "source": [
    "Let's merge everything now and train our model for 100 epochs (number of forward passes through the data) and we'll evaluate it for every 10 epochs."
   ]
  },
  {
   "cell_type": "code",
   "execution_count": 16,
   "id": "33cbc7c0-4377-4b18-b4e5-3f059fcb0b6c",
   "metadata": {},
   "outputs": [
    {
     "name": "stdout",
     "output_type": "stream",
     "text": [
      "Epoch: 0 | MAE Train Loss: 0.31288138031959534 | MAE Test Loss: 0.48106518387794495\n",
      "Epoch: 10 | MAE Train Loss: 0.1976713240146637 | MAE Test Loss: 0.3463551998138428\n",
      "Epoch: 20 | MAE Train Loss: 0.08908725529909134 | MAE Test Loss: 0.21729660034179688\n",
      "Epoch: 30 | MAE Train Loss: 0.053148526698350906 | MAE Test Loss: 0.14464017748832703\n",
      "Epoch: 40 | MAE Train Loss: 0.04543796554207802 | MAE Test Loss: 0.11360953003168106\n",
      "Epoch: 50 | MAE Train Loss: 0.04167863354086876 | MAE Test Loss: 0.09919948130846024\n",
      "Epoch: 60 | MAE Train Loss: 0.03818932920694351 | MAE Test Loss: 0.08886633068323135\n",
      "Epoch: 70 | MAE Train Loss: 0.03476089984178543 | MAE Test Loss: 0.0805937647819519\n",
      "Epoch: 80 | MAE Train Loss: 0.03132382780313492 | MAE Test Loss: 0.07232122868299484\n",
      "Epoch: 90 | MAE Train Loss: 0.02788739837706089 | MAE Test Loss: 0.06473556160926819\n"
     ]
    }
   ],
   "source": [
    "torch.manual_seed(42)\n",
    "\n",
    "# Set the number of epochs\n",
    "epochs = 100\n",
    "\n",
    "# Create lost list to track values\n",
    "train_loss_values = []\n",
    "test_loss_values = []\n",
    "epoch_count = []\n",
    "\n",
    "for epoch in range(epochs):\n",
    "\n",
    "    ### TRAINING\n",
    "\n",
    "    # Place model in training mode - Default state\n",
    "    model_0.train()\n",
    "\n",
    "    # Conduct forward pass on train data - Generate predictions\n",
    "    y_pred = model_0(X_train)\n",
    "\n",
    "    # Calculate the loss on the generated predictions from forward-pass with the train labels.\n",
    "    loss = loss_fn(y_pred, y_train)\n",
    "\n",
    "    # Reset gradients to zero \n",
    "    optimizer.zero_grad()\n",
    "\n",
    "    # Conduct backpropagation - Calculate gradients\n",
    "    loss.backward()\n",
    "\n",
    "    # Step the weights - update the parameters\n",
    "    optimizer.step()\n",
    "\n",
    "    ### TESTING\n",
    "\n",
    "    # Place the model in evaluation mode \n",
    "    model_0.eval()\n",
    "\n",
    "    with torch.inference_mode():\n",
    "        # IMPORTANT TO RENAME VARIABLES\n",
    "        \n",
    "        # 1. Forward Pass on test data\n",
    "        test_pred = model_0(X_test)\n",
    "\n",
    "        # 2. Calculate the loss\n",
    "        test_loss = loss_fn(test_pred, y_test)\n",
    "\n",
    "        # Print what's happening:\n",
    "        if epoch % 10 == 0:\n",
    "            epoch_count.append(epoch)\n",
    "            train_loss_values.append(loss.detach().numpy())\n",
    "            test_loss_values.append(test_loss.detach().numpy())\n",
    "            print(f\"Epoch: {epoch} | MAE Train Loss: {loss} | MAE Test Loss: {test_loss}\")"
   ]
  },
  {
   "cell_type": "markdown",
   "id": "cfdd87c2-0bf7-47b9-a5e0-dc6bfe707123",
   "metadata": {},
   "source": [
    "Would ya look at that! The loss values are going down for both the training and testing datasets. THAT'S GREAT! But it's even better if we can take a look at it visually. Luckily, we converted these to numpy arrays. So we can do exactly that with matplotlib.\n",
    "\n",
    "Explanations on *loss.detach().numpy()*\n",
    "\n",
    "1. *loss.detach* creates a new tensor that is seperate from the tensor that it is derived from but does not require gradient calculation. This variable is now independent from all the tracking that PyTorch does on the loss.\n",
    "\n",
    "2. *.numpy()* while matplotlib can easily handle tensors as input as this automatically converts it on its own, it's important to remember that this only works on tensors that are on the CPU. So while in this case, the *numpy()* can be removed since our tensors are only on the CPU. Remember that NumPy does not support GPU operations thus cannot take tensors on the GPU as input."
   ]
  },
  {
   "cell_type": "code",
   "execution_count": 17,
   "id": "ad3ee077-eda5-4516-9a55-31f3de987724",
   "metadata": {},
   "outputs": [
    {
     "data": {
      "image/png": "[encoded data removed]",
      "text/plain": [
       "<Figure size 640x480 with 1 Axes>"
      ]
     },
     "metadata": {},
     "output_type": "display_data"
    }
   ],
   "source": [
    "# Plot the loss curves\n",
    "plt.plot(epoch_count, train_loss_values, label=\"Train loss\")\n",
    "plt.plot(epoch_count, test_loss_values, label=\"Test loss\")\n",
    "plt.title(\"Training and test loss curves\")\n",
    "plt.ylabel(\"Loss\")\n",
    "plt.xlabel(\"Epochs\")\n",
    "plt.legend();"
   ]
  },
  {
   "cell_type": "markdown",
   "id": "b6fb9a46-5e01-4b2a-badc-298950d0cb31",
   "metadata": {},
   "source": [
    "The loss curve is gradually going down. That's good! Recall that the loss is the 'how wrong' our model is on it's predictions so the lower it is means the better it gets. \n",
    "\n",
    "Thanks to our loss function and optimizer, we've managed to consistently update our weights and bias parameters to better predict our labels on both the training and testing datasets. \n",
    "\n",
    "Let's take a look at the model's *.state_dict()* to see how close the weights and bias values got compared to the one's that we've initially set up at the start. "
   ]
  },
  {
   "cell_type": "code",
   "execution_count": 18,
   "id": "a9fe168e-5c56-4b60-8d15-0072551da4ef",
   "metadata": {},
   "outputs": [
    {
     "name": "stdout",
     "output_type": "stream",
     "text": [
      "The Model Learned & Predicted The Following Values For Weights & Biases:\n",
      "OrderedDict([('weights', tensor([0.5784])), ('bias', tensor([0.3513]))])\n",
      "\n",
      "The Original Values For The Weights & Biases:\n",
      "Weights: 0.7, Bias: 0.3\n"
     ]
    }
   ],
   "source": [
    "print(\"The Model Learned & Predicted The Following Values For Weights & Biases:\")\n",
    "print(model_0.state_dict())\n",
    "print(\"\\nThe Original Values For The Weights & Biases:\")\n",
    "print(f\"Weights: {weight}, Bias: {bias}\")"
   ]
  },
  {
   "cell_type": "markdown",
   "id": "813e2222-5428-42c4-b98c-8a0d6a3d84cd",
   "metadata": {},
   "source": [
    "That's already pretty close. Now that we've confirmed that our model is indeed learning! It'll probably even reach closer to our values if we kept it training for more epochs. It might not perfectly reach it but it'll get closer and that's already probably enough. "
   ]
  },
  {
   "cell_type": "markdown",
   "id": "58c4090c-d57c-4f46-ab3a-c5b967a6a248",
   "metadata": {},
   "source": [
    "**Making Predictions with a Trained PyTorch Model - Inference**"
   ]
  },
  {
   "cell_type": "markdown",
   "id": "77f26872-d9fe-4159-8fef-0ae4f3d03d8d",
   "metadata": {},
   "source": [
    "Since we've successfuly made our mode, it's time to make predictions with it. Technically, we've already seen it do just that in the code that we did above. The steps that we do outside of the training/testing loop are pretty similiar.\n",
    "\n",
    "Three things to remember when making predictions:\n",
    "\n",
    "1. Set model to evaluation mode *model.eval()*\n",
    "2. Make predictions using the inference mode context manager *with torch.inference_mode(): ...*\n",
    "3. Predictions should be made with objects in the same device (data & model on CUDA/GPU only)\n",
    "\n",
    "The first two items are ensuring that all the helpful calculation and settings PyTorch uses in training/testing loop are turned off. This makes our entire process faster and prevents us from doing anything to the model. The third ensures that we don't run into cross-device errors. So keep this in mind when using models outside the training/testing loop!"
   ]
  },
  {
   "cell_type": "code",
   "execution_count": 19,
   "id": "a701f4ee-b0b7-478c-ba66-773df1aab5e4",
   "metadata": {
    "scrolled": true
   },
   "outputs": [
    {
     "data": {
      "text/plain": [
       "tensor([[0.8141],\n",
       "        [0.8256],\n",
       "        [0.8372],\n",
       "        [0.8488],\n",
       "        [0.8603],\n",
       "        [0.8719],\n",
       "        [0.8835],\n",
       "        [0.8950],\n",
       "        [0.9066],\n",
       "        [0.9182]])"
      ]
     },
     "execution_count": 19,
     "metadata": {},
     "output_type": "execute_result"
    }
   ],
   "source": [
    "model_0.eval()\n",
    "\n",
    "with torch.inference_mode():\n",
    "    # Make sure that the calculations of the model & data are done on the same device.\n",
    "    # In this case, we've done it all on the CPU so there's no need to specify it but in the future: \n",
    "    \n",
    "    # model_0.to(device)\n",
    "    # X_test = X_test.to(device)\n",
    "    \n",
    "    y_preds = model_0(X_test)\n",
    "y_preds"
   ]
  },
  {
   "cell_type": "markdown",
   "id": "92bc40dd-f75f-4afc-af5f-aad7a70d8854",
   "metadata": {},
   "source": [
    "We've made our predictions using the trained model that we made! Let's plot these again."
   ]
  },
  {
   "cell_type": "code",
   "execution_count": 20,
   "id": "39d9a261-131d-4bb5-8b6a-b7ba73b23078",
   "metadata": {},
   "outputs": [
    {
     "data": {
      "image/png": "[encoded data removed]",
      "text/plain": [
       "<Figure size 1000x700 with 1 Axes>"
      ]
     },
     "metadata": {},
     "output_type": "display_data"
    }
   ],
   "source": [
    "plot_predictions(predictions=y_preds)"
   ]
  },
  {
   "cell_type": "markdown",
   "id": "15f80bf7-eacc-46d5-a23a-6e2947b8ef83",
   "metadata": {},
   "source": [
    "That's a lot better than our randomized start. It's not exactly on point but the fact that it managed to learn our data to better get closer to it is a feat of itself! We've got a functioning model. Congratulations!\n",
    "\n",
    "Now, we don't want our model to just stay in one place. Chances are that we would want to export it or use it somewhere else. Maybe you'd like to just save the training progress and continue it later on. \n",
    "\n",
    "Let's proceed to saving and reloading the model in PyTorch. There are three methods that are used:\n",
    "\n",
    "1. *torch.save* - Save a serialized object to disk using Python's pickle utility. Models, tensors, and many other Python objects can be saved using *torch.save*.\n",
    "2.  *torch.load* - Since we've saved using Python's pickle. We'll do that for unpickling as well. We use pickle to load pickle Python object files. We can also set which device the to load the object to (CPU, GPU)\n",
    "3.  *torch.nn.Module.load_state_dict* - Load's a parameters dictionary *model_state_dict()* using a saved *state_dict()* object. Essentially this makes sure that the weights * biases that are trained are also set in the model.\n",
    "\n",
    "**NOTE:** Python's pickle is NOT SECURE. So it is vital that you only unpickle data objects that you trust. The same goes for PyTorch models. Only use one's of which sources you can trust."
   ]
  },
  {
   "cell_type": "markdown",
   "id": "f3acf073-3030-425d-a2ef-60b02b760016",
   "metadata": {},
   "source": [
    "**Saving a PyTorch Model's - *state_dict()***"
   ]
  },
  {
   "cell_type": "markdown",
   "id": "6d6cecd4-d08e-4682-9ac7-35490f35b651",
   "metadata": {},
   "source": [
    "The recommened way of saving and loading a model for inference (making predictions) is by saving and loading a model's *state_dict()*.\n",
    "\n",
    "There are three steps to do this:\n",
    "1. Create a directory for saving models called models using Python's pathlib module.\n",
    "2. Create a filepath for the model to be saved on.\n",
    "3. Call *torch.save(obj, f)* where obj is the target model's *state_dict()* and f is the filename of where to save the model.\n",
    "\n",
    "It is common convention for PyTorch models to end with .pt or .pth filename extensions."
   ]
  },
  {
   "cell_type": "code",
   "execution_count": 21,
   "id": "a84848b4-40ad-4c50-b286-7876700a0aa3",
   "metadata": {},
   "outputs": [
    {
     "name": "stdout",
     "output_type": "stream",
     "text": [
      "Saving Model To models\\01_pytorch_workflow_model_0.pth\n"
     ]
    }
   ],
   "source": [
    "from pathlib import Path\n",
    "\n",
    "# Create Model Directory\n",
    "MODEL_PATH = Path(\"models\")\n",
    "MODEL_PATH.mkdir(parents=True, exist_ok=True)\n",
    "\n",
    "# Create Model Save Path\n",
    "MODEL_NAME = \"01_pytorch_workflow_model_0.pth\"\n",
    "MODEL_SAVE_PATH = MODEL_PATH / MODEL_NAME\n",
    "\n",
    "# Save Model State Dict\n",
    "print(f\"Saving Model To {MODEL_SAVE_PATH}\")\n",
    "torch.save(obj=model_0.state_dict(), f=MODEL_SAVE_PATH) # By saving the state_dict() we save the models learned parameters"
   ]
  },
  {
   "cell_type": "code",
   "execution_count": 22,
   "id": "d9601b67-6cc5-4558-9475-ee9f750d4485",
   "metadata": {},
   "outputs": [
    {
     "name": "stdout",
     "output_type": "stream",
     "text": [
      " Volume in drive D is NVME - Main\n",
      " Volume Serial Number is 94DF-EE1A\n",
      "\n",
      " Directory of D:\\Jupyter\\torchFun\\02-Workflow\\models\n",
      "\n",
      "04/10/2024  03:52 PM             1,680 01_pytorch_workflow_model_0.pth\n",
      "               1 File(s)          1,680 bytes\n",
      "               0 Dir(s)  93,219,295,232 bytes free\n"
     ]
    }
   ],
   "source": [
    "# Check Saved Model - Code is for Windows\n",
    "!dir models\\01_pytorch_workflow_model_0.pth"
   ]
  },
  {
   "cell_type": "markdown",
   "id": "fc45ccc1-b799-40da-8b95-609c7b8d9a97",
   "metadata": {},
   "source": [
    "**Loading Saved PyTorch Model's - *state_dict()***"
   ]
  },
  {
   "cell_type": "markdown",
   "id": "a7a21b86-1a58-4d4c-aef3-94e9c439b7dd",
   "metadata": {},
   "source": [
    "Since we've successfully saved our model with it's learned parameters, let's use start loading it. We have *torch.nn.Module.load_state_dict(torch.load(f))*. *f* stands for the filepath for our saved model's state_dict().\n",
    "\n",
    "\n",
    "So you might ask, why are we calling *torch.load* inside *torch.nn.Module.load_state_dict()*? That's because we didn't save the model exactly. We only saved the model's *state_dict()* which is the dictionary of learned paremeters only. We have to load the *state_dict()* with *torch.load()* then pass that *state_dict()* to a new instance of our model. \n",
    "\n",
    "So you might ask, why not just save the entire model?\n",
    "\n",
    "It is true that saving an entire model is a lot more intuitive rather than going through this roundabout way but PyTorch documentation does state the following: \n",
    "\n",
    "\"The disadvantage of this approach - saving an entire model is that the serialized data is bound to the specific classes and the exact directory structure used when the model is saved. Because of this, your code can break in various ways when used in other projects or after refactors.\"\n",
    "\n",
    "While our approach is a lot less intuitive, it does offer a degree of flexibility. Technically, this is akin to putting our files into a USB and then finding another computer to plug it in.\n",
    "\n",
    "Let's try this out by creating another instance of *LinearRegressionModel()*, which is a subclass of *torch.nn.Module* and because of that will have access to the built-in method of *load_state_dict()*"
   ]
  },
  {
   "cell_type": "code",
   "execution_count": 23,
   "id": "594e0ca2-a3a4-4b8a-a22d-00dd09bd833f",
   "metadata": {},
   "outputs": [
    {
     "data": {
      "text/plain": [
       "<All keys matched successfully>"
      ]
     },
     "execution_count": 23,
     "metadata": {},
     "output_type": "execute_result"
    }
   ],
   "source": [
    "# Create a new instance of our model \n",
    "loaded_model_0 = LinearRegressionModel()\n",
    "loaded_model_0.load_state_dict(torch.load(f=MODEL_SAVE_PATH))"
   ]
  },
  {
   "cell_type": "markdown",
   "id": "c283cb2c-ebe0-42e4-85e0-f9cfd2126bb0",
   "metadata": {},
   "source": [
    "Seems like it managed to load in all the trained parameters that we had from our original model. Let's try it out and perform inference with it on the test data. "
   ]
  },
  {
   "cell_type": "code",
   "execution_count": 24,
   "id": "c119a1c5-f246-4151-9444-322dff44cfe6",
   "metadata": {},
   "outputs": [],
   "source": [
    "with torch.inference_mode():\n",
    "    loaded_model_preds = loaded_model_0(X_test)"
   ]
  },
  {
   "cell_type": "code",
   "execution_count": 25,
   "id": "31ef23cb-afd4-4b4f-a175-6c480102d5c7",
   "metadata": {},
   "outputs": [
    {
     "data": {
      "text/plain": [
       "tensor([[True],\n",
       "        [True],\n",
       "        [True],\n",
       "        [True],\n",
       "        [True],\n",
       "        [True],\n",
       "        [True],\n",
       "        [True],\n",
       "        [True],\n",
       "        [True]])"
      ]
     },
     "execution_count": 25,
     "metadata": {},
     "output_type": "execute_result"
    }
   ],
   "source": [
    "y_preds == loaded_model_preds"
   ]
  },
  {
   "cell_type": "markdown",
   "id": "0934f25e-60a2-442c-a7a0-1012c172a3f3",
   "metadata": {},
   "source": [
    "Seems like all the predictions line up together. That means that both models are working exactly the same way. There are plenty of ways that you can save and load PyTorch models but those can be explored in the PyTorch documentation on saving & loading models."
   ]
  },
  {
   "cell_type": "markdown",
   "id": "29601b30-3ea1-43b1-8a3c-25c1f081cdcb",
   "metadata": {},
   "source": [
    "**Putting It All Together**"
   ]
  },
  {
   "cell_type": "markdown",
   "id": "d677d0c7-4a16-4fb1-9921-59f9d3f20750",
   "metadata": {},
   "source": [
    "Let's practice by putting all that together in one go. However, for this case there is a specific difference. If you have a GPU, set the device to that. If not, then it'll use the CPU."
   ]
  },
  {
   "cell_type": "code",
   "execution_count": 26,
   "id": "5617080c-7822-45d2-aa25-9aeb69171ec7",
   "metadata": {},
   "outputs": [
    {
     "name": "stdout",
     "output_type": "stream",
     "text": [
      "Utilizing Device: cuda\n"
     ]
    }
   ],
   "source": [
    "device = 'cuda' if torch.cuda.is_available() else 'cpu'\n",
    "print(f\"Utilizing Device: {device}\")"
   ]
  },
  {
   "cell_type": "code",
   "execution_count": 27,
   "id": "31074a77-6245-46cb-aebe-e2061d136b5b",
   "metadata": {},
   "outputs": [],
   "source": [
    "import torch\n",
    "from torch import nn\n",
    "import matplotlib.pyplot as plt"
   ]
  },
  {
   "cell_type": "code",
   "execution_count": 76,
   "id": "d332cbf9-fdde-415c-ae4b-f3b347b5a363",
   "metadata": {},
   "outputs": [
    {
     "data": {
      "text/plain": [
       "(tensor([[0.0000],\n",
       "         [0.0200],\n",
       "         [0.0400],\n",
       "         [0.0600],\n",
       "         [0.0800],\n",
       "         [0.1000],\n",
       "         [0.1200],\n",
       "         [0.1400],\n",
       "         [0.1600],\n",
       "         [0.1800]]),\n",
       " tensor([[0.3000],\n",
       "         [0.3140],\n",
       "         [0.3280],\n",
       "         [0.3420],\n",
       "         [0.3560],\n",
       "         [0.3700],\n",
       "         [0.3840],\n",
       "         [0.3980],\n",
       "         [0.4120],\n",
       "         [0.4260]]))"
      ]
     },
     "execution_count": 76,
     "metadata": {},
     "output_type": "execute_result"
    }
   ],
   "source": [
    "# Hardcoded Parameters\n",
    "weights = 0.7\n",
    "bias = 0.3\n",
    "\n",
    "start = 0\n",
    "end = 1\n",
    "step = 0.02\n",
    "\n",
    "# X - Features / y - Labels\n",
    "X = torch.arange(start, end, step).unsqueeze(dim=1)\n",
    "y = weight * X + bias\n",
    "X[:10], y[:10]"
   ]
  },
  {
   "cell_type": "code",
   "execution_count": 77,
   "id": "25a82743-2860-4905-88db-9311347fbefd",
   "metadata": {},
   "outputs": [],
   "source": [
    "# Split into Train & Test datasets"
   ]
  },
  {
   "cell_type": "code",
   "execution_count": 89,
   "id": "3ff3440e-5589-46d3-ac92-af910bf2eb74",
   "metadata": {
    "scrolled": true
   },
   "outputs": [
    {
     "data": {
      "text/plain": [
       "(40, 40, 10, 10)"
      ]
     },
     "execution_count": 89,
     "metadata": {},
     "output_type": "execute_result"
    }
   ],
   "source": [
    "split = int(0.8 * len(X)) # Taking 80% of X\n",
    "X_train, y_train = X[:split], y[:split]\n",
    "X_test, y_test = X[split:], y[split:]\n",
    "len(X_train), len(y_train), len(X_test), len(y_test)"
   ]
  },
  {
   "cell_type": "code",
   "execution_count": 90,
   "id": "1ae4d85e-4f1f-41ef-98e5-f72920d00c6e",
   "metadata": {
    "scrolled": true
   },
   "outputs": [
    {
     "data": {
      "image/png": "[encoded data removed]",
      "text/plain": [
       "<Figure size 1000x700 with 1 Axes>"
      ]
     },
     "metadata": {},
     "output_type": "display_data"
    }
   ],
   "source": [
    "# Visualize Data\n",
    "plot_predictions()"
   ]
  },
  {
   "cell_type": "markdown",
   "id": "4c0c01cb-ea13-4190-91ff-db1a91746d6e",
   "metadata": {},
   "source": [
    "We'll do the same thing as we did before but with a bit of Quality of Life improvements. Such as utilizing *nn.Linear(in_features, out_features)* to describe our weights and bias without having to manually use *nn.Parameter()*. *in_features* describe the number of dimensions that the input data has and the *out_features* describe the number of dimensions that it will output. \n",
    "\n",
    "In this case, we specify 1 because we have 1 input feature (x) per label (y). We want to output only 1 "
   ]
  },
  {
   "cell_type": "code",
   "execution_count": 91,
   "id": "fa7876f0-5938-4248-bfc5-36376ab59bc6",
   "metadata": {},
   "outputs": [],
   "source": [
    "# Create Model\n",
    "torch.manual_seed(seed=42)\n",
    "\n",
    "class LinearRegressionModelV2(nn.Module):\n",
    "    def __init__(self):\n",
    "        super().__init__()\n",
    "        # Using nn.Linear() for creating the model parameters\n",
    "        self.linear_layer= nn.Linear(in_features=1, out_features=1)\n",
    "\n",
    "    def forward(self, x: torch.Tensor) -> torch.Tensor:\n",
    "        return self.linear_layer(x)"
   ]
  },
  {
   "cell_type": "markdown",
   "id": "debe55d5-d638-40ef-b37a-4b88526d64e8",
   "metadata": {},
   "source": [
    "![Display](images/01-pytorch-linear-regression-model-with-nn-Parameter-and-nn-Linear-compared.png \"QoL Improvements\")"
   ]
  },
  {
   "cell_type": "markdown",
   "id": "c62c2941-9a82-40f4-8eee-fd105f4aaf48",
   "metadata": {},
   "source": [
    "Okay, so you might be confused with the entire in_features and out_features but let's explain this deeper. In the *nn.Parameter* we were doing everything manually. In the *nn.Linear* we are using a predefined layer that functions similiarly to what we've created with *nn.Parameter*.\n",
    "\n",
    "Take note of the following:\n",
    "**output = input x weights^T + bias**\n",
    "\n",
    "1. *in_features*: The size of each input sample, (i.e., the number of elements in the input vector).\n",
    "2. *out_features*: The size of each output sample, (i.e., the number of elements in the output vector).\n",
    "3. *Weights*: A matrix where the number of rows equals *out_features* and the number of columns equals *in_features*, (*out_features*, *in_features*).\n",
    "4. *Bias*: A vector with a length equal to out_features.\n",
    "   \n",
    "Good rule of thumb to remember is that the *in_features* and the *out_features* arguments in a predefined layer help define the shape of the weights. Since our randn only has the size of one then that it is a given that the *out_features* defaults to 1 as well. \n",
    "\n",
    "In *nn.Parameter* we were directly setting the shape of the weights. In the *nn.Linear* we are specifying the shape through *in_features* and *out_features*"
   ]
  },
  {
   "cell_type": "code",
   "execution_count": 92,
   "id": "7e417512-77f3-4c2b-bbf8-617eefc0832a",
   "metadata": {},
   "outputs": [
    {
     "data": {
      "text/plain": [
       "(LinearRegressionModelV2(\n",
       "   (linear_layer): Linear(in_features=1, out_features=1, bias=True)\n",
       " ),\n",
       " OrderedDict([('linear_layer.weight', tensor([[0.7645]])),\n",
       "              ('linear_layer.bias', tensor([0.8300]))]))"
      ]
     },
     "execution_count": 92,
     "metadata": {},
     "output_type": "execute_result"
    }
   ],
   "source": [
    "torch.manual_seed(42)\n",
    "model_1 = LinearRegressionModelV2()\n",
    "model_1, model_1.state_dict()"
   ]
  },
  {
   "cell_type": "markdown",
   "id": "7730cac8-184b-40ba-b83d-8318662894a5",
   "metadata": {},
   "source": [
    "Notice how the *model1_state_dict()* from *nn.Linear()* created random weights and bias for us. With that done, let's put this in our GPU."
   ]
  },
  {
   "cell_type": "code",
   "execution_count": 93,
   "id": "8a93dc43-742d-4764-add7-3a072a52c61d",
   "metadata": {},
   "outputs": [],
   "source": [
    "firstSet = next(model_1.parameters()) # We access the first set of weights in model_1.parameters()"
   ]
  },
  {
   "cell_type": "code",
   "execution_count": 94,
   "id": "cb5ebe64-ecfd-406e-b42e-73367b75139f",
   "metadata": {},
   "outputs": [
    {
     "data": {
      "text/plain": [
       "device(type='cpu')"
      ]
     },
     "execution_count": 94,
     "metadata": {},
     "output_type": "execute_result"
    }
   ],
   "source": [
    "firstSet.device # We check where it is stored "
   ]
  },
  {
   "cell_type": "markdown",
   "id": "d7c809af-9353-4011-81ad-3ca254a6ebcd",
   "metadata": {},
   "source": [
    "It's CPU by default so let's change this to GPU. "
   ]
  },
  {
   "cell_type": "code",
   "execution_count": 95,
   "id": "45b5ecd4-9bc6-46bf-92a0-bad28388e836",
   "metadata": {},
   "outputs": [
    {
     "data": {
      "text/plain": [
       "LinearRegressionModelV2(\n",
       "  (linear_layer): Linear(in_features=1, out_features=1, bias=True)\n",
       ")"
      ]
     },
     "execution_count": 95,
     "metadata": {},
     "output_type": "execute_result"
    }
   ],
   "source": [
    "model_1.to(device)"
   ]
  },
  {
   "cell_type": "code",
   "execution_count": 96,
   "id": "86697d4b-6a0c-492a-ad9b-1cf683869bb7",
   "metadata": {},
   "outputs": [
    {
     "data": {
      "text/plain": [
       "device(type='cuda', index=0)"
      ]
     },
     "execution_count": 96,
     "metadata": {},
     "output_type": "execute_result"
    }
   ],
   "source": [
    "firstSet.device"
   ]
  },
  {
   "cell_type": "markdown",
   "id": "fb709e52-e772-4229-bf4a-09bae5943daf",
   "metadata": {},
   "source": [
    "We're now in business! We've succesfully switched it over to the GPU. Time to create a training and testing loop for our model.\n",
    "\n",
    "We'll use the same loss_function which was *nn.L1Loss()* and *torch.optim.SGD()*. We'll have to pass in the new model's parameters as well. Retain the previous learning rate as that was already acceptable."
   ]
  },
  {
   "cell_type": "code",
   "execution_count": 97,
   "id": "b6b2345e-c472-47b4-96d3-056e902a784b",
   "metadata": {},
   "outputs": [],
   "source": [
    "loss_fn = nn.L1Loss()\n",
    "optimizer = torch.optim.SGD(model_1.parameters(), lr=0.01)"
   ]
  },
  {
   "cell_type": "markdown",
   "id": "2ceb7fba-2e92-4639-a64b-f3aa3f16f236",
   "metadata": {},
   "source": [
    "With our loss function and optimzer ready, we're all set to start with the training and testing loop. The only difference now is that we have to manually set our data to the appropriate device, in our case, the GPU. We've already put our model to the GPU so there's no worry about that. We'll do the exact same with data. \n",
    "\n",
    "In addition, we'll put our epochs to 1000!"
   ]
  },
  {
   "cell_type": "code",
   "execution_count": 98,
   "id": "bb2b595c-4d28-44a7-a99a-232fb999f557",
   "metadata": {},
   "outputs": [
    {
     "name": "stdout",
     "output_type": "stream",
     "text": [
      "Epoch: 0 | Train Loss: 0.5551779866218567 | Test Loss: 0.5739762187004089\n",
      "Epoch: 100 | Train Loss: 0.006215683650225401 | Test Loss: 0.014086711220443249\n",
      "Epoch: 200 | Train Loss: 0.0012645035749301314 | Test Loss: 0.013801801018416882\n",
      "Epoch: 300 | Train Loss: 0.0012645035749301314 | Test Loss: 0.013801801018416882\n",
      "Epoch: 400 | Train Loss: 0.0012645035749301314 | Test Loss: 0.013801801018416882\n",
      "Epoch: 500 | Train Loss: 0.0012645035749301314 | Test Loss: 0.013801801018416882\n",
      "Epoch: 600 | Train Loss: 0.0012645035749301314 | Test Loss: 0.013801801018416882\n",
      "Epoch: 700 | Train Loss: 0.0012645035749301314 | Test Loss: 0.013801801018416882\n",
      "Epoch: 800 | Train Loss: 0.0012645035749301314 | Test Loss: 0.013801801018416882\n",
      "Epoch: 900 | Train Loss: 0.0012645035749301314 | Test Loss: 0.013801801018416882\n"
     ]
    }
   ],
   "source": [
    "torch.manual_seed(seed=42)\n",
    "epochs = 1000\n",
    "\n",
    "# It's important that both the data and the model are in the same device or else an error will occur.\n",
    "X_train = X_train.to(device)\n",
    "X_test = X_test.to(device)\n",
    "\n",
    "y_train = y_train.to(device)\n",
    "y_test = y_test.to(device)\n",
    "\n",
    "for epoch in range(epochs):\n",
    "    ### TRAINING\n",
    "    \n",
    "    # Set model to training mode\n",
    "    model_1.train()\n",
    "\n",
    "    # Forward Pass - Make Predictions\n",
    "    y_pred = model_1(X_train)\n",
    "\n",
    "    # Calculate Loss\n",
    "    train_loss = loss_fn(y_pred, y_train)\n",
    "\n",
    "    # Reset Gradients \n",
    "    optimizer.zero_grad()\n",
    "        \n",
    "    # Backpropagation - Calculate Gradients\n",
    "    train_loss.backward()\n",
    "\n",
    "    # Update The Weights \n",
    "    optimizer.step()\n",
    "\n",
    "    ### TESTING\n",
    "\n",
    "    # Set model to evaluation mode\n",
    "    model_1.eval()\n",
    "\n",
    "    # Forward Pass\n",
    "    with torch.inference_mode():\n",
    "        test_pred=model_1(X_test)\n",
    "\n",
    "        # Calculate Loss\n",
    "        test_loss = loss_fn(test_pred, y_test)\n",
    "\n",
    "    if epoch % 100 == 0:\n",
    "        print(f\"Epoch: {epoch} | Train Loss: {train_loss} | Test Loss: {test_loss}\")"
   ]
  },
  {
   "cell_type": "markdown",
   "id": "16a64266-0ee9-466a-af20-110018947935",
   "metadata": {},
   "source": [
    "Great! That was a lot faster since we were working with a GPU. The loss looks hella low as compared to where it started. Let's take a look on the values that it generated and see how close it got."
   ]
  },
  {
   "cell_type": "code",
   "execution_count": 99,
   "id": "544194ba-bad8-4caa-a0a7-096b90509747",
   "metadata": {},
   "outputs": [
    {
     "name": "stdout",
     "output_type": "stream",
     "text": [
      "The Model Learned The Following For Weights & Bias:\n",
      "OrderedDict([('linear_layer.weight', tensor([[0.6968]], device='cuda:0')),\n",
      "             ('linear_layer.bias', tensor([0.3025], device='cuda:0'))])\n",
      "\n",
      "The Original Values Were The Following:\n",
      "Weights: 0.7 | Bias: 0.3\n"
     ]
    }
   ],
   "source": [
    "from pprint import pprint # pretty print is a python library for making pretty outputs!\n",
    "print(\"The Model Learned The Following For Weights & Bias:\")\n",
    "pprint(model_1.state_dict())\n",
    "print(\"\\nThe Original Values Were The Following:\")\n",
    "print(f\"Weights: {weights} | Bias: {bias}\")"
   ]
  },
  {
   "cell_type": "markdown",
   "id": "c78e0328-57f8-4bd7-b07a-a4617d924d4c",
   "metadata": {},
   "source": [
    "That's pretty much as close as you can get! Remember, it's not exact but that's GOOD! However, we just know today that these parameters are the perfect one's because we set the up. But in the real world, that's not the case. At the end of the day, if we always knew what the perfect parameters one then there'd be no use for machine learning. "
   ]
  },
  {
   "cell_type": "markdown",
   "id": "a10df05e-83cc-418a-83a4-143bc6ba3e98",
   "metadata": {},
   "source": [
    "**Making Predictions**\n",
    "\n",
    "Since we've seen that our model is now trained and ready to go let's start making some predictions."
   ]
  },
  {
   "cell_type": "code",
   "execution_count": 100,
   "id": "b38b52cd-76b8-4128-9f78-3f523bcce649",
   "metadata": {},
   "outputs": [
    {
     "data": {
      "text/plain": [
       "tensor([[0.8600],\n",
       "        [0.8739],\n",
       "        [0.8878],\n",
       "        [0.9018],\n",
       "        [0.9157],\n",
       "        [0.9296],\n",
       "        [0.9436],\n",
       "        [0.9575],\n",
       "        [0.9714],\n",
       "        [0.9854]], device='cuda:0')"
      ]
     },
     "execution_count": 100,
     "metadata": {},
     "output_type": "execute_result"
    }
   ],
   "source": [
    "# Turn to Evaulation Mode\n",
    "model_1.eval()\n",
    "\n",
    "with torch.inference_mode():\n",
    "    y_preds = model_1(X_test)\n",
    "y_preds"
   ]
  },
  {
   "cell_type": "markdown",
   "id": "8dda23d2-1396-4139-9d0e-d54c80f1fb36",
   "metadata": {},
   "source": [
    "Remember that we're working with the GPU. As see by the device='cuda:0'. Meaning that your data is on cuda:0 which means your first GPU. We want to plot these data and see how it pans out visually. But we can't do that this time because matplotlib doesn't support tensors located in the GPU! We have to convert these back to the CPU if we want to work with it.\n",
    "\n",
    "**NOTE:** You don't have to do *.to('device')* exactly. PyTorch also provides a QoL improvement in easily moving tensors back to the cpu by just saying *.cpu()*. That'll be enough. "
   ]
  },
  {
   "cell_type": "code",
   "execution_count": 102,
   "id": "1db14015-ec29-4ff2-9a4c-260f68bfdefe",
   "metadata": {},
   "outputs": [
    {
     "data": {
      "image/png": "[encoded data removed]",
      "text/plain": [
       "<Figure size 1000x700 with 1 Axes>"
      ]
     },
     "metadata": {},
     "output_type": "display_data"
    }
   ],
   "source": [
    "plot_predictions(predictions=y_preds.cpu())"
   ]
  },
  {
   "cell_type": "markdown",
   "id": "0e3dc807-d0ee-40eb-883c-a62eb5c41e34",
   "metadata": {},
   "source": [
    "It's perfectly aligned! Thanks to the number of epochs that we specified, it's managed to get as close to our testing data where you probably can't even notice the difference. Since we're happy with this, let's save the trained data and load it using another mode that we'll initialize."
   ]
  },
  {
   "cell_type": "markdown",
   "id": "53374b82-070c-481a-b359-e58b93921a82",
   "metadata": {},
   "source": [
    "**Saving & Loading Models**"
   ]
  },
  {
   "cell_type": "code",
   "execution_count": 104,
   "id": "14960d89-5402-48d5-9890-25ed4d093d60",
   "metadata": {},
   "outputs": [
    {
     "name": "stdout",
     "output_type": "stream",
     "text": [
      "Saving Model To: models\\01_pytorch_workflow_model_1.pth\n"
     ]
    }
   ],
   "source": [
    "# Create Model Directory\n",
    "MODEL_PATH = Path(\"models\")\n",
    "MODEL_PATH.mkdir(parents=True, exist_ok=True)\n",
    "\n",
    "# Create Model Save Path\n",
    "MODEL_NAME = \"01_pytorch_workflow_model_1.pth\"\n",
    "MODEL_SAVE_PATH = MODEL_PATH / MODEL_NAME\n",
    "\n",
    "# Save Model State Dict\n",
    "print(f\"Saving Model To: {MODEL_SAVE_PATH}\")\n",
    "torch.save(obj=model_1.state_dict(), f=MODEL_SAVE_PATH) # We're saving only the trained parameters, not the model itself."
   ]
  },
  {
   "cell_type": "markdown",
   "id": "c2b25f8b-009c-41a0-a92c-983ce4a2f380",
   "metadata": {},
   "source": [
    "Time to load it back in!\n",
    "\n",
    "1. Create a new instance of *LinearRegressionModelV2()*\n",
    "2. Load the model state dict using *torch.nn.Module.load_state_dict*\n",
    "3. Send the new instance to the target device - GPU / CPU"
   ]
  },
  {
   "cell_type": "code",
   "execution_count": 109,
   "id": "13f06caf-564f-4d54-9ba0-ba468420fa0d",
   "metadata": {},
   "outputs": [
    {
     "name": "stdout",
     "output_type": "stream",
     "text": [
      "Loaded Model: LinearRegressionModelV2(\n",
      "  (linear_layer): Linear(in_features=1, out_features=1, bias=True)\n",
      ")\n",
      "Loaded Model To Device: cuda:0\n"
     ]
    }
   ],
   "source": [
    "# Create new instance of model\n",
    "loaded_model_1 = LinearRegressionModelV2()\n",
    "\n",
    "# Load model state dict\n",
    "loaded_model_1.load_state_dict(torch.load(MODEL_SAVE_PATH))\n",
    "\n",
    "# Choose target device for model\n",
    "loaded_model_1.to(device)\n",
    "\n",
    "print(f\"Loaded Model: {loaded_model_1}\")\n",
    "print(f\"Loaded Model To Device: {next(loaded_model_1.parameters()).device}\")"
   ]
  },
  {
   "cell_type": "markdown",
   "id": "4b7b86c9-a06d-45f1-82fc-27fe4d12b295",
   "metadata": {},
   "source": [
    "Now let's evaluate the model to see if it's predictions match up with our previous predictions on the original mode. "
   ]
  },
  {
   "cell_type": "code",
   "execution_count": 110,
   "id": "66b08b4e-255a-42be-bec8-dede0b5efb86",
   "metadata": {},
   "outputs": [
    {
     "data": {
      "text/plain": [
       "tensor([[True],\n",
       "        [True],\n",
       "        [True],\n",
       "        [True],\n",
       "        [True],\n",
       "        [True],\n",
       "        [True],\n",
       "        [True],\n",
       "        [True],\n",
       "        [True]], device='cuda:0')"
      ]
     },
     "execution_count": 110,
     "metadata": {},
     "output_type": "execute_result"
    }
   ],
   "source": [
    "# Set model to evaluation mode\n",
    "loaded_model_1.eval()\n",
    "with torch.inference_mode():\n",
    "    loaded_model_1_preds = loaded_model_1(X_test)\n",
    "y_preds == loaded_model_1_preds"
   ]
  },
  {
   "cell_type": "markdown",
   "id": "a4328733-b5b8-410c-a1a3-363223fc0724",
   "metadata": {},
   "source": [
    "We've done it! You've built and trained a neural network by yourself in pure PyTorch. Time to practice. Head over the exercises section"
   ]
  }
 ],
 "metadata": {
  "kernelspec": {
   "display_name": "Python 3 (ipykernel)",
   "language": "python",
   "name": "python3"
  },
  "language_info": {
   "codemirror_mode": {
    "name": "ipython",
    "version": 3
   },
   "file_extension": ".py",
   "mimetype": "text/x-python",
   "name": "python",
   "nbconvert_exporter": "python",
   "pygments_lexer": "ipython3",
   "version": "3.10.11"
  }
 },
 "nbformat": 4,
 "nbformat_minor": 5
}
