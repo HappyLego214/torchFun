{
 "cells": [
  {
   "cell_type": "markdown",
   "id": "3db7e115-1b44-40f7-8938-5dc47676f4e7",
   "metadata": {},
   "source": [
    "**Computer Vision**\n",
    "\n",
    "It is an art of teaching a computer to have eyes. For example you can have model to decide whether or not an image is a cat or a dog - *binary classification*. \n",
    "\n",
    "Or maybe whether the image is of a dog, cat, or chicken - *multiclass classification*. \n",
    "\n",
    "Perhaps checking where an object is in an image? - *object detection*.\n",
    "\n",
    "You can even check where different objects in an image can be seperated from each other *panoptic segmentation*."
   ]
  }
 ],
 "metadata": {
  "kernelspec": {
   "display_name": "Python 3 (ipykernel)",
   "language": "python",
   "name": "python3"
  },
  "language_info": {
   "codemirror_mode": {
    "name": "ipython",
    "version": 3
   },
   "file_extension": ".py",
   "mimetype": "text/x-python",
   "name": "python",
   "nbconvert_exporter": "python",
   "pygments_lexer": "ipython3",
   "version": "3.12.3"
  }
 },
 "nbformat": 4,
 "nbformat_minor": 5
}
