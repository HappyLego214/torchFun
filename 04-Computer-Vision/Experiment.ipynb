{
 "cells": [
  {
   "cell_type": "code",
   "execution_count": null,
   "id": "e9bd31ed-4ef6-4820-9e7b-4064ac65bcd6",
   "metadata": {},
   "outputs": [],
   "source": [
    "def eval_model(\n",
    "    model: torch.nn.Module,\n",
    "    dataloader: torch.utils.data.DataLoader,\n",
    "    loss_func: torch.nn.Module,\n",
    "    accuracy_fn,\n",
    "    device: torch.device = device):\n",
    "\n",
    "    eval_loss, eval_acc = 0, 0\n",
    "    model.to(device)\n",
    "    model.eval()\n",
    "\n",
    "    with torch.inference_mode():\n",
    "        for batch, (X,y) in enumerate(dataloader):\n",
    "            X, y = X.to(device), y.to(device)\n",
    "            eval_pred = model(X)\n",
    "            loss = loss_func(eval_pred, y)\n",
    "            accuracy = accuracy_fn(y, eval_pred.argmax(dim=1))\n",
    "\n",
    "            eval_loss += loss\n",
    "            eval_acc += accuracy\n",
    "\n",
    "        eval_loss /= len(dataloader)\n",
    "        eval_acc /= len(dataloader)\n",
    "\n",
    "    return {\n",
    "        \"model_name\": model.__class__.__name__, # Only works when model is created by a class\n",
    "        \"model_loss\": eval_loss.item(),\n",
    "        \"model_acc\": eval_acc.item()\n",
    "    }"
   ]
  }
 ],
 "metadata": {
  "kernelspec": {
   "display_name": "Python 3 (ipykernel)",
   "language": "python",
   "name": "python3"
  },
  "language_info": {
   "codemirror_mode": {
    "name": "ipython",
    "version": 3
   },
   "file_extension": ".py",
   "mimetype": "text/x-python",
   "name": "python",
   "nbconvert_exporter": "python",
   "pygments_lexer": "ipython3",
   "version": "3.12.3"
  }
 },
 "nbformat": 4,
 "nbformat_minor": 5
}
