{
 "cells": [
  {
   "cell_type": "markdown",
   "id": "3db7e115-1b44-40f7-8938-5dc47676f4e7",
   "metadata": {},
   "source": [
    "**Computer Vision**\n",
    "\n",
    "It is an art of teaching a computer to have eyes. For example you can have model to decide whether or not an image is a cat or a dog - *binary classification*. \n",
    "\n",
    "Or maybe whether the image is of a dog, cat, or chicken - *multiclass classification*. \n",
    "\n",
    "Perhaps checking where an object is in an image? - *object detection*.\n",
    "\n",
    "You can even check where different objects in an image can be seperated from each other *panoptic segmentation*."
   ]
  },
  {
   "cell_type": "markdown",
   "id": "2185fedb-9fcb-43c4-ae0f-e9b0e6fe06bf",
   "metadata": {},
   "source": [
    "![Display](images/03-computer-vision-problems.png \"Computer Vision Examples\")"
   ]
  },
  {
   "cell_type": "markdown",
   "id": "79b5517a-715e-44ed-8fe6-49c9d6553650",
   "metadata": {},
   "source": [
    "**Applications of Computer Vision**\n",
    "\n",
    "Have a phone? You already used it. Cameras and other photo apps use camera vision in enhancing and sorting images. Modern cars also use computer vision, such as those with Tesla vehicles in avoiding cars, staying in the appropriate lanes, etc. \n",
    "Manufacturers also use computer vision to identify faulty products. \n",
    "\n",
    "Basically, what we use our eyes for is a potential application for computer vision."
   ]
  },
  {
   "cell_type": "markdown",
   "id": "2ef83246-14b6-4ce6-98a5-1693a4fa5dfe",
   "metadata": {},
   "source": [
    "**Coverage of Chapter**\n",
    "\n",
    "We're still going to apply all that we've learned before but adding in more 'complexities' each time. But the basic principle always stays the same. "
   ]
  },
  {
   "cell_type": "markdown",
   "id": "b64da288-8d32-478b-b7e4-42c75e996090",
   "metadata": {},
   "source": [
    "![Display](images/03-pytorch-computer-vision-workflow.png \"How Computer Vision Works\")"
   ]
  },
  {
   "cell_type": "markdown",
   "id": "bfcdf094-6e91-49a3-9dc3-9640a129f2c4",
   "metadata": {},
   "source": [
    "Specifically, we're looking at the following:\n",
    "\n",
    "1. **Computer Vision Libraries in PyTorch** : We'll be going over built-in PyTorch computer vision libraries that can help us in working with images.\n",
    "\n",
    "2. **Load Data** : Before we even get started, we'll always need some form of data. In this chapter we'll be using *FashionMNIST*.\n",
    "\n",
    "3. **Prepare Data** : Once we have the images, we're going to need to prepare them. Just like in cooking. We'll load them into a PyTorch *DataLoader* so that we can use them in a training loop.\n",
    "\n",
    "4. **Model 0 - Building Baseline** : We're working with a multiclass classification model to learn patterns in the data (images). We'll choose a loss function, optimizer, and create a training loop.\n",
    "\n",
    "5. **Making Predictions & Evaluation Model 0** : Use the baseline model, create predictions, and evaluate these predictions.\n",
    "\n",
    "6. **Setup Device Agnostic Code For Future Models** : We're going to have to make iterations of the baseline model so we need to cut some of the work off by shortening how we work with the device.\n",
    "\n",
    "7. **Model 1 - Non-Linearity** : We saw the effects of having no non-linearity before and this time we'll be addding this here to see it's effects again.  We'll see if non-linearity will help improve our baseline model.\n",
    "\n",
    "8. **Model 2 - Convolutional Neural Network (CNN)** : Here we're gonna get into some spicy new field with the introduction of the much powerful convolutional neural network architecture.\n",
    "\n",
    "9. **Comparing Models** : By this point, we've built three different models and we're going to compare them with each other to see what works.\n",
    "\n",
    "10. **Evaluating Best Model** : We'll be creating some predictions on random images and then evaluate the best model.\n",
    "\n",
    "11. **Making Confusion Matrix** : In addition, we'll also be creating a confusion matrix to evaluate a classification model. This will serve as practice and a practical application of how a confusion matrix works and how it helps.\n",
    "\n",
    "12. **Saving & Loading The Chosen Model** : Once we've done everything, we need to start saving our model and try loading it somewhere else so that we can actually work with it. "
   ]
  },
  {
   "cell_type": "markdown",
   "id": "435a480d-bc8e-4301-904f-24fee07fe02d",
   "metadata": {},
   "source": [
    "**Computer Vision Libraries in PyTorch**\n",
    "\n",
    "We'll be taking a look at at some PyTorch computer libraries that we should be aware of before actually writing code. This will serve as a good jumping off point to making the process a lot less confusing along the line.\n",
    "\n",
    "**torchvision** : this module contains the datasets, model architectures, and image transformations that are vital for computer vision problems. \n",
    "\n",
    "**torchvision.datasets** : in this part, you can find many different datasets for a range of problems that you want to work with from image classification, object detection, image captioning, and even video classifcation + more. This also contains many base classes for making custom datasets that you want to make by yourself. \n",
    "\n",
    "**torchvision.models** : if you want to work with pre-trained models then you can grab one from here. This module contains well-performing and commonly used vision model architectures that are all implemented in PyTorch.\n",
    "\n",
    "**torchvision.transforms** : when working with your dataset, you're going to need to transform them to workable data. Images get turned into numbers, processed, and even augmented. Before working with models, you'll need to work with the data first.\n",
    "\n",
    "**torch.utils.Dataset** : simply the base dataset class for PyTorch.\n",
    "\n",
    "**torch.utils.data.DataLoader** : this creates an iterable over a dataset. Created by calling *torch.utils.data.Dataset*\n",
    "\n",
    "**NOTE:** *torch.utils.Dataset* and *torch.utils.DataLoader* classes are also capable of working with other types of data and not only for computer vision."
   ]
  },
  {
   "cell_type": "markdown",
   "id": "01cf8183-8ff2-4ed3-a694-90eb27ec1457",
   "metadata": {},
   "source": [
    "Now that those PyTorch libraries are now explained, it's time to get started by importing the dependencies needed to start working."
   ]
  },
  {
   "cell_type": "code",
   "execution_count": 53,
   "id": "3af082f9-19b8-4b03-9a53-3a42a2e92b47",
   "metadata": {},
   "outputs": [],
   "source": [
    "import torch\n",
    "from torch import nn\n",
    "\n",
    "import torchvision\n",
    "from torchvision import datasets\n",
    "from torchvision.transforms import ToTensor\n",
    "\n",
    "from torch.utils.data import DataLoader\n",
    "\n",
    "import matplotlib.pyplot as plt\n",
    "\n",
    "import requests\n",
    "from pathlib import Path\n",
    "\n",
    "import torchmetrics\n",
    "from timeit import default_timer as timer\n",
    "\n",
    "from tqdm import tqdm\n",
    "\n",
    "import pandas as pd\n",
    "from torchmetrics import ConfusionMatrix\n",
    "from mlxtend.plotting import plot_confusion_matrix"
   ]
  },
  {
   "cell_type": "markdown",
   "id": "3c9245a2-35d5-4fe6-a1cf-b4c33b175fbf",
   "metadata": {},
   "source": [
    "**Getting Dataset**\n",
    "\n",
    "Before working with a computer vision problem, we'll need a computer vision dataset! Can't start working without data. So, starting off with FashionMNIST. \n",
    "\n",
    "MNIST stands for Modified National Institute of Standards and Technology \n",
    "\n",
    "The original MNIST dataset consists of thousands of examples of handwritten digits from 0 to 9 - which was in one of the PyTorch tutorials mentioned before. It was used to build computer vision models in identifying postal service numbers. \n",
    "\n",
    "FashionMNIST is in a smiliar setup. Except for the fact that it contains grayscale images of 10 different kinds of clothing."
   ]
  },
  {
   "cell_type": "markdown",
   "id": "eec5a80d-8da2-4703-8f7f-4a41ff3c9b06",
   "metadata": {},
   "source": [
    "![Display](images/03-fashion-mnist-slide.png \"What's inside FashionMNSIT\")"
   ]
  },
  {
   "cell_type": "markdown",
   "id": "3c078e30-84ef-46de-9463-ebddbfc7ffc5",
   "metadata": {},
   "source": [
    "*torchvision.datasets* contains many more examples of datasets that can be used for practicing computer vision code on. FashionMNIST is an example of those datasets. It has 10 different image classes and because of that, it is considered as a multiclassification problem. \n",
    "\n",
    "We'll be creating a computer vision neural network that can identify the different styles of clothing in these images a bit later on. \n",
    "\n",
    "PyTorch has other common computer vision datasets in the *torchvision.datasets*\n",
    "\n",
    "This includes the FasionMNIST in *torchvision.datasets.FashionMNIST()*\n",
    "\n",
    "First, we're going to need to download it and we provide the following parameters:\n",
    "\n",
    "*root: str* - indicating which folder do you want to download to.\n",
    "*train: bool* - this asks whether you want the train (true) or test (false) dataset. \n",
    "*download: bool* - if you want to download the data.\n",
    "*transform: torchvision.transformers* - what would be the transformations to be done with the data.\n",
    "*target_transform* - allowing you to transform the targets (labels) of the data.\n",
    "\n",
    "These parameters are also available with other *torchvision* datasets. "
   ]
  },
  {
   "cell_type": "code",
   "execution_count": 2,
   "id": "4157a509-7592-46af-8318-91a52141f370",
   "metadata": {},
   "outputs": [],
   "source": [
    "# Setting up Training Data\n",
    "train_data = datasets.FashionMNIST(\n",
    "    root=\"data\", # Where to download?\n",
    "    train=True, # Split train / test data?\n",
    "    download=True, # Should download?\n",
    "    transform=ToTensor(), # images are in PIL format - Transform to PyTorch Tensors\n",
    "    target_transform=None # transform labels?\n",
    ")\n",
    "\n",
    "test_data = datasets.FashionMNIST(\n",
    "    root=\"data\",\n",
    "    train=False,\n",
    "    download=True,\n",
    "    transform=ToTensor(),\n",
    ")"
   ]
  },
  {
   "cell_type": "code",
   "execution_count": 3,
   "id": "5ea83e91-2869-49c2-a529-2ebfc020c295",
   "metadata": {},
   "outputs": [
    {
     "data": {
      "text/plain": [
       "(tensor([[[0.0000, 0.0000, 0.0000, 0.0000, 0.0000, 0.0000, 0.0000, 0.0000,\n",
       "           0.0000, 0.0000, 0.0000, 0.0000, 0.0000, 0.0000, 0.0000, 0.0000,\n",
       "           0.0000, 0.0000, 0.0000, 0.0000, 0.0000, 0.0000, 0.0000, 0.0000,\n",
       "           0.0000, 0.0000, 0.0000, 0.0000],\n",
       "          [0.0000, 0.0000, 0.0000, 0.0000, 0.0000, 0.0000, 0.0000, 0.0000,\n",
       "           0.0000, 0.0000, 0.0000, 0.0000, 0.0000, 0.0000, 0.0000, 0.0000,\n",
       "           0.0000, 0.0000, 0.0000, 0.0000, 0.0000, 0.0000, 0.0000, 0.0000,\n",
       "           0.0000, 0.0000, 0.0000, 0.0000],\n",
       "          [0.0000, 0.0000, 0.0000, 0.0000, 0.0000, 0.0000, 0.0000, 0.0000,\n",
       "           0.0000, 0.0000, 0.0000, 0.0000, 0.0000, 0.0000, 0.0000, 0.0000,\n",
       "           0.0000, 0.0000, 0.0000, 0.0000, 0.0000, 0.0000, 0.0000, 0.0000,\n",
       "           0.0000, 0.0000, 0.0000, 0.0000],\n",
       "          [0.0000, 0.0000, 0.0000, 0.0000, 0.0000, 0.0000, 0.0000, 0.0000,\n",
       "           0.0000, 0.0000, 0.0000, 0.0000, 0.0039, 0.0000, 0.0000, 0.0510,\n",
       "           0.2863, 0.0000, 0.0000, 0.0039, 0.0157, 0.0000, 0.0000, 0.0000,\n",
       "           0.0000, 0.0039, 0.0039, 0.0000],\n",
       "          [0.0000, 0.0000, 0.0000, 0.0000, 0.0000, 0.0000, 0.0000, 0.0000,\n",
       "           0.0000, 0.0000, 0.0000, 0.0000, 0.0118, 0.0000, 0.1412, 0.5333,\n",
       "           0.4980, 0.2431, 0.2118, 0.0000, 0.0000, 0.0000, 0.0039, 0.0118,\n",
       "           0.0157, 0.0000, 0.0000, 0.0118],\n",
       "          [0.0000, 0.0000, 0.0000, 0.0000, 0.0000, 0.0000, 0.0000, 0.0000,\n",
       "           0.0000, 0.0000, 0.0000, 0.0000, 0.0235, 0.0000, 0.4000, 0.8000,\n",
       "           0.6902, 0.5255, 0.5647, 0.4824, 0.0902, 0.0000, 0.0000, 0.0000,\n",
       "           0.0000, 0.0471, 0.0392, 0.0000],\n",
       "          [0.0000, 0.0000, 0.0000, 0.0000, 0.0000, 0.0000, 0.0000, 0.0000,\n",
       "           0.0000, 0.0000, 0.0000, 0.0000, 0.0000, 0.0000, 0.6078, 0.9255,\n",
       "           0.8118, 0.6980, 0.4196, 0.6118, 0.6314, 0.4275, 0.2510, 0.0902,\n",
       "           0.3020, 0.5098, 0.2824, 0.0588],\n",
       "          [0.0000, 0.0000, 0.0000, 0.0000, 0.0000, 0.0000, 0.0000, 0.0000,\n",
       "           0.0000, 0.0000, 0.0000, 0.0039, 0.0000, 0.2706, 0.8118, 0.8745,\n",
       "           0.8549, 0.8471, 0.8471, 0.6392, 0.4980, 0.4745, 0.4784, 0.5725,\n",
       "           0.5529, 0.3451, 0.6745, 0.2588],\n",
       "          [0.0000, 0.0000, 0.0000, 0.0000, 0.0000, 0.0000, 0.0000, 0.0000,\n",
       "           0.0000, 0.0039, 0.0039, 0.0039, 0.0000, 0.7843, 0.9098, 0.9098,\n",
       "           0.9137, 0.8980, 0.8745, 0.8745, 0.8431, 0.8353, 0.6431, 0.4980,\n",
       "           0.4824, 0.7686, 0.8980, 0.0000],\n",
       "          [0.0000, 0.0000, 0.0000, 0.0000, 0.0000, 0.0000, 0.0000, 0.0000,\n",
       "           0.0000, 0.0000, 0.0000, 0.0000, 0.0000, 0.7176, 0.8824, 0.8471,\n",
       "           0.8745, 0.8941, 0.9216, 0.8902, 0.8784, 0.8706, 0.8784, 0.8667,\n",
       "           0.8745, 0.9608, 0.6784, 0.0000],\n",
       "          [0.0000, 0.0000, 0.0000, 0.0000, 0.0000, 0.0000, 0.0000, 0.0000,\n",
       "           0.0000, 0.0000, 0.0000, 0.0000, 0.0000, 0.7569, 0.8941, 0.8549,\n",
       "           0.8353, 0.7765, 0.7059, 0.8314, 0.8235, 0.8275, 0.8353, 0.8745,\n",
       "           0.8627, 0.9529, 0.7922, 0.0000],\n",
       "          [0.0000, 0.0000, 0.0000, 0.0000, 0.0000, 0.0000, 0.0000, 0.0000,\n",
       "           0.0000, 0.0039, 0.0118, 0.0000, 0.0471, 0.8588, 0.8627, 0.8314,\n",
       "           0.8549, 0.7529, 0.6627, 0.8902, 0.8157, 0.8549, 0.8784, 0.8314,\n",
       "           0.8863, 0.7725, 0.8196, 0.2039],\n",
       "          [0.0000, 0.0000, 0.0000, 0.0000, 0.0000, 0.0000, 0.0000, 0.0000,\n",
       "           0.0000, 0.0000, 0.0235, 0.0000, 0.3882, 0.9569, 0.8706, 0.8627,\n",
       "           0.8549, 0.7961, 0.7765, 0.8667, 0.8431, 0.8353, 0.8706, 0.8627,\n",
       "           0.9608, 0.4667, 0.6549, 0.2196],\n",
       "          [0.0000, 0.0000, 0.0000, 0.0000, 0.0000, 0.0000, 0.0000, 0.0000,\n",
       "           0.0000, 0.0157, 0.0000, 0.0000, 0.2157, 0.9255, 0.8941, 0.9020,\n",
       "           0.8941, 0.9412, 0.9098, 0.8353, 0.8549, 0.8745, 0.9176, 0.8510,\n",
       "           0.8510, 0.8196, 0.3608, 0.0000],\n",
       "          [0.0000, 0.0000, 0.0039, 0.0157, 0.0235, 0.0275, 0.0078, 0.0000,\n",
       "           0.0000, 0.0000, 0.0000, 0.0000, 0.9294, 0.8863, 0.8510, 0.8745,\n",
       "           0.8706, 0.8588, 0.8706, 0.8667, 0.8471, 0.8745, 0.8980, 0.8431,\n",
       "           0.8549, 1.0000, 0.3020, 0.0000],\n",
       "          [0.0000, 0.0118, 0.0000, 0.0000, 0.0000, 0.0000, 0.0000, 0.0000,\n",
       "           0.0000, 0.2431, 0.5686, 0.8000, 0.8941, 0.8118, 0.8353, 0.8667,\n",
       "           0.8549, 0.8157, 0.8275, 0.8549, 0.8784, 0.8745, 0.8588, 0.8431,\n",
       "           0.8784, 0.9569, 0.6235, 0.0000],\n",
       "          [0.0000, 0.0000, 0.0000, 0.0000, 0.0706, 0.1725, 0.3216, 0.4196,\n",
       "           0.7412, 0.8941, 0.8627, 0.8706, 0.8510, 0.8863, 0.7843, 0.8039,\n",
       "           0.8275, 0.9020, 0.8784, 0.9176, 0.6902, 0.7373, 0.9804, 0.9725,\n",
       "           0.9137, 0.9333, 0.8431, 0.0000],\n",
       "          [0.0000, 0.2235, 0.7333, 0.8157, 0.8784, 0.8667, 0.8784, 0.8157,\n",
       "           0.8000, 0.8392, 0.8157, 0.8196, 0.7843, 0.6235, 0.9608, 0.7569,\n",
       "           0.8078, 0.8745, 1.0000, 1.0000, 0.8667, 0.9176, 0.8667, 0.8275,\n",
       "           0.8627, 0.9098, 0.9647, 0.0000],\n",
       "          [0.0118, 0.7922, 0.8941, 0.8784, 0.8667, 0.8275, 0.8275, 0.8392,\n",
       "           0.8039, 0.8039, 0.8039, 0.8627, 0.9412, 0.3137, 0.5882, 1.0000,\n",
       "           0.8980, 0.8667, 0.7373, 0.6039, 0.7490, 0.8235, 0.8000, 0.8196,\n",
       "           0.8706, 0.8941, 0.8824, 0.0000],\n",
       "          [0.3843, 0.9137, 0.7765, 0.8235, 0.8706, 0.8980, 0.8980, 0.9176,\n",
       "           0.9765, 0.8627, 0.7608, 0.8431, 0.8510, 0.9451, 0.2549, 0.2863,\n",
       "           0.4157, 0.4588, 0.6588, 0.8588, 0.8667, 0.8431, 0.8510, 0.8745,\n",
       "           0.8745, 0.8784, 0.8980, 0.1137],\n",
       "          [0.2941, 0.8000, 0.8314, 0.8000, 0.7569, 0.8039, 0.8275, 0.8824,\n",
       "           0.8471, 0.7255, 0.7725, 0.8078, 0.7765, 0.8353, 0.9412, 0.7647,\n",
       "           0.8902, 0.9608, 0.9373, 0.8745, 0.8549, 0.8314, 0.8196, 0.8706,\n",
       "           0.8627, 0.8667, 0.9020, 0.2627],\n",
       "          [0.1882, 0.7961, 0.7176, 0.7608, 0.8353, 0.7725, 0.7255, 0.7451,\n",
       "           0.7608, 0.7529, 0.7922, 0.8392, 0.8588, 0.8667, 0.8627, 0.9255,\n",
       "           0.8824, 0.8471, 0.7804, 0.8078, 0.7294, 0.7098, 0.6941, 0.6745,\n",
       "           0.7098, 0.8039, 0.8078, 0.4510],\n",
       "          [0.0000, 0.4784, 0.8588, 0.7569, 0.7020, 0.6706, 0.7176, 0.7686,\n",
       "           0.8000, 0.8235, 0.8353, 0.8118, 0.8275, 0.8235, 0.7843, 0.7686,\n",
       "           0.7608, 0.7490, 0.7647, 0.7490, 0.7765, 0.7529, 0.6902, 0.6118,\n",
       "           0.6549, 0.6941, 0.8235, 0.3608],\n",
       "          [0.0000, 0.0000, 0.2902, 0.7412, 0.8314, 0.7490, 0.6863, 0.6745,\n",
       "           0.6863, 0.7098, 0.7255, 0.7373, 0.7412, 0.7373, 0.7569, 0.7765,\n",
       "           0.8000, 0.8196, 0.8235, 0.8235, 0.8275, 0.7373, 0.7373, 0.7608,\n",
       "           0.7529, 0.8471, 0.6667, 0.0000],\n",
       "          [0.0078, 0.0000, 0.0000, 0.0000, 0.2588, 0.7843, 0.8706, 0.9294,\n",
       "           0.9373, 0.9490, 0.9647, 0.9529, 0.9569, 0.8667, 0.8627, 0.7569,\n",
       "           0.7490, 0.7020, 0.7137, 0.7137, 0.7098, 0.6902, 0.6510, 0.6588,\n",
       "           0.3882, 0.2275, 0.0000, 0.0000],\n",
       "          [0.0000, 0.0000, 0.0000, 0.0000, 0.0000, 0.0000, 0.0000, 0.1569,\n",
       "           0.2392, 0.1725, 0.2824, 0.1608, 0.1373, 0.0000, 0.0000, 0.0000,\n",
       "           0.0000, 0.0000, 0.0000, 0.0000, 0.0000, 0.0000, 0.0000, 0.0000,\n",
       "           0.0000, 0.0000, 0.0000, 0.0000],\n",
       "          [0.0000, 0.0000, 0.0000, 0.0000, 0.0000, 0.0000, 0.0000, 0.0000,\n",
       "           0.0000, 0.0000, 0.0000, 0.0000, 0.0000, 0.0000, 0.0000, 0.0000,\n",
       "           0.0000, 0.0000, 0.0000, 0.0000, 0.0000, 0.0000, 0.0000, 0.0000,\n",
       "           0.0000, 0.0000, 0.0000, 0.0000],\n",
       "          [0.0000, 0.0000, 0.0000, 0.0000, 0.0000, 0.0000, 0.0000, 0.0000,\n",
       "           0.0000, 0.0000, 0.0000, 0.0000, 0.0000, 0.0000, 0.0000, 0.0000,\n",
       "           0.0000, 0.0000, 0.0000, 0.0000, 0.0000, 0.0000, 0.0000, 0.0000,\n",
       "           0.0000, 0.0000, 0.0000, 0.0000]]]),\n",
       " 9)"
      ]
     },
     "execution_count": 3,
     "metadata": {},
     "output_type": "execute_result"
    }
   ],
   "source": [
    "# Check the first training sample\n",
    "image, label = train_data[0]\n",
    "image, label"
   ]
  },
  {
   "cell_type": "markdown",
   "id": "93cefa3f-dff0-4d6d-99e6-743facac5638",
   "metadata": {},
   "source": [
    "**Input & Output Shapes of a Computer Vision Model**\n",
    "\n",
    "So we have large amount of tensors representing our image which all lead to a single value for the target (label). Let's take a look at the shape of the image\n"
   ]
  },
  {
   "cell_type": "code",
   "execution_count": 4,
   "id": "002412a5-f9e1-4794-912b-a799bc8e23ec",
   "metadata": {},
   "outputs": [
    {
     "data": {
      "text/plain": [
       "torch.Size([1, 28, 28])"
      ]
     },
     "execution_count": 4,
     "metadata": {},
     "output_type": "execute_result"
    }
   ],
   "source": [
    "image.shape"
   ]
  },
  {
   "cell_type": "markdown",
   "id": "4286c097-df23-4874-a8cb-7f664abc4e69",
   "metadata": {},
   "source": [
    "Breaking this down into a simpler explanation. \n",
    "\n",
    "The shape is : [color_channels=1, height=28, width=28]\n",
    "\n",
    "*color_channels=1* signifies that the image is shown in grayscale. "
   ]
  },
  {
   "cell_type": "markdown",
   "id": "6f852447-4f0b-4d19-917f-b503ab922bfc",
   "metadata": {},
   "source": [
    "![Display](images/03-computer-vision-input-and-output-shapes.png \"Image Shapes\")"
   ]
  },
  {
   "cell_type": "markdown",
   "id": "5e0becba-dfcd-49e4-a1c9-bc0bb59aaa1c",
   "metadata": {},
   "source": [
    "Different problems will have different input and output shapes. But the main idea will always stay the same. Turn the data into numbers, create a model to find a pattern in those numbers, and convert those patterns into something meaningful.\n",
    "\n",
    "If *color_channels=3* then the image will be displayed in pixel values of red, green, and blue - RGB. \n",
    "\n",
    "The order of the shape of the tensor that we've seen just now is referred to as *CHW* (Color Channels, Height, Width). \n",
    "\n",
    "However, there are debates on whether an image should be represented as *CHW* which means color channels first or *HWC* which is color channels last.\n",
    "\n",
    "In addition, you will also encounter *NCHW* and *NHWC* formats. *N* just means the number of images. For example, let's say we have a *batch_size=32*. Our tensor shape would reflect that by [32, 1, 28, 28]. We'll go deeper into *batch_sizes* further on.\n",
    "\n",
    "PyTorch's default is usually *NCHW* - channels first for many operators. BUT PyTorch also identifies that *NHWC* - channels last performs better and is considered to be the best practice. \n",
    "\n",
    "Though, in our case, this wouldn't matter as much since we're dealing with a small dataset and the models that we're making are small. \n",
    "\n",
    "But these are some important details to keep in mind in the future.\n",
    "\n",
    "Let's take a look at more shapes of the data that we are working with. "
   ]
  },
  {
   "cell_type": "code",
   "execution_count": 5,
   "id": "26b50ebb-38b8-49ef-8a31-90e6536cb67e",
   "metadata": {},
   "outputs": [
    {
     "data": {
      "text/plain": [
       "(60000, 60000, 10000, 10000)"
      ]
     },
     "execution_count": 5,
     "metadata": {},
     "output_type": "execute_result"
    }
   ],
   "source": [
    "len(train_data.data), len(train_data.targets), len(test_data.data), len(test_data.targets)"
   ]
  },
  {
   "cell_type": "markdown",
   "id": "3341db5a-230e-4c00-b95d-4f5804ae81e2",
   "metadata": {},
   "source": [
    "So we are working with 60,000 training samples and 10,000 testing samples. That's quite a jump from the previous work that we were doing and considering the fact that these are images, we're really taking it up a notch. \n",
    "\n",
    "But you'll see that these are pretty much the same thing at the end of the day.\n",
    "\n",
    "Let's take a look at the classes that we have. We can look at them by using the *.classes* attribute."
   ]
  },
  {
   "cell_type": "code",
   "execution_count": 6,
   "id": "63529c99-e691-4327-965c-62674cb26fa5",
   "metadata": {},
   "outputs": [
    {
     "data": {
      "text/plain": [
       "['T-shirt/top',\n",
       " 'Trouser',\n",
       " 'Pullover',\n",
       " 'Dress',\n",
       " 'Coat',\n",
       " 'Sandal',\n",
       " 'Shirt',\n",
       " 'Sneaker',\n",
       " 'Bag',\n",
       " 'Ankle boot']"
      ]
     },
     "execution_count": 6,
     "metadata": {},
     "output_type": "execute_result"
    }
   ],
   "source": [
    "class_names = train_data.classes\n",
    "class_names"
   ]
  },
  {
   "cell_type": "markdown",
   "id": "6ba93b40-bac4-4698-8773-7cc1adfe0229",
   "metadata": {},
   "source": [
    "Looks like we're working with 10 different types of clothes. Since we're dealing with more than just a *this or that*  then that means this is a multiclassification problem. No biggie! Let's start visualizing the data that we're working with. "
   ]
  },
  {
   "cell_type": "markdown",
   "id": "3b1fcc80-bc7e-40f0-91ce-095317e98261",
   "metadata": {},
   "source": [
    "*Visualizing Data*"
   ]
  },
  {
   "cell_type": "code",
   "execution_count": 7,
   "id": "806f0765-cb8e-4e84-b8e7-1ac848b0f99e",
   "metadata": {},
   "outputs": [
    {
     "name": "stdout",
     "output_type": "stream",
     "text": [
      "Image Shape: torch.Size([1, 28, 28])\n"
     ]
    },
    {
     "data": {
      "text/plain": [
       "Text(0.5, 1.0, '9')"
      ]
     },
     "execution_count": 7,
     "metadata": {},
     "output_type": "execute_result"
    },
    {
     "data": {
      "image/png": "[encoded data removed]",
      "text/plain": [
       "<Figure size 640x480 with 1 Axes>"
      ]
     },
     "metadata": {},
     "output_type": "display_data"
    }
   ],
   "source": [
    "image, label = train_data[0] # Taking one sample from train data\n",
    "print(f\"Image Shape: {image.shape}\") \n",
    "plt.imshow(image.squeeze()) # Image shape is [1, 28, 28]. \n",
    "# imshow needs only Height & Width so we need to do squeeze and remove the color channel\n",
    "plt.title(label)"
   ]
  },
  {
   "cell_type": "code",
   "execution_count": 8,
   "id": "ebd1144b-3a60-4f03-9ee9-485c789807b0",
   "metadata": {},
   "outputs": [
    {
     "data": {
      "text/plain": [
       "Text(0.5, 1.0, 'Ankle boot')"
      ]
     },
     "execution_count": 8,
     "metadata": {},
     "output_type": "execute_result"
    },
    {
     "data": {
      "image/png": "[encoded data removed]",
      "text/plain": [
       "<Figure size 640x480 with 1 Axes>"
      ]
     },
     "metadata": {},
     "output_type": "display_data"
    }
   ],
   "source": [
    "# If we want to grayscale the image then we can do so with adding a\n",
    "# cmap parameter to plt.imshow(), as shown below\n",
    "plt.imshow(image.squeeze(), cmap=\"gray\")\n",
    "plt.title(class_names[label])"
   ]
  },
  {
   "cell_type": "markdown",
   "id": "c80fe5ff-d497-4c4c-9a98-203a49f5b261",
   "metadata": {},
   "source": [
    "Let's do a couple more for other images "
   ]
  },
  {
   "cell_type": "code",
   "execution_count": 3,
   "id": "c86af3ef-8a74-456e-9b0e-4c957b5e20e1",
   "metadata": {},
   "outputs": [
    {
     "ename": "NameError",
     "evalue": "name 'torch' is not defined",
     "output_type": "error",
     "traceback": [
      "\u001b[1;31m---------------------------------------------------------------------------\u001b[0m",
      "\u001b[1;31mNameError\u001b[0m                                 Traceback (most recent call last)",
      "Cell \u001b[1;32mIn[3], line 1\u001b[0m\n\u001b[1;32m----> 1\u001b[0m \u001b[43mtorch\u001b[49m\u001b[38;5;241m.\u001b[39mmanual_seed(\u001b[38;5;241m42\u001b[39m)\n\u001b[0;32m      2\u001b[0m fig \u001b[38;5;241m=\u001b[39m plt\u001b[38;5;241m.\u001b[39mfigure(figsize\u001b[38;5;241m=\u001b[39m(\u001b[38;5;241m9\u001b[39m,\u001b[38;5;241m9\u001b[39m))\n\u001b[0;32m      3\u001b[0m rows, cols \u001b[38;5;241m=\u001b[39m \u001b[38;5;241m4\u001b[39m, \u001b[38;5;241m4\u001b[39m\n",
      "\u001b[1;31mNameError\u001b[0m: name 'torch' is not defined"
     ]
    }
   ],
   "source": [
    "torch.manual_seed(42)\n",
    "fig = plt.figure(figsize=(9,9))\n",
    "rows, cols = 4, 4\n",
    "for i in range(1, rows * cols + 1):\n",
    "    random_idx = torch.randint(0, len(train_data), size=[1]).item()\n",
    "    img, label = train_data[random_idx]\n",
    "    fig.add_subplot(rows, cols, i)\n",
    "    plt.imshow(img.squeeze(), cmap=\"gray\")\n",
    "    plt.title(class_names[label])\n",
    "    plt.axis(False);"
   ]
  },
  {
   "cell_type": "markdown",
   "id": "432130d3-bddf-4f0c-b4a1-1185b5315438",
   "metadata": {},
   "source": [
    "The principles that you will learn in how to build a model to address this problem will remain vital and similiar across many other computer vision problems that you will encounter. \n",
    "\n",
    "In essence, taking pixel values and building a model to find patterns in them to use on future pixel values. \n",
    "\n",
    "While we did mention that the dataset that we are working on now is quite large, it's still very small in comparison to other dataasets out there. In deep learning, 60,000 images is considered quite small. \n",
    "\n",
    "We could ask ourselves a question if we could create an algorithm ourselves that can identify these labels and classify them? We most likely can.\n",
    "\n",
    "But creating a model in PyTorch and letting the machine do the work is a lot faster. Why not let the machine do the heavy lifting instead? "
   ]
  },
  {
   "cell_type": "markdown",
   "id": "a54baa2b-0e0d-44aa-bf9d-81e59c5af485",
   "metadata": {},
   "source": [
    "**Prepare DataLoader**\n",
    "\n",
    "Now that we have already prepared our data, it's time to create a *DataLoader*.\n",
    "\n",
    "We'll be using *torch.utils.data.DataLoader* or *DataLoader* for short. \n",
    "\n",
    "From the name itself, *DataLoader* literally helps us load the data into a model. This is done for both training and inference. It allows us to create small iterable chunks of the data rather than just dumping it in one big thing. \n",
    "\n",
    "These 'small chunks' are called **batches / mini-batches** and is set by the *batch_size* parameter in *DataLoader*.\n",
    "\n",
    "But, why bother doing this? Because it is computationally efficient. \n",
    "\n",
    "In an ideal world, you could just cram everything into one forward pass and backward pass but in reality, we are only operating with limited resources.\n",
    "\n",
    "It's like trying to cram a square peg into a triangle hole. Unless you have infinite computing power then you can do that but typically, it's just a lot easier to break them down into batches. \n",
    "\n",
    "Not to mention that it gives the model more opportunities to improve. \n",
    "\n",
    "With mini-batches (small portions of the data), gradient descent is being performed more often per epoch because this occurs per each mini-batch as opposed to once per epoch. \n",
    "\n",
    "So what's a good batch size? Well this is one of those *hyperparameters* where you could set the number by yourself byt typically, 32 is a good starting point. \n",
    "\n",
    "But you can use any number you want. One good rule to follow is the powers of 2 so that is 32, 64, 128, 256, 512, etc. "
   ]
  },
  {
   "cell_type": "markdown",
   "id": "d97afdde-ca98-43cd-9c0e-abe6936541d9",
   "metadata": {},
   "source": [
    "![Display](images/03-batching-fashionmnist.png \"How Batching Works\")"
   ]
  },
  {
   "cell_type": "markdown",
   "id": "3cd476dc-b010-4afa-85d4-1c94d0473cad",
   "metadata": {},
   "source": [
    "Let's actually start creating *DataLoader* for our training and test sets."
   ]
  },
  {
   "cell_type": "code",
   "execution_count": 10,
   "id": "02d5311e-534a-4976-b48e-8d244c416d4b",
   "metadata": {},
   "outputs": [
    {
     "name": "stdout",
     "output_type": "stream",
     "text": [
      "Dataloaders: (<torch.utils.data.dataloader.DataLoader object at 0x000001BD477AF350>, <torch.utils.data.dataloader.DataLoader object at 0x000001BD474B3530>)\n",
      "Length of Train Dataloader: 1875 Batchsize of 32\n",
      "Length of Train Dataloader: 313 Batchsize of 32\n"
     ]
    }
   ],
   "source": [
    "# Setting hyperparameter batch size\n",
    "BATCH_SIZE = 32\n",
    "\n",
    "# Turning datasets into iterable batches\n",
    "train_dataloader = DataLoader(\n",
    "    train_data, # What dataset to use\n",
    "    batch_size=BATCH_SIZE, # How many samples per batch\n",
    "    shuffle=True # Shuffles the samples every epoch\n",
    ") \n",
    "\n",
    "test_dataloader = DataLoader(\n",
    "    test_data,\n",
    "    batch_size=BATCH_SIZE,\n",
    "    shuffle=False # We don't need to shuffle test data since we're just \n",
    "    # using these to evaluate our model\n",
    ")\n",
    "\n",
    "# Visualizing these dataloaders. \n",
    "print(f\"Dataloaders: {train_dataloader, test_dataloader}\")\n",
    "print(f\"Length of Train Dataloader: {len(train_dataloader)} Batchsize of {BATCH_SIZE}\")\n",
    "print(f\"Length of Train Dataloader: {len(test_dataloader)} Batchsize of {BATCH_SIZE}\")"
   ]
  },
  {
   "cell_type": "code",
   "execution_count": 11,
   "id": "b054c501-45f9-4b6a-bde1-a39e31cc83d6",
   "metadata": {},
   "outputs": [
    {
     "data": {
      "text/plain": [
       "(torch.Size([32, 1, 28, 28]), torch.Size([32]))"
      ]
     },
     "execution_count": 11,
     "metadata": {},
     "output_type": "execute_result"
    }
   ],
   "source": [
    "# Taking a look into the insides of a training dataloader\n",
    "train_features_batch, train_labels_batch = next(iter(train_dataloader))\n",
    "# We turn train_dataloader into an iterable object and call next to get the first batch\n",
    "# from the iterator that we just created.\n",
    "train_features_batch.shape, train_labels_batch.shape"
   ]
  },
  {
   "cell_type": "markdown",
   "id": "104733d4-507f-4eeb-8a41-b2ad17602bd7",
   "metadata": {},
   "source": [
    "Let's take a look at our sample's if anything's changed after we moved them into different batches from one single large list."
   ]
  },
  {
   "cell_type": "code",
   "execution_count": 12,
   "id": "3909935a-c907-4ca2-b864-22c045e491bf",
   "metadata": {},
   "outputs": [
    {
     "name": "stdout",
     "output_type": "stream",
     "text": [
      "Image size: torch.Size([1, 28, 28])\n",
      "Label: 6, label size: torch.Size([])\n"
     ]
    },
    {
     "data": {
      "image/png": "[encoded data removed]",
      "text/plain": [
       "<Figure size 640x480 with 1 Axes>"
      ]
     },
     "metadata": {},
     "output_type": "display_data"
    }
   ],
   "source": [
    "# Show a sample\n",
    "torch.manual_seed(42)\n",
    "random_idx = torch.randint(0, len(train_features_batch), size=[1]).item()\n",
    "img, label = train_features_batch[random_idx], train_labels_batch[random_idx]\n",
    "plt.imshow(img.squeeze(), cmap=\"gray\")\n",
    "plt.title(class_names[label])\n",
    "plt.axis(\"Off\");\n",
    "print(f\"Image size: {img.shape}\")\n",
    "print(f\"Label: {label}, label size: {label.shape}\")"
   ]
  },
  {
   "cell_type": "markdown",
   "id": "3a854163-3bff-4f43-86dc-e115524b9afa",
   "metadata": {},
   "source": [
    "**Building a Baseline Model: Model 0**\n",
    "\n",
    "Now that we have our data and also prepared it for training, we can start creating a model that we can use to train on these. \n",
    "\n",
    "First, subclass our baseline model to *nn.Module*.\n",
    "\n",
    "Remember that a **baseline model** is one of the simplest model that you can imagine. No fancy tricks or anything whatsoever that you think you need to accomodate this or that. \n",
    "\n",
    "It's just a jumping off point to improve further iterations of the model. \n",
    "\n",
    "So, our baseline will consist of two *nn.Linear()* layers.\n",
    "\n",
    "Everything's the same except for one tiny detail with the addition of *nn.Flatten()*. This is because we are working with image data and that's exactly why there's going to be an additional layer that is going to be introduced. \n",
    "\n",
    "To sum it all up, *nn.Flatten* compresses the dimensions of a tensor into a single vector. This is easier to visualize when done in practice. "
   ]
  },
  {
   "cell_type": "code",
   "execution_count": 13,
   "id": "d7c6e2f7-afef-437e-ba65-d89ce199cec3",
   "metadata": {},
   "outputs": [
    {
     "name": "stdout",
     "output_type": "stream",
     "text": [
      "Shape Before Flattening: torch.Size([1, 28, 28]) -> [color_channels, height, width]\n",
      "Shape After Flattening: torch.Size([1, 784]) -> [color_channels, height*width]\n"
     ]
    }
   ],
   "source": [
    "# Create a flatten layer \n",
    "flatten_model = nn.Flatten() # all nn modules function as a model and can do a forward pass \n",
    "\n",
    "# Get single sample\n",
    "x = train_features_batch[0]\n",
    "\n",
    "# Flatten the sample\n",
    "output = flatten_model(x) # Conduct forward pass \n",
    "\n",
    "# Print outputs\n",
    "print(f\"Shape Before Flattening: {x.shape} -> [color_channels, height, width]\")\n",
    "print(f\"Shape After Flattening: {output.shape} -> [color_channels, height*width]\")"
   ]
  },
  {
   "cell_type": "markdown",
   "id": "bde3c482-35c3-4dad-aac5-ba62bfe4f595",
   "metadata": {},
   "source": [
    "So the *nn.Flatten()* took the shape from [color_channels, height, width] and converted it into [color_channels, height * width].\n",
    "\n",
    "Why do this? \n",
    "\n",
    "With that change, we've turned the pixel data height and widht dimensions into just one long **feature vector**. \n",
    "\n",
    "That's great because *nn.Linear()* loves it when their inputs are in the form of feature vectors. \n",
    "\n",
    "Putting it in another way Height & Width can also be considered as Rows & Columns. When we conduct *nn.Flatten()* this creates one long feature vector but how does this look like? It's pretty simple.\n",
    "\n",
    "Height (Rows) is the 2nd Dimension so it goes first then the Width (Columns) are in the 3rd Dimension so go last. Basically the feature vector goes through all the values of Height (Rows) and then Width (Columns).\n",
    "\n",
    "In anycase, let's start making a model. "
   ]
  },
  {
   "cell_type": "code",
   "execution_count": 14,
   "id": "d3cf1d9e-b109-4b09-afa1-8c6cc3e2e228",
   "metadata": {},
   "outputs": [],
   "source": [
    "class FashionMNISTModelV0(nn.Module):\n",
    "    def __init__(self, input_shape: int, hidden_units: int, output_shape: int):\n",
    "        super().__init__()\n",
    "        self.layer_stack = nn.Sequential(\n",
    "            nn.Flatten(), # Turning input (Height & Width) into vector (H x W)\n",
    "            nn.Linear(input_shape, hidden_units, ),\n",
    "            nn.Linear(hidden_units, output_shape)\n",
    "        )\n",
    "\n",
    "    def forward(self, x):\n",
    "        return self.layer_stack(x)"
   ]
  },
  {
   "cell_type": "markdown",
   "id": "67b1611e-526f-43a0-a8e6-e14db2d1aabd",
   "metadata": {},
   "source": [
    "Since we now have a baseline model that we can use, let's instantiate it. \n",
    "\n",
    "We've setup multiple parameters so let's go over them for a bit. \n",
    "\n",
    "*input_shape=784*: This explains how many features that we have in the model. Since we are working with images, we're going to need one value for each pixel. Height x Width = Total Pixels. That's going to be 28x28 = 728. That's 728 features.\n",
    "\n",
    "*hidden_units=10*: This hyperparameter is a personal choice. In this part, we'll be setting it at 10 since it's a good start.\n",
    "\n",
    "*output_shape=len(class_names)*: Remember that we had a list of class names earlier? Since we're working with a multiclassification problem then the number of classes that we have will be the value for our output neuron. \n",
    "\n",
    "Now that's over, let's start insantiating our baseline model and setting it to the CPU for now. "
   ]
  },
  {
   "cell_type": "code",
   "execution_count": 15,
   "id": "141a952b-d0c6-43d1-952e-7cff46685ece",
   "metadata": {},
   "outputs": [
    {
     "data": {
      "text/plain": [
       "FashionMNISTModelV0(\n",
       "  (layer_stack): Sequential(\n",
       "    (0): Flatten(start_dim=1, end_dim=-1)\n",
       "    (1): Linear(in_features=784, out_features=10, bias=True)\n",
       "    (2): Linear(in_features=10, out_features=10, bias=True)\n",
       "  )\n",
       ")"
      ]
     },
     "execution_count": 15,
     "metadata": {},
     "output_type": "execute_result"
    }
   ],
   "source": [
    "torch.manual_seed(42)\n",
    "\n",
    "# Instantiate with parameters\n",
    "model_0 = FashionMNISTModelV0(784, 10, len(class_names))\n",
    "\n",
    "# Sending to CPU device\n",
    "model_0.to(\"cpu\")"
   ]
  },
  {
   "cell_type": "markdown",
   "id": "f7e0c4ed-5710-4d58-82c1-1d8399e8bef0",
   "metadata": {},
   "source": [
    "**Setting up Loss, Optimizer, & Evaluation Metrics**\n",
    "\n",
    "Since we're working with a classification problem, let's call again our *helper_functions.py* script and call *accuracy_fn()*\n",
    "\n",
    "**NOTE**: We could also use the evaluation metrics from *TorchMetrics* instead. "
   ]
  },
  {
   "cell_type": "code",
   "execution_count": 16,
   "id": "3f657804-13b1-41cc-b0a1-ce1cef506286",
   "metadata": {},
   "outputs": [],
   "source": [
    "accuracy_fn = torchmetrics.Accuracy(task='multiclass', num_classes=len(class_names)).to('cpu')\n",
    "loss_fn = nn.CrossEntropyLoss()\n",
    "optim = torch.optim.SGD(model_0.parameters(), lr=0.1)"
   ]
  },
  {
   "cell_type": "markdown",
   "id": "ec1fa062-6eff-48ab-8a86-b595a33e9e02",
   "metadata": {},
   "source": [
    "**Creating a Function To Time Experiments**\n",
    "\n",
    "With the loss, optimizer, and accuracy ready to use. It's time to start training a model. But before that, let's do a little experiment.\n",
    "\n",
    "That is, let's try creating a timing function to see the time it takes our model to train on the CPU vs GPU. That way we can really see the difference between the two.\n",
    "\n",
    "We'll train this model on the CPU first then on the GPU after and see what happens. \n",
    "\n",
    "The timing function is something that we will just import - *timeit.default_timer()* function from the Python *timeit* module. "
   ]
  },
  {
   "cell_type": "code",
   "execution_count": 17,
   "id": "ccb04da4-90d7-4cbb-a441-9e75790b0b74",
   "metadata": {},
   "outputs": [],
   "source": [
    "def print_train_time(start: float, end: float, device: torch.device = None):\n",
    "    \"\"\"Prints difference between start and end time.\n",
    "\n",
    "    Args:\n",
    "        start (float): Start time of computation (preferred in timeit format). \n",
    "        end (float): End time of computation.\n",
    "        device ([type], optional): Device that compute is running on. Defaults to None.\n",
    "\n",
    "    Returns:\n",
    "        float: time between start and end in seconds (higher is longer).\n",
    "    \"\"\"\n",
    "    total_time = end - start\n",
    "    print(f\"Train time on {device}: {total_time:.3f} seconds\")\n",
    "    return total_time"
   ]
  },
  {
   "cell_type": "markdown",
   "id": "207dffd7-de63-47a2-95ec-b5001b437967",
   "metadata": {},
   "source": [
    "**Creating Training Loop & Training Model with Batches of Data**\n",
    "\n",
    "Now that we've have everything ready to go and setup, it's time to create the training and testing loop to train and evaluate the model. \n",
    "\n",
    "It's pretty much the same steps as before although our data is now seperated into batches instead. So how do we go about doing this? Well, we'll just basically add another loop to loop through the data batches. \n",
    "\n",
    "Lookin back, our data batches are contained in our *DataLoader* which were *train_dataloader* and *test_dataloader* for the training and test data splits. \n",
    "\n",
    "Again, a batch is *BATCH_SIZE* samples of X (features) and y (labels), since we're dealing with a *BATCH_SIZE* of 32 then each single batch has 32 samples of images and targets.\n",
    "\n",
    "Because we are computing on batches of data then that means our loss and evaluation metrics will also be calculated **per batch** rather than the entire dataset per epoch. \n",
    "\n",
    "That means that we'll have to divide our loss and accuracy values by the number of batches in each dataset's respective dataloader.\n",
    "\n",
    "Quite a lot to take in? Let's make this into a step-by-step process.\n",
    "\n",
    "1. Loop Through Epochs\n",
    "2. Loop Through Training Batches - Perform Training Steps - Calculate Loss Per Batch\n",
    "3. Loop Through Testing Batches - Perform Trainign Steps - Calculate Loss Per Batch\n",
    "4. Print Loss & Evaluation Metrics\n",
    "5. Timing Everything\n",
    "\n",
    "Kinda expanded it a bit but it's nothing big if we actually put all these into code."
   ]
  },
  {
   "cell_type": "code",
   "execution_count": 18,
   "id": "c9170c1f-1772-40a5-844a-1f636d60890e",
   "metadata": {},
   "outputs": [
    {
     "name": "stdout",
     "output_type": "stream",
     "text": [
      "Epoch: 0\n",
      "--------\n",
      "Looked at 0/60000 samples\n",
      "Looked at 12800/60000 samples\n",
      "Looked at 25600/60000 samples\n",
      "Looked at 38400/60000 samples\n",
      "Looked at 51200/60000 samples\n",
      "\n",
      "Train Loss: 0.59039 | Test Loss: 0.50954 | Test Acc: 0.82%\n",
      "\n",
      "Epoch: 1\n",
      "--------\n",
      "Looked at 0/60000 samples\n",
      "Looked at 12800/60000 samples\n",
      "Looked at 25600/60000 samples\n",
      "Looked at 38400/60000 samples\n",
      "Looked at 51200/60000 samples\n",
      "\n",
      "Train Loss: 0.47633 | Test Loss: 0.47989 | Test Acc: 0.83%\n",
      "\n",
      "Epoch: 2\n",
      "--------\n",
      "Looked at 0/60000 samples\n",
      "Looked at 12800/60000 samples\n",
      "Looked at 25600/60000 samples\n",
      "Looked at 38400/60000 samples\n",
      "Looked at 51200/60000 samples\n",
      "\n",
      "Train Loss: 0.45503 | Test Loss: 0.47664 | Test Acc: 0.83%\n",
      "\n",
      "Train time on cpu: 35.051 seconds\n"
     ]
    }
   ],
   "source": [
    "# Imports a progress bar\n",
    "from tqdm.auto import tqdm\n",
    "\n",
    "# Set seed and start timer\n",
    "torch.manual_seed(42)\n",
    "train_time_start_on_cpu = timer()\n",
    "\n",
    "# Set number of epochs - we'll set this small for faster training time\n",
    "epochs = 3\n",
    "\n",
    "for epoch in range(epochs):\n",
    "    print(f\"Epoch: {epoch}\\n--------\")\n",
    "    ### Training\n",
    "    total_train_loss = 0\n",
    "    # Adding a loop to loop through training batches\n",
    "    for batch, (X, y) in enumerate(train_dataloader):\n",
    "        ### Setting To Train\n",
    "        model_0.train()\n",
    "\n",
    "        ### Forward Pass\n",
    "        train_pred = model_0(X)\n",
    "        # Calculate Loss\n",
    "        train_loss = loss_fn(train_pred, y)\n",
    "        # Accumulate Loss \n",
    "        total_train_loss += train_loss \n",
    "\n",
    "        optim.zero_grad()\n",
    "        train_loss.backward()\n",
    "        optim.step()\n",
    "\n",
    "        # Print Samples Seen\n",
    "        if batch % 400 == 0:\n",
    "            print(f\"Looked at {batch * len(X)}/{len(train_dataloader.dataset)} samples\")\n",
    "\n",
    "    # Divide Total Train Loss by Length of Train DataLoader \n",
    "    # average loss per batch per epoch\n",
    "    total_train_loss /= len(train_dataloader)\n",
    "\n",
    "    ### Testing\n",
    "    # Setup variables for accumulating loss & accuracy\n",
    "    total_test_loss, total_test_acc = 0, 0\n",
    "    model_0.eval()\n",
    "    with torch.inference_mode():\n",
    "        for X, y in test_dataloader: \n",
    "            # Forward Pass\n",
    "            test_pred = model_0(X)\n",
    "            # Calculate Loss Accum\n",
    "            total_test_loss += loss_fn(test_pred, y)\n",
    "            # Calculate Accuracy Accum\n",
    "            total_test_acc += accuracy_fn(y, test_pred.argmax(dim=1))\n",
    "\n",
    "        # Divide total loss/acc by length of dataloader - per batch\n",
    "        total_test_loss /= len(test_dataloader)\n",
    "        total_test_acc /= len(test_dataloader)\n",
    "\n",
    "    ## Print Metrics\n",
    "    print(f\"\\nTrain Loss: {total_train_loss:.5f} | Test Loss: {total_test_loss:.5f} | Test Acc: {total_test_acc:.2f}%\\n\")\n",
    "\n",
    "# Calculate Training Time\n",
    "train_time_end_on_cpu = timer()\n",
    "total_train_time_model_0 = print_train_time(start=train_time_start_on_cpu, \n",
    "                                           end=train_time_end_on_cpu,\n",
    "                                           device=str(next(model_0.parameters()).device))"
   ]
  },
  {
   "cell_type": "markdown",
   "id": "41adebde-4a95-42b9-aa42-5682ca196dfe",
   "metadata": {},
   "source": [
    "**SEGWAY**:\n",
    "\n",
    "Is *DataLoader* still a bit confusing? It'll be a lot easier to understand if we visualize it first. Since we're working with a *DataLoader* object, we can make this into an enumerate object which basically just adds a counter to each iterable so this would be what's happening:\n",
    "\n",
    "*enumerate(train_dataloader)* -\n",
    "\n",
    "DataLoader: [(Batch1_X, Batch1_y), (Batch2_X, Batch2_y), ...]\n",
    "Ater Enumerate: [(0, (Batch1_X, Batch1_y)), (1, (Batch2_X, Batch2_y)), ...]\n",
    "\n",
    "*for batch_index, (X, y) in ...* -\n",
    "\n",
    "This unpacks the tuple syntax that assigns the index to *batch_index* and then applies the batch data of that index to *(X, y)*.\n",
    "\n",
    "To sum it all up. We enumerate the train_dataloader so that we can have indexes for each batch. We assign these indexes to *batch_index* in the loop, because of this we can now then assign the data from each batch to the X and y.\n",
    "\n",
    "Without enumeration, we really wouldn't know which batch we're working on.\n",
    "\n",
    "**This entire process of enumerating and doing a for loop is just so that we can access the X and y from each batch that we created in the DataLoader object.**\n",
    "\n",
    "Are you confused about the comma on the for loop? Take a look again at the structure of the enumerated object that we get. Notice how it's TWO elements? \n",
    "\n",
    "The index number and then the data? The comma serves as a seperator. It implies that the batch_size is assigned the index number and then the (X, y) are assigned their respective values from inside the second element.\n",
    "\n",
    "Let's take a look at this again but this time we're just printing out each batch and the size of the X and y that are included within the batch."
   ]
  },
  {
   "cell_type": "code",
   "execution_count": 19,
   "id": "eeb79e59-74ac-498d-b7ca-d915a89d7648",
   "metadata": {},
   "outputs": [
    {
     "name": "stdout",
     "output_type": "stream",
     "text": [
      "Batch 0: (X)-Features Shape: torch.Size([32, 1, 28, 28]), (y)-Labels Shape: torch.Size([32])\n",
      "Batch 1: (X)-Features Shape: torch.Size([32, 1, 28, 28]), (y)-Labels Shape: torch.Size([32])\n",
      "Batch 2: (X)-Features Shape: torch.Size([32, 1, 28, 28]), (y)-Labels Shape: torch.Size([32])\n"
     ]
    }
   ],
   "source": [
    "for batch_index, (X, y) in enumerate(train_dataloader):\n",
    "    print(f\"Batch {batch_index}: (X)-Features Shape: {X.shape}, (y)-Labels Shape: {y.shape}\")\n",
    "\n",
    "    if batch_index == 2:\n",
    "        break"
   ]
  },
  {
   "cell_type": "markdown",
   "id": "1fcdbb64-0aaa-4a89-985f-31ea5999e1c8",
   "metadata": {},
   "source": [
    "Seems like the predictions are doing fine. It doesn't take that too long even when we were using the CPU. Quite curious what would we get if we instead used the GPU?\n",
    "\n",
    "Let's write some code to evaluate the model."
   ]
  },
  {
   "cell_type": "markdown",
   "id": "9a1b6a28-ce91-49f2-8c03-cd5785c941da",
   "metadata": {},
   "source": [
    "**Creating Predictions & Get Model 0 Results**\n",
    "\n",
    "Because of the fact that we're going to create more models to update from our baseline, it's a good idea to make it a lot easier to evaluate them by creating a general function as compared to remaking it each time.\n",
    "\n",
    "So, we'll create a function that can take a trained mode, a *DataLoader*, loss function, and an accuracy function. \n",
    "\n",
    "The function will utilize the model provided to make predictions with the data in the *DataLoader* and then we evaluate the predictions with the loss and accuracy function.\n",
    "\n",
    "We don't need an optimizer since we're evaluating! "
   ]
  },
  {
   "cell_type": "code",
   "execution_count": 20,
   "id": "1ab4eece-797d-43d2-b500-66464c3ea4be",
   "metadata": {},
   "outputs": [
    {
     "data": {
      "text/plain": [
       "{'model_name': 'FashionMNISTModelV0',\n",
       " 'model_loss': 0.47663894295692444,\n",
       " 'model_acc': 0.8342651724815369}"
      ]
     },
     "execution_count": 20,
     "metadata": {},
     "output_type": "execute_result"
    }
   ],
   "source": [
    "torch.manual_seed(42)\n",
    "\n",
    "# When setting the parameters, we're specifying that they all must be the \n",
    "# corresponding datatype with the : syntax\n",
    "\n",
    "def eval_model(model: torch.nn.Module,\n",
    "              data_loader: torch.utils.data.DataLoader,\n",
    "              loss_fn: torch.nn.Module,\n",
    "              accuracy_fn):\n",
    "\n",
    "    loss, acc = 0, 0\n",
    "    model.eval()\n",
    "    with torch.inference_mode():\n",
    "        for X, y in data_loader:\n",
    "            test_pred = model(X)\n",
    "            loss += loss_fn(test_pred, y)\n",
    "            acc += accuracy_fn(y, test_pred.argmax(dim=1))\n",
    "\n",
    "        loss /= len(data_loader)\n",
    "        acc /= len(data_loader)\n",
    "\n",
    "    return {\n",
    "        \"model_name\": model.__class__.__name__, # Only works when model is created by a class\n",
    "        \"model_loss\": loss.item(),\n",
    "        \"model_acc\": acc.item()\n",
    "    }\n",
    "\n",
    "model_0_results = eval_model(model_0, test_dataloader, loss_fn, accuracy_fn)\n",
    "model_0_results"
   ]
  },
  {
   "cell_type": "markdown",
   "id": "c37538f4-ce69-4fe2-970f-41625064073d",
   "metadata": {},
   "source": [
    "**Setting up Device Agnostic Code - GPU**\n",
    "\n",
    "With our training loop, we have seen how long it took for our CPU to calculate through 60,000 samples of images. This time, let's make a device-agnostic code for our models so that we can set them up to use CPU or GPU easily. "
   ]
  },
  {
   "cell_type": "code",
   "execution_count": 21,
   "id": "9f06c607-56bc-49e2-872f-54f2c6ff2a53",
   "metadata": {},
   "outputs": [
    {
     "data": {
      "text/plain": [
       "'cuda'"
      ]
     },
     "execution_count": 21,
     "metadata": {},
     "output_type": "execute_result"
    }
   ],
   "source": [
    "device = \"cuda\" if torch.cuda.is_available() else \"cpu\"\n",
    "device"
   ]
  },
  {
   "cell_type": "markdown",
   "id": "6b93e318-acc1-4a0d-ae91-d1185b9fc0cd",
   "metadata": {},
   "source": [
    "With that done, let's start building another model. "
   ]
  },
  {
   "cell_type": "markdown",
   "id": "c4e84dfb-714d-4935-b68c-d13bfda08240",
   "metadata": {},
   "source": [
    "**Model 1 - Building Non-linearity**\n",
    "\n",
    "In the previous chapter, we've tackled how important non-linearity is and how much powerful a model can be with it's introduction. Let's try applying this exact same thing with the data that we're working on now. \n",
    "\n",
    "Before we get started, let's ask a simple question, do we even need non-linear function for our data? \n",
    "\n",
    "Are we okay with just having simple straight lines or do we need non-straight lines?\n",
    "\n",
    "Let's check it out.\n",
    "\n",
    "The model is a lot similiar as before except for the key difference is that we'll be adding *nn.ReLU()* activation functions in-between each linear layer. "
   ]
  },
  {
   "cell_type": "code",
   "execution_count": 22,
   "id": "ec20951c-d8b1-44e8-95a3-9c11e53b8ad4",
   "metadata": {},
   "outputs": [
    {
     "data": {
      "text/plain": [
       "FashionMNISTModelV1(\n",
       "  (linear_layer_stack): Sequential(\n",
       "    (0): Flatten(start_dim=1, end_dim=-1)\n",
       "    (1): Linear(in_features=784, out_features=10, bias=True)\n",
       "    (2): ReLU()\n",
       "    (3): Linear(in_features=10, out_features=10, bias=True)\n",
       "    (4): ReLU()\n",
       "  )\n",
       ")"
      ]
     },
     "execution_count": 22,
     "metadata": {},
     "output_type": "execute_result"
    }
   ],
   "source": [
    "torch.manual_seed(42)\n",
    "\n",
    "class FashionMNISTModelV1(nn.Module):\n",
    "    def __init__(self, input_shape: int, hidden_units: int, output_shape: int):\n",
    "        super().__init__()\n",
    "        self.linear_layer_stack = nn.Sequential(\n",
    "            nn.Flatten(),\n",
    "            nn.Linear(in_features=input_shape, out_features=hidden_units),\n",
    "            nn.ReLU(),\n",
    "            nn.Linear(in_features=hidden_units, out_features=output_shape),\n",
    "            nn.ReLU(),\n",
    "        )\n",
    "\n",
    "    def forward(self, x: torch.Tensor):\n",
    "        return self.linear_layer_stack(x)\n",
    "\n",
    "model1 = FashionMNISTModelV1(784, 10, len(class_names))\n",
    "model1"
   ]
  },
  {
   "cell_type": "code",
   "execution_count": 23,
   "id": "76fa4844-bf2d-4002-a1b1-49af625f79d1",
   "metadata": {},
   "outputs": [
    {
     "data": {
      "text/plain": [
       "device(type='cuda', index=0)"
      ]
     },
     "execution_count": 23,
     "metadata": {},
     "output_type": "execute_result"
    }
   ],
   "source": [
    "model1.to(device)\n",
    "next(model1.parameters()).device"
   ]
  },
  {
   "cell_type": "markdown",
   "id": "6f068a45-69f6-4ddd-99be-382c840bd5c3",
   "metadata": {},
   "source": [
    "Looking good. We accomodated for non-linearity and already instantiated it with the same settings that we used before. In addition, we also assigned it to our device agnostic code. \n",
    "\n",
    "Notice how we kept the settings as is and just changed one thing - adding non-linearity. That is a standard way of conducting experiments. \n",
    "\n",
    "Do one thing and one thing only and then see where it goes from there. Retain the rest so that we would be able to identify that the changes are coming from this exact and only change. \n",
    "\n",
    "We change one thing, check, change another, check, and so on so forth. "
   ]
  },
  {
   "cell_type": "markdown",
   "id": "7fcf8296-c65a-4212-9392-c392e524498c",
   "metadata": {},
   "source": [
    "**Loss, Optimizer, Evaluation Metrics**\n",
    "\n",
    "Again, we set the loss function, choose an optimizer and an evaluation metric. We can try our hand with other evaluation metrics but for now, it's best to stick with just accuracy. "
   ]
  },
  {
   "cell_type": "code",
   "execution_count": 24,
   "id": "83ceb684-2258-43a3-882f-b2cc4c12b49e",
   "metadata": {},
   "outputs": [],
   "source": [
    "loss_fn = torch.nn.CrossEntropyLoss()\n",
    "optimizer = torch.optim.SGD(params=model1.parameters(), lr=0.1)\n",
    "accuracy_fn = torchmetrics.Accuracy(task='multiclass', num_classes=len(class_names)).to(device)"
   ]
  },
  {
   "cell_type": "markdown",
   "id": "1213d302-560b-432f-92ee-56ef5037bd3d",
   "metadata": {},
   "source": [
    "**Functionizing Training & Testing Loops**\n",
    "\n",
    "We've been creating test and training loops again and again. While it was great for practice, maybe it's time to shorten this work by creating functions for these instead. \n",
    "\n",
    "Since we're dealing with device-agnostic code, we'll need to make sure that we have *.to(device)* feature (X) and target (y) tensors. \n",
    "\n",
    "For training loops, we'll create a function called *train_step()* which will take in a model, *DataLoader*, loss function, and an optimizer.\n",
    "\n",
    "For testing loops, we'll create a function called *test_step()* which will take in a model, *DataLoader*, a loss function, and an evaluation function. "
   ]
  },
  {
   "cell_type": "code",
   "execution_count": 25,
   "id": "da5c5071-d99d-4522-866c-87f83763a055",
   "metadata": {},
   "outputs": [],
   "source": [
    "def train_step(model: torch.nn.Module,\n",
    "              dataloader: torch.utils.data.DataLoader,\n",
    "              loss_func: torch.nn.Module,\n",
    "              optimizer: torch.optim.Optimizer,\n",
    "              accuracy_fn,\n",
    "              device: torch.device = device):\n",
    "\n",
    "    train_loss, train_acc = 0,0\n",
    "    model.to(device)\n",
    "    model.train()\n",
    "    \n",
    "    for batch, (X, y) in enumerate(dataloader):\n",
    "        # Send to Device\n",
    "        X, y = X.to(device), y.to(device)\n",
    "        # Forward Pass\n",
    "        train_pred = model(X)\n",
    "        # Caclulate Loss\n",
    "        loss = loss_func(train_pred, y)\n",
    "        train_loss += loss \n",
    "        train_acc += accuracy_fn(y, train_pred.argmax(dim=1))\n",
    "        # Zero Grad\n",
    "        optimizer.zero_grad()\n",
    "        # Backpropagation\n",
    "        loss.backward()\n",
    "        # Step Weights\n",
    "        optimizer.step()\n",
    "\n",
    "    train_loss /= len(dataloader)\n",
    "    train_acc /= len(dataloader)\n",
    "    print(f\"Train Loss: {train_loss:.5f} | Train Accuracy: {train_acc:.5f}\")\n",
    "\n",
    "def test_step(model: torch.nn.Module,\n",
    "             dataloader: torch.utils.data.DataLoader,\n",
    "             loss_func: torch.nn.Module,\n",
    "             accuracy_fn,\n",
    "             device: torch.device = device):\n",
    "\n",
    "    test_loss, test_acc = 0, 0\n",
    "    model.to(device)\n",
    "    model.eval()\n",
    "    with torch.inference_mode():\n",
    "        for batch, (X, y) in enumerate(dataloader):\n",
    "            X, y = X.to(device), y.to(device)\n",
    "            test_pred = model(X)\n",
    "            loss = loss_func(test_pred, y)\n",
    "            \n",
    "            test_loss += loss\n",
    "            test_acc += accuracy_fn(y, test_pred.argmax(dim=1))\n",
    "\n",
    "        test_loss /= len(dataloader)\n",
    "        test_acc /= len(dataloader)\n",
    "        print(f\"Test Loss: {test_loss:.5f} | Test Accuracy: {test_acc:.5f}\")"
   ]
  },
  {
   "cell_type": "markdown",
   "id": "5b0dcab3-fe26-4cd8-a9dd-a49a720301e3",
   "metadata": {},
   "source": [
    "Since we have made our training loop into functions, we won't have to redo everything again from scratch and just call these functions instead! \n",
    "\n",
    "We'll call these inside a loop for each epoch. That way for each epoch, we have a training step and a testing step. We can customize how often we want to do a testing step, sometimes it's every 5 epochs or 10. But for now, we'll do it fo each epoch.\n",
    "\n",
    "In addition, we will also time our entire process so that we can see how fast it is in the GPU. "
   ]
  },
  {
   "cell_type": "code",
   "execution_count": 26,
   "id": "bc573ae8-e484-4720-aa53-3972fa01efeb",
   "metadata": {},
   "outputs": [
    {
     "data": {
      "application/vnd.jupyter.widget-view+json": {
       "model_id": "ba783ff6dd194aac8422d60360d8b0d7",
       "version_major": 2,
       "version_minor": 0
      },
      "text/plain": [
       "  0%|          | 0/3 [00:00<?, ?it/s]"
      ]
     },
     "metadata": {},
     "output_type": "display_data"
    },
    {
     "name": "stdout",
     "output_type": "stream",
     "text": [
      "Epoch: 0\n",
      "---------\n",
      "Train Loss: 1.09199 | Train Accuracy: 0.61343\n",
      "Test Loss: 0.95636 | Test Accuracy: 0.64996\n",
      "Epoch: 1\n",
      "---------\n",
      "Train Loss: 0.78101 | Train Accuracy: 0.71928\n",
      "Test Loss: 0.72227 | Test Accuracy: 0.73912\n",
      "Epoch: 2\n",
      "---------\n",
      "Train Loss: 0.67027 | Train Accuracy: 0.75937\n",
      "Test Loss: 0.68500 | Test Accuracy: 0.75020\n",
      "Train time on cuda: 54.703 seconds\n"
     ]
    }
   ],
   "source": [
    "torch.manual_seed(42)\n",
    "\n",
    "# Measure Time\n",
    "train_time_start_on_gpu = timer()\n",
    "epochs = 3\n",
    "\n",
    "# tqdm is a library for progress bar\n",
    "for epoch in tqdm(range(epochs)):\n",
    "    print(f\"Epoch: {epoch}\\n---------\")\n",
    "    train_step(model1, train_dataloader, loss_fn, optimizer, accuracy_fn)\n",
    "    test_step(model1, test_dataloader, loss_fn, accuracy_fn)\n",
    "\n",
    "train_time_end_on_gpu = timer()\n",
    "total_train_time_model1 = print_train_time(train_time_start_on_gpu,\n",
    "                                          train_time_end_on_gpu,\n",
    "                                          device)"
   ]
  },
  {
   "cell_type": "markdown",
   "id": "5d539502-0366-46c0-9c17-a2c1c496c131",
   "metadata": {},
   "source": [
    "Seems like our model is training! We can see that the loss is decreasing and the accuracy increasing for both test and and training sets. But.. the time spent is higher than that of the CPU?\n",
    "\n",
    "Let's get a bit deeper into the explanations. For the most part, one of the biggest factors that can affect the speed is the quality of the CPU/GPU that is being used. But still, a GPU should be better than a CPU still, correct?\n",
    "\n",
    "Well, one reason that the CPU could be faster is that the dataset and the model itself are so small (like our current dataset) that the benefits of using a GPU is lessened by the fact that it will take longer for the data to be transferrred there. \n",
    "\n",
    "There exists a bottleneck between copying the data from CPU to GPU so the benefits of GPU on a small dataset is so negligable that it actually takes longer to copy the data to GPU memory.\n",
    "\n",
    "Meaning that if we're working with a smaller dataset such as ours then a CPU would be optimal in handling the data. \n",
    "\n",
    "However, for larger datasets and models, the speed of a GPU will always outweigh the cost of getting the data there from the CPU.\n",
    "\n",
    "But still, it's always good to experiment around with what hardware is best for you to train in. \n",
    "\n",
    "Let's start evaluating the *model1* with the *eval_model()* function and see how it works. "
   ]
  },
  {
   "cell_type": "code",
   "execution_count": 27,
   "id": "4a3f9a91-a835-4a79-8efe-73d6461cab09",
   "metadata": {},
   "outputs": [
    {
     "name": "stdout",
     "output_type": "stream",
     "text": [
      "Couldn't find program: 'echo'\n"
     ]
    }
   ],
   "source": [
    "%%script echo skipping\n",
    "torch.manual_seed(42)\n",
    "\n",
    "# This will cause an error!\n",
    "model1_results = eval_model(\n",
    "    model1,\n",
    "    test_dataloader,\n",
    "    loss_fn,\n",
    "    accuracy_fn\n",
    ")\n",
    "\n",
    "model1_results"
   ]
  },
  {
   "cell_type": "markdown",
   "id": "e7db894d-a27b-4c06-876e-7c3bd5337158",
   "metadata": {},
   "source": [
    "Oops? an error with the same device. That's because our data and our model are located in the GPU. However, when it comes to our evaluation function then we haven't really made in device agnostic.   \n",
    "\n",
    "We'll need to modify our evaluation function by passing a *target* device parameter to our *eval_model()* function. Then we can start calculating the results again."
   ]
  },
  {
   "cell_type": "code",
   "execution_count": 28,
   "id": "a46edf66-e2eb-475a-b01d-1b63a29067c2",
   "metadata": {},
   "outputs": [
    {
     "data": {
      "text/plain": [
       "{'model_name': 'FashionMNISTModelV1',\n",
       " 'model_loss': 0.6850008368492126,\n",
       " 'model_acc': 0.7501996755599976}"
      ]
     },
     "execution_count": 28,
     "metadata": {},
     "output_type": "execute_result"
    }
   ],
   "source": [
    "torch.manual_seed(42)\n",
    "def eval_model(model: torch.nn.Module,\n",
    "               dataloader: torch.utils.data.DataLoader,\n",
    "               loss_fn: torch.nn.Module,\n",
    "               accuracy_fn,\n",
    "               device: torch.device = device\n",
    "              ):\n",
    "    \n",
    "    loss, acc = 0, 0\n",
    "    model.eval()\n",
    "    with torch.inference_mode():\n",
    "        for X, y in dataloader:\n",
    "            X, y = X.to(device), y.to(device)\n",
    "            eval_preds = model(X)\n",
    "            loss += loss_fn(eval_preds, y)\n",
    "            acc += accuracy_fn(y, eval_preds.argmax(dim=1))\n",
    "\n",
    "        loss /= len(dataloader)\n",
    "        acc /= len(dataloader)\n",
    "\n",
    "    return {\"model_name\": model.__class__.__name__,\n",
    "            \"model_loss\": loss.item(),\n",
    "            \"model_acc\": acc.item()\n",
    "    }\n",
    "\n",
    "model_1_results = eval_model(model1, test_dataloader, loss_fn, accuracy_fn)\n",
    "model_1_results"
   ]
  },
  {
   "cell_type": "code",
   "execution_count": 29,
   "id": "6b5fda5a-7c16-4abc-a9f7-e77de7ff68ba",
   "metadata": {},
   "outputs": [
    {
     "data": {
      "text/plain": [
       "{'model_name': 'FashionMNISTModelV0',\n",
       " 'model_loss': 0.47663894295692444,\n",
       " 'model_acc': 0.8342651724815369}"
      ]
     },
     "execution_count": 29,
     "metadata": {},
     "output_type": "execute_result"
    }
   ],
   "source": [
    "model_0_results"
   ]
  },
  {
   "cell_type": "markdown",
   "id": "ec41028b-710c-4e22-b058-86e6b28d6b52",
   "metadata": {},
   "source": [
    "Seems like adding non-lineariy made the model worse? If we take a look at the baseline and the results of our non-linear iteration then the baseline seems to perform better. \n",
    "\n",
    "That's something that you should always take into consideration. The things that you expect to work out fine, might actually not turn out fine. \n",
    "\n",
    "The solution that you tried or the feature that you checked out for a different case might not work in this case. Many more instances such as that. \n",
    "\n",
    "Expect the unexpected. It's part art and part science.\n",
    "\n",
    "Seems like the model is **overfitting** on the training data.  \n",
    "\n",
    "What does that mean? Remember how our model is made to recognize patterns? Well what happens if we keep letting our model learn our training data? Once the model has already recognized patterns, what happens if we don't stop and keep learning? \n",
    "\n",
    "Would it retain these recognized patterns? Nope, it'll keep learning. That means, eventually it learned all the patterns of the sample to the point that it doesn't recognize patterns anymore, it has *memorized* the sample itself. \n",
    "\n",
    "That means it's no longer trying to find shoes, it's instead trying to find THIS specific shoe that it was overtrained on. So if you try to input another shoe of a different type, you'll have a pretty bad result because while it is still a shoe, it's not the EXACT shoe that the model has been trained on.\n",
    "\n",
    "That's BAD! Overfitting is BAD!\n",
    "\n",
    "So, how do we go about fixing this problem? There are two ways:\n",
    "\n",
    "1. Using a smaller or different model - some models can fit certain kinds of data better than others.\n",
    "\n",
    "2. Using a larger dataset - more data means more chances that a model can recognize generalized patterns.\n",
    "\n",
    "However, there's plenty of other means of fixing this. These are just some that you can do. The rest is up for us to try and explore. \n",
    "\n",
    "### RESEARCH \n",
    "\n",
    "3. Reduce the number of neurons - simplifying the model\n",
    "   \n",
    "4. Utilize early stopping - apply a validation set -> once loss stops decreasing after a certain number of epochs -> training is halted "
   ]
  },
  {
   "cell_type": "markdown",
   "id": "96bf6456-75d7-4dc7-8d21-146da0324112",
   "metadata": {},
   "source": [
    "**Model 2 - Building Convolutional Neural Network (CNN)**\n",
    "\n",
    "Let's get introduced into another new topic. \n",
    "\n",
    "Welcome to the world of Convolutional Neural Networks (CNN or ConvNet)!\n",
    "\n",
    "CNNs are highly regarded for their capabilities in finding patterns for visual data. Since we're dealing with visual data right now, let's check it out and see if it can pose as an improvement from our baseline. \n",
    "\n",
    "So going over again the usual we have *Input -> Output Layers*. With CNN it changes over to this\n",
    "\n",
    "*Input Layer -> [Convolutional Layer -> Activation Layer -> Pooling Layer] -> Output Layer*\n",
    "\n",
    "Wherein the contents of [Convolutional Layer -> Activation Layer -> Pooling Layer] can be upscaled and repeated multiple times depending on the requirements. \n",
    "\n",
    "With this said, it begs the question: **What Model Should I Use?** It's a good question.\n",
    "\n",
    "There are many different types of models to choose so let's take a quick look at them. Typically, you can split them into problem types:\n",
    "\n",
    "**Problem:** Structured data (spreadsheets, row and column data) | **Models ->** *Gradient Boosted Models / Random Forests / XGBoost*\n",
    "**Problem:** Unstructured data (images, audio, language) | **Models ->** *Convolutional Neural Network / Transformers*\n",
    "\n",
    "Pretty simple when it comes to choosing what should you use. But we've taken enough time talking about concepts and learning new things. It's time to put them into practical use. We'll take what we've learned from the *CNN Explainer* site and implement it to our own model.\n",
    "\n",
    "Let's leverage the *nn.Conv2d()* and *nn.MaxPool2d()* layers from *torch.nn* as these function the same thing as the layers that we've seen in the website."
   ]
  },
  {
   "cell_type": "markdown",
   "id": "b6c8d440-cb1b-46a7-93a5-66cb7889fbf8",
   "metadata": {},
   "source": [
    "![Display](images/03-cnn-explainer-model.png \"CNN-Explainer Site\")"
   ]
  },
  {
   "cell_type": "code",
   "execution_count": 86,
   "id": "0c5d77a9-5019-485c-8d58-cb7eec616f3e",
   "metadata": {},
   "outputs": [
    {
     "data": {
      "text/plain": [
       "FashionMNISTModelV2(\n",
       "  (block_1): Sequential(\n",
       "    (0): Conv2d(1, 10, kernel_size=(3, 3), stride=(1, 1), padding=(1, 1))\n",
       "    (1): ReLU()\n",
       "    (2): Conv2d(10, 10, kernel_size=(3, 3), stride=(1, 1), padding=(1, 1))\n",
       "    (3): ReLU()\n",
       "    (4): MaxPool2d(kernel_size=2, stride=2, padding=0, dilation=1, ceil_mode=False)\n",
       "  )\n",
       "  (block_2): Sequential(\n",
       "    (0): Conv2d(10, 10, kernel_size=(3, 3), stride=(1, 1), padding=(1, 1))\n",
       "    (1): ReLU()\n",
       "    (2): Conv2d(10, 10, kernel_size=(3, 3), stride=(1, 1), padding=(1, 1))\n",
       "    (3): ReLU()\n",
       "    (4): MaxPool2d(kernel_size=2, stride=2, padding=0, dilation=1, ceil_mode=False)\n",
       "  )\n",
       "  (classifier): Sequential(\n",
       "    (0): Flatten(start_dim=1, end_dim=-1)\n",
       "    (1): Linear(in_features=490, out_features=10, bias=True)\n",
       "  )\n",
       ")"
      ]
     },
     "execution_count": 86,
     "metadata": {},
     "output_type": "execute_result"
    }
   ],
   "source": [
    "class FashionMNISTModelV2(nn.Module):\n",
    "    def __init__(self, input_shape: int, hidden_units: int, output_shape: int):\n",
    "        super().__init__()\n",
    "        self.block_1 = nn.Sequential(\n",
    "            nn.Conv2d(\n",
    "                in_channels = input_shape, \n",
    "                out_channels = hidden_units, \n",
    "                kernel_size = 3,   # kernel_size determines how big the square is so 3 will be 3x3\n",
    "                stride = 1,    # stride = 1 is default\n",
    "                padding = 1),    # padding has \"valid\" (no padding) \"same\" (output has same shape as input) or \"int\" for specific number\n",
    "            nn.ReLU(),\n",
    "            nn.Conv2d(in_channels = hidden_units,\n",
    "                      out_channels = hidden_units,\n",
    "                      kernel_size = 3, \n",
    "                      stride = 1, \n",
    "                      padding = 1),\n",
    "            nn.ReLU(),\n",
    "            nn.MaxPool2d(kernel_size = 2, stride = 2)\n",
    "            # default stride value for MaxPool is the same as kernel_size\n",
    "        )\n",
    "        self.block_2 = nn.Sequential(\n",
    "            # We specify padding here otherwise it would be taken as stride instead. \n",
    "            # Remember the parameters: [input, output, kernel_size, stride, padding]\n",
    "            \n",
    "            nn.Conv2d(hidden_units, hidden_units, 3, padding=1),\n",
    "            nn.ReLU(),\n",
    "            nn.Conv2d(hidden_units, hidden_units, 3, padding=1),\n",
    "            nn.ReLU(),\n",
    "            nn.MaxPool2d(2),\n",
    "        )\n",
    "        self.classifier = nn.Sequential(\n",
    "            nn.Flatten(),\n",
    "            # Where did this in_features shape come from? \n",
    "            # It's because each layer of our network compresses and changes the shape of our inputs data.\n",
    "            nn.Linear(in_features=hidden_units*7*7, \n",
    "                      out_features=output_shape)\n",
    "        )\n",
    "\n",
    "    def forward(self, x: torch.Tensor):\n",
    "        x = self.block_1(x)\n",
    "        # print(x.shape)\n",
    "        x = self.block_2(x)\n",
    "        # print(x.shape) - this outputs [32, 10, 7, 7]\n",
    "        x = self.classifier(x)\n",
    "        # print(x.shape)\n",
    "        return x\n",
    "\n",
    "torch.manual_seed(42)\n",
    "model_2 = FashionMNISTModelV2(input_shape=1, \n",
    "    hidden_units=10, \n",
    "    output_shape=len(class_names)).to(device)\n",
    "model_2"
   ]
  },
  {
   "cell_type": "markdown",
   "id": "a9709b6c-20d8-4a14-981d-ab5434ca8331",
   "metadata": {},
   "source": [
    "Let's start explaining some things that are bit confusing here. In the case of the classifier where we specify the output in *nn.Linear()* with *hidden_units*7*7*, how does that exactly work? Well, it has mostly to do with knowing the output from our last pooling layer . Remember that our MaxPool layers have a stride of 2? That means we are minimizing the size of our inputs by 2 - halving the size. \n",
    "\n",
    "So originally we had 28x28 as our size for the image in the MNIST Dataset. We go through the first block of convolution which reduces it down to 14x14 and then another block which further puts it down to 7x7 - meaning we reduced the size to 1/4 of it's original value. But most importantly, this is the final output from our convolution. \n",
    "\n",
    "When we start classifying and connecting to linear layers, we need to specify this feature map output. So our *self.block_2* has an output of *hidden_units* from it's most recent *nn.Conv2d* and then also has an output feature map of *7x7* from *nn.Maxpool2d(2)*. We use these two outputs from *self.block_2* to input in *nn.Linear()*'s in_features. This is done after flattening. \n",
    "\n",
    "To reitirate we took *hidden_units* from *nn.Conv2d* and we took *7x7* from *nn.MaxPool2d(2)*.\n",
    "\n",
    "Still not getting it? Let's try another perspective. \n",
    "\n",
    "In our model, we've specified that our *hidden_units* is 10. We have an output from our last pooling layer of *7x7* feature map's. Doing *nn.Linear(hidden_units*7*7)* is basically saying that we have 10 (7x7) feature maps that we need to input into our *nn.Linear()*. "
   ]
  },
  {
   "cell_type": "markdown",
   "id": "782b3173-4ecb-4568-90f4-134d08fd58cf",
   "metadata": {},
   "source": [
    "**Stepping Through nn.Conv2d()**\n",
    "\n",
    "Quick overview again over the two new layers that we added:\n",
    "\n",
    "1. *nn.Conv2d()* - also known as a convolution layer\n",
    "2. *nn.MaxPool2d()* - also known as a max pooling layer\n",
    "\n",
    "What does '2d' mean exactly? It's 2-dimensional data. As in, our images have two dimensions which are height x width. Of course, there is also a dimension for color channels but each of the color dimension also has two dimensions: height x width. There exists other dimensional data such as 1D for text and 3D for objects and so we also have *nn.Conv1d()* & *nn.Conv3d()*\n",
    "\n",
    "Let's try out the layers with some toy data. "
   ]
  },
  {
   "cell_type": "code",
   "execution_count": 75,
   "id": "3019bbfa-4099-4b63-969c-8886f3efb4be",
   "metadata": {},
   "outputs": [
    {
     "name": "stdout",
     "output_type": "stream",
     "text": [
      "Image Batch Shape: torch.Size([32, 3, 64, 64]) -> [Batch Size, Color Channels, Height, Width]\n",
      "Single Image Shape: torch.Size([3, 64, 64]) -> [Color Channels, Height, Width]\n",
      "Singe Image Pixel Values: \n",
      "tensor([[[ 1.9269,  1.4873,  0.9007,  ...,  1.8446, -1.1845,  1.3835],\n",
      "         [ 1.4451,  0.8564,  2.2181,  ...,  0.3399,  0.7200,  0.4114],\n",
      "         [ 1.9312,  1.0119, -1.4364,  ..., -0.5558,  0.7043,  0.7099],\n",
      "         ...,\n",
      "         [-0.5610, -0.4830,  0.4770,  ..., -0.2713, -0.9537, -0.6737],\n",
      "         [ 0.3076, -0.1277,  0.0366,  ..., -2.0060,  0.2824, -0.8111],\n",
      "         [-1.5486,  0.0485, -0.7712,  ..., -0.1403,  0.9416, -0.0118]],\n",
      "\n",
      "        [[-0.5197,  1.8524,  1.8365,  ...,  0.8935, -1.5114, -0.8515],\n",
      "         [ 2.0818,  1.0677, -1.4277,  ...,  1.6612, -2.6223, -0.4319],\n",
      "         [-0.1010, -0.4388, -1.9775,  ...,  0.2106,  0.2536, -0.7318],\n",
      "         ...,\n",
      "         [ 0.2779,  0.7342, -0.3736,  ..., -0.4601,  0.1815,  0.1850],\n",
      "         [ 0.7205, -0.2833,  0.0937,  ..., -0.1002, -2.3609,  2.2465],\n",
      "         [-1.3242, -0.1973,  0.2920,  ...,  0.5409,  0.6940,  1.8563]],\n",
      "\n",
      "        [[-0.7978,  1.0261,  1.1465,  ...,  1.2134,  0.9354, -0.0780],\n",
      "         [-1.4647, -1.9571,  0.1017,  ..., -1.9986, -0.7409,  0.7011],\n",
      "         [-1.3938,  0.8466, -1.7191,  ..., -1.1867,  0.1320,  0.3407],\n",
      "         ...,\n",
      "         [ 0.8206, -0.3745,  1.2499,  ..., -0.0676,  0.0385,  0.6335],\n",
      "         [-0.5589, -0.3393,  0.2347,  ...,  2.1181,  2.4569,  1.3083],\n",
      "         [-0.4092,  1.5199,  0.2401,  ..., -0.2558,  0.7870,  0.9924]]])\n"
     ]
    }
   ],
   "source": [
    "torch.manual_seed(42)\n",
    "\n",
    "# Creating sample batch with random numbers with the same size as an image batch\n",
    "images = torch.randn(size=(32, 3, 64, 64)) # [Batch Size, Color Channels, Height, Width]\n",
    "test_image = images[0] #Taking one image for testing\n",
    "print(f\"Image Batch Shape: {images.shape} -> [Batch Size, Color Channels, Height, Width]\")\n",
    "print(f\"Single Image Shape: {test_image.shape} -> [Color Channels, Height, Width]\")\n",
    "print(f\"Singe Image Pixel Values: \\n{test_image}\")"
   ]
  },
  {
   "cell_type": "markdown",
   "id": "f67570c6-d425-425f-817b-2580ddf3e384",
   "metadata": {},
   "source": [
    "Going deeper into *nn.Conv2d()* and it's various parameters:\n",
    "\n",
    "1. *in_channels* (int) - number of channels in the input image\n",
    "2. *out_channels* (int) - number of channels produced by the convolution\n",
    "3. *kernel_size* (int/tuple) - size of the convolving kernel / filter\n",
    "4. *stride* - (int/tuple) - steps taken by the kernel - default: 1\n",
    "5. *padding* - (int/tuple/str) - adds padding to all four sides of input - default: 0"
   ]
  },
  {
   "cell_type": "markdown",
   "id": "73e47bab-3903-4302-a162-2cb6aa4ed085",
   "metadata": {},
   "source": [
    "![Display](images/03-conv2d-layer.gif \"Convolution Layer\")"
   ]
  },
  {
   "cell_type": "markdown",
   "id": "7327065d-fd5a-49c1-8089-91ae44db3503",
   "metadata": {},
   "source": [
    "What happens when we play around with the hyperparameters of a *nn.Conv2d()* layer"
   ]
  },
  {
   "cell_type": "code",
   "execution_count": 76,
   "id": "d044d170-87ee-4bc6-ac49-cee686c92c71",
   "metadata": {},
   "outputs": [
    {
     "data": {
      "text/plain": [
       "tensor([[[ 1.5396,  0.0516,  0.6454,  ..., -0.3673,  0.8711,  0.4256],\n",
       "         [ 0.3662,  1.0114, -0.5997,  ...,  0.8983,  0.2809, -0.2741],\n",
       "         [ 1.2664, -1.4054,  0.3727,  ..., -0.3409,  1.2191, -0.0463],\n",
       "         ...,\n",
       "         [-0.1541,  0.5132, -0.3624,  ..., -0.2360, -0.4609, -0.0035],\n",
       "         [ 0.2981, -0.2432,  1.5012,  ..., -0.6289, -0.7283, -0.5767],\n",
       "         [-0.0386, -0.0781, -0.0388,  ...,  0.2842,  0.4228, -0.1802]],\n",
       "\n",
       "        [[-0.2840, -0.0319, -0.4455,  ..., -0.7956,  1.5599, -1.2449],\n",
       "         [ 0.2753, -0.1262, -0.6541,  ..., -0.2211,  0.1999, -0.8856],\n",
       "         [-0.5404, -1.5489,  0.0249,  ..., -0.5932, -1.0913, -0.3849],\n",
       "         ...,\n",
       "         [ 0.3870, -0.4064, -0.8236,  ...,  0.1734, -0.4330, -0.4951],\n",
       "         [-0.1984, -0.6386,  1.0263,  ..., -0.9401, -0.0585, -0.7833],\n",
       "         [-0.6306, -0.2052, -0.3694,  ..., -1.3248,  0.2456, -0.7134]],\n",
       "\n",
       "        [[ 0.4414,  0.5100,  0.4846,  ..., -0.8484,  0.2638,  1.1258],\n",
       "         [ 0.8117,  0.3191, -0.0157,  ...,  1.2686,  0.2319,  0.5003],\n",
       "         [ 0.3212,  0.0485, -0.2581,  ...,  0.2258,  0.2587, -0.8804],\n",
       "         ...,\n",
       "         [-0.1144, -0.1869,  0.0160,  ..., -0.8346,  0.0974,  0.8421],\n",
       "         [ 0.2941,  0.4417,  0.5866,  ..., -0.1224,  0.4814, -0.4799],\n",
       "         [ 0.6059, -0.0415, -0.2028,  ...,  0.1170,  0.2521, -0.4372]],\n",
       "\n",
       "        ...,\n",
       "\n",
       "        [[-0.2560, -0.0477,  0.6380,  ...,  0.6436,  0.7553, -0.7055],\n",
       "         [ 1.5595, -0.2209, -0.9486,  ..., -0.4876,  0.7754,  0.0750],\n",
       "         [-0.0797,  0.2471,  1.1300,  ...,  0.1505,  0.2354,  0.9576],\n",
       "         ...,\n",
       "         [ 1.1065,  0.6839,  1.2183,  ...,  0.3015, -0.1910, -0.1902],\n",
       "         [-0.3486, -0.7173, -0.3582,  ...,  0.4917,  0.7219,  0.1513],\n",
       "         [ 0.0119,  0.1017,  0.7839,  ..., -0.3752, -0.8127, -0.1257]],\n",
       "\n",
       "        [[ 0.3841,  1.1322,  0.1620,  ...,  0.7010,  0.0109,  0.6058],\n",
       "         [ 0.1664,  0.1873,  1.5924,  ...,  0.3733,  0.9096, -0.5399],\n",
       "         [ 0.4094, -0.0861, -0.7935,  ..., -0.1285, -0.9932, -0.3013],\n",
       "         ...,\n",
       "         [ 0.2688, -0.5630, -1.1902,  ...,  0.4493,  0.5404, -0.0103],\n",
       "         [ 0.0535,  0.4411,  0.5313,  ...,  0.0148, -1.0056,  0.3759],\n",
       "         [ 0.3031, -0.1590, -0.1316,  ..., -0.5384, -0.4271, -0.4876]],\n",
       "\n",
       "        [[-1.1865, -0.7280, -1.2331,  ..., -0.9013, -0.0542, -1.5949],\n",
       "         [-0.6345, -0.5920,  0.5326,  ..., -1.0395, -0.7963, -0.0647],\n",
       "         [-0.1132,  0.5166,  0.2569,  ...,  0.5595, -1.6881,  0.9485],\n",
       "         ...,\n",
       "         [-0.0254, -0.2669,  0.1927,  ..., -0.2917,  0.1088, -0.4807],\n",
       "         [-0.2609, -0.2328,  0.1404,  ..., -0.1325, -0.8436, -0.7524],\n",
       "         [-1.1399, -0.1751, -0.8705,  ...,  0.1589,  0.3377,  0.3493]]],\n",
       "       grad_fn=<SqueezeBackward1>)"
      ]
     },
     "execution_count": 76,
     "metadata": {},
     "output_type": "execute_result"
    }
   ],
   "source": [
    "torch.manual_seed(42)\n",
    "\n",
    "# Creating a convolutional layer with the same dimensions as TinyVGG\n",
    "conv_layer = nn.Conv2d(in_channels=3, out_channels=10, kernel_size=3, stride=1, padding=0) # Can use \"valid\" or \"same\" here\n",
    "conv_layer(test_image)"
   ]
  },
  {
   "cell_type": "markdown",
   "id": "5f909f39-f239-4a7f-887c-48148d2f6c22",
   "metadata": {},
   "source": [
    "When working with previous versions of PyTorch - notably around 1.11.0 and before then it is required that the *nn.Conv2d()* layer has a 4-dimensional tensor as an input - (N, C, H, W) - Batch Size, Color_Channels, Height, Width. \n",
    "\n",
    "You would need to unsqueeze an individual image in order to make it 4-dimensional so that you can pass it into *nn.Conv2d()* but nowadays, it will work with just a 3-dimensional tensor - (C, H, W).\n",
    "\n",
    "So, we'll pass the image again into the convolusion layer but this time, we'll check out it's shape once it's outputted. "
   ]
  },
  {
   "cell_type": "code",
   "execution_count": 77,
   "id": "4edbc1ca-6e61-4a32-822b-0bed72973d1c",
   "metadata": {},
   "outputs": [
    {
     "data": {
      "text/plain": [
       "torch.Size([10, 62, 62])"
      ]
     },
     "execution_count": 77,
     "metadata": {},
     "output_type": "execute_result"
    }
   ],
   "source": [
    "conv_layer(test_image).shape"
   ]
  },
  {
   "cell_type": "markdown",
   "id": "c99e9fca-96fa-4ad8-b810-0adc826c5c9c",
   "metadata": {},
   "source": [
    "Seems like that the number of channels that we have changed. From 3 to 10. Not to mention that our pixel sizes also changed from 64 - 62. \n",
    "\n",
    "Time to experiment. Try changing the hyperparameter values of *conv_layer* and see what happens."
   ]
  },
  {
   "cell_type": "code",
   "execution_count": 78,
   "id": "82ac3c02-29cd-44b6-815b-ba6222766be4",
   "metadata": {},
   "outputs": [
    {
     "data": {
      "text/plain": [
       "torch.Size([10, 30, 30])"
      ]
     },
     "execution_count": 78,
     "metadata": {},
     "output_type": "execute_result"
    }
   ],
   "source": [
    "torch.manual_seed(42)\n",
    "\n",
    "conv_layer_2 = nn.Conv2d(\n",
    "    in_channels = 3, # Same number of color channels as input\n",
    "    out_channels = 10,\n",
    "    kernel_size = (5,5), # Works for both int and tuple since a kernel is usually a square\n",
    "    stride = 2, \n",
    "    padding = 0\n",
    ")\n",
    "\n",
    "conv_layer_2(test_image).shape"
   ]
  },
  {
   "cell_type": "markdown",
   "id": "89cfdb39-c360-4a29-8b5e-4d711240d0a9",
   "metadata": {},
   "source": [
    "Now we get different values. Our shape changed from [10, 62, 62] into [10, 30, 30]. These values will keep changing if you use different values. Our previous settings were [3, 10, 3, 1] and now [3, 10, 5, 2]. So we changed the kernel_size from 3 to 5 and the stride from 1 to 2. Just with those 'little' changes we got drastically different values.\n",
    "\n",
    "But let's hold back for a minute and think - what's really going on here?\n",
    "\n",
    "Behind the scenes, *nn.Conv2d()* is basically compressing the information stored in the image. It conducts operations on the input (test image) based it's internal parameters.\n",
    "\n",
    "The concept relatively stay's the same as is with many other neural networks that we've built.\n",
    "\n",
    "Data goes in and then the layer tries to update their internal parameters (patterns) to lower the loss functions with the help of an optimizer. The only difference is **how** the different layers calculate their parameter updates or in PyTorch terms, the operation present in the layer *forward* method. So filters are calculated differently from regular weights.\n",
    "\n",
    "It's not that different! If we take a look at the inside of convolutional layer by calling *conv_layer_2.state_dict()* we'll see a what looks like a weight and bias setup. It's all the same, just that the terms are different in convolusion - kernel / kernel weights / filter because they are operated differently from regular weights."
   ]
  },
  {
   "cell_type": "code",
   "execution_count": 79,
   "id": "380091db-c7df-49eb-8ef6-8577461fa119",
   "metadata": {},
   "outputs": [
    {
     "name": "stdout",
     "output_type": "stream",
     "text": [
      "OrderedDict({'weight': tensor([[[[ 0.0883,  0.0958, -0.0271,  0.1061, -0.0253],\n",
      "          [ 0.0233, -0.0562,  0.0678,  0.1018, -0.0847],\n",
      "          [ 0.1004,  0.0216,  0.0853,  0.0156,  0.0557],\n",
      "          [-0.0163,  0.0890,  0.0171, -0.0539,  0.0294],\n",
      "          [-0.0532, -0.0135, -0.0469,  0.0766, -0.0911]],\n",
      "\n",
      "         [[-0.0532, -0.0326, -0.0694,  0.0109, -0.1140],\n",
      "          [ 0.1043, -0.0981,  0.0891,  0.0192, -0.0375],\n",
      "          [ 0.0714,  0.0180,  0.0933,  0.0126, -0.0364],\n",
      "          [ 0.0310, -0.0313,  0.0486,  0.1031,  0.0667],\n",
      "          [-0.0505,  0.0667,  0.0207,  0.0586, -0.0704]],\n",
      "\n",
      "         [[-0.1143, -0.0446, -0.0886,  0.0947,  0.0333],\n",
      "          [ 0.0478,  0.0365, -0.0020,  0.0904, -0.0820],\n",
      "          [ 0.0073, -0.0788,  0.0356, -0.0398,  0.0354],\n",
      "          [-0.0241,  0.0958, -0.0684, -0.0689, -0.0689],\n",
      "          [ 0.1039,  0.0385,  0.1111, -0.0953, -0.1145]]],\n",
      "\n",
      "\n",
      "        [[[-0.0903, -0.0777,  0.0468,  0.0413,  0.0959],\n",
      "          [-0.0596, -0.0787,  0.0613, -0.0467,  0.0701],\n",
      "          [-0.0274,  0.0661, -0.0897, -0.0583,  0.0352],\n",
      "          [ 0.0244, -0.0294,  0.0688,  0.0785, -0.0837],\n",
      "          [-0.0616,  0.1057, -0.0390, -0.0409, -0.1117]],\n",
      "\n",
      "         [[-0.0661,  0.0288, -0.0152, -0.0838,  0.0027],\n",
      "          [-0.0789, -0.0980, -0.0636, -0.1011, -0.0735],\n",
      "          [ 0.1154,  0.0218,  0.0356, -0.1077, -0.0758],\n",
      "          [-0.0384,  0.0181, -0.1016, -0.0498, -0.0691],\n",
      "          [ 0.0003, -0.0430, -0.0080, -0.0782, -0.0793]],\n",
      "\n",
      "         [[-0.0674, -0.0395, -0.0911,  0.0968, -0.0229],\n",
      "          [ 0.0994,  0.0360, -0.0978,  0.0799, -0.0318],\n",
      "          [-0.0443, -0.0958, -0.1148,  0.0330, -0.0252],\n",
      "          [ 0.0450, -0.0948,  0.0857, -0.0848, -0.0199],\n",
      "          [ 0.0241,  0.0596,  0.0932,  0.1052, -0.0916]]],\n",
      "\n",
      "\n",
      "        [[[ 0.0291, -0.0497, -0.0127, -0.0864,  0.1052],\n",
      "          [-0.0847,  0.0617,  0.0406,  0.0375, -0.0624],\n",
      "          [ 0.1050,  0.0254,  0.0149, -0.1018,  0.0485],\n",
      "          [-0.0173, -0.0529,  0.0992,  0.0257, -0.0639],\n",
      "          [-0.0584, -0.0055,  0.0645, -0.0295, -0.0659]],\n",
      "\n",
      "         [[-0.0395, -0.0863,  0.0412,  0.0894, -0.1087],\n",
      "          [ 0.0268,  0.0597,  0.0209, -0.0411,  0.0603],\n",
      "          [ 0.0607,  0.0432, -0.0203, -0.0306,  0.0124],\n",
      "          [-0.0204, -0.0344,  0.0738,  0.0992, -0.0114],\n",
      "          [-0.0259,  0.0017, -0.0069,  0.0278,  0.0324]],\n",
      "\n",
      "         [[-0.1049, -0.0426,  0.0972,  0.0450, -0.0057],\n",
      "          [-0.0696, -0.0706, -0.1034, -0.0376,  0.0390],\n",
      "          [ 0.0736,  0.0533, -0.1021, -0.0694, -0.0182],\n",
      "          [ 0.1117,  0.0167, -0.0299,  0.0478, -0.0440],\n",
      "          [-0.0747,  0.0843, -0.0525, -0.0231, -0.1149]]],\n",
      "\n",
      "\n",
      "        [[[ 0.0773,  0.0875,  0.0421, -0.0805, -0.1140],\n",
      "          [-0.0938,  0.0861,  0.0554,  0.0972,  0.0605],\n",
      "          [ 0.0292, -0.0011, -0.0878, -0.0989, -0.1080],\n",
      "          [ 0.0473, -0.0567, -0.0232, -0.0665, -0.0210],\n",
      "          [-0.0813, -0.0754,  0.0383, -0.0343,  0.0713]],\n",
      "\n",
      "         [[-0.0370, -0.0847, -0.0204, -0.0560, -0.0353],\n",
      "          [-0.1099,  0.0646, -0.0804,  0.0580,  0.0524],\n",
      "          [ 0.0825, -0.0886,  0.0830, -0.0546,  0.0428],\n",
      "          [ 0.1084, -0.0163, -0.0009, -0.0266, -0.0964],\n",
      "          [ 0.0554, -0.1146,  0.0717,  0.0864,  0.1092]],\n",
      "\n",
      "         [[-0.0272, -0.0949,  0.0260,  0.0638, -0.1149],\n",
      "          [-0.0262, -0.0692, -0.0101, -0.0568, -0.0472],\n",
      "          [-0.0367, -0.1097,  0.0947,  0.0968, -0.0181],\n",
      "          [-0.0131, -0.0471, -0.1043, -0.1124,  0.0429],\n",
      "          [-0.0634, -0.0742, -0.0090, -0.0385, -0.0374]]],\n",
      "\n",
      "\n",
      "        [[[ 0.0037, -0.0245, -0.0398, -0.0553, -0.0940],\n",
      "          [ 0.0968, -0.0462,  0.0306, -0.0401,  0.0094],\n",
      "          [ 0.1077,  0.0532, -0.1001,  0.0458,  0.1096],\n",
      "          [ 0.0304,  0.0774,  0.1138, -0.0177,  0.0240],\n",
      "          [-0.0803, -0.0238,  0.0855,  0.0592, -0.0731]],\n",
      "\n",
      "         [[-0.0926, -0.0789, -0.1140, -0.0891, -0.0286],\n",
      "          [ 0.0779,  0.0193, -0.0878, -0.0926,  0.0574],\n",
      "          [-0.0859, -0.0142,  0.0554, -0.0534, -0.0126],\n",
      "          [-0.0101, -0.0273, -0.0585, -0.1029, -0.0933],\n",
      "          [-0.0618,  0.1115, -0.0558, -0.0775,  0.0280]],\n",
      "\n",
      "         [[ 0.0318,  0.0633,  0.0878,  0.0643, -0.1145],\n",
      "          [ 0.0102,  0.0699, -0.0107, -0.0680,  0.1101],\n",
      "          [-0.0432, -0.0657, -0.1041,  0.0052,  0.0512],\n",
      "          [ 0.0256,  0.0228, -0.0876, -0.1078,  0.0020],\n",
      "          [ 0.1053,  0.0666, -0.0672, -0.0150, -0.0851]]],\n",
      "\n",
      "\n",
      "        [[[-0.0557,  0.0209,  0.0629,  0.0957, -0.1060],\n",
      "          [ 0.0772, -0.0814,  0.0432,  0.0977,  0.0016],\n",
      "          [ 0.1051, -0.0984, -0.0441,  0.0673, -0.0252],\n",
      "          [-0.0236, -0.0481,  0.0796,  0.0566,  0.0370],\n",
      "          [-0.0649, -0.0937,  0.0125,  0.0342, -0.0533]],\n",
      "\n",
      "         [[-0.0323,  0.0780,  0.0092,  0.0052, -0.0284],\n",
      "          [-0.1046, -0.1086, -0.0552, -0.0587,  0.0360],\n",
      "          [-0.0336, -0.0452,  0.1101,  0.0402,  0.0823],\n",
      "          [-0.0559, -0.0472,  0.0424, -0.0769, -0.0755],\n",
      "          [-0.0056, -0.0422, -0.0866,  0.0685,  0.0929]],\n",
      "\n",
      "         [[ 0.0187, -0.0201, -0.1070, -0.0421,  0.0294],\n",
      "          [ 0.0544, -0.0146, -0.0457,  0.0643, -0.0920],\n",
      "          [ 0.0730, -0.0448,  0.0018, -0.0228,  0.0140],\n",
      "          [-0.0349,  0.0840, -0.0030,  0.0901,  0.1110],\n",
      "          [-0.0563, -0.0842,  0.0926,  0.0905, -0.0882]]],\n",
      "\n",
      "\n",
      "        [[[-0.0089, -0.1139, -0.0945,  0.0223,  0.0307],\n",
      "          [ 0.0245, -0.0314,  0.1065,  0.0165, -0.0681],\n",
      "          [-0.0065,  0.0277,  0.0404, -0.0816,  0.0433],\n",
      "          [-0.0590, -0.0959, -0.0631,  0.1114,  0.0987],\n",
      "          [ 0.1034,  0.0678,  0.0872, -0.0155, -0.0635]],\n",
      "\n",
      "         [[ 0.0577, -0.0598, -0.0779, -0.0369,  0.0242],\n",
      "          [ 0.0594, -0.0448, -0.0680,  0.0156, -0.0681],\n",
      "          [-0.0752,  0.0602, -0.0194,  0.1055,  0.1123],\n",
      "          [ 0.0345,  0.0397,  0.0266,  0.0018, -0.0084],\n",
      "          [ 0.0016,  0.0431,  0.1074, -0.0299, -0.0488]],\n",
      "\n",
      "         [[-0.0280, -0.0558,  0.0196,  0.0862,  0.0903],\n",
      "          [ 0.0530, -0.0850, -0.0620, -0.0254, -0.0213],\n",
      "          [ 0.0095, -0.1060,  0.0359, -0.0881, -0.0731],\n",
      "          [-0.0960,  0.1006, -0.1093,  0.0871, -0.0039],\n",
      "          [-0.0134,  0.0722, -0.0107,  0.0724,  0.0835]]],\n",
      "\n",
      "\n",
      "        [[[-0.1003,  0.0444,  0.0218,  0.0248,  0.0169],\n",
      "          [ 0.0316, -0.0555, -0.0148,  0.1097,  0.0776],\n",
      "          [-0.0043, -0.1086,  0.0051, -0.0786,  0.0939],\n",
      "          [-0.0701, -0.0083, -0.0256,  0.0205,  0.1087],\n",
      "          [ 0.0110,  0.0669,  0.0896,  0.0932, -0.0399]],\n",
      "\n",
      "         [[-0.0258,  0.0556, -0.0315,  0.0541, -0.0252],\n",
      "          [-0.0783,  0.0470,  0.0177,  0.0515,  0.1147],\n",
      "          [ 0.0788,  0.1095,  0.0062, -0.0993, -0.0810],\n",
      "          [-0.0717, -0.1018, -0.0579, -0.1063, -0.1065],\n",
      "          [-0.0690, -0.1138, -0.0709,  0.0440,  0.0963]],\n",
      "\n",
      "         [[-0.0343, -0.0336,  0.0617, -0.0570, -0.0546],\n",
      "          [ 0.0711, -0.1006,  0.0141,  0.1020,  0.0198],\n",
      "          [ 0.0314, -0.0672, -0.0016,  0.0063,  0.0283],\n",
      "          [ 0.0449,  0.1003, -0.0881,  0.0035, -0.0577],\n",
      "          [-0.0913, -0.0092, -0.1016,  0.0806,  0.0134]]],\n",
      "\n",
      "\n",
      "        [[[-0.0622,  0.0603, -0.1093, -0.0447, -0.0225],\n",
      "          [-0.0981, -0.0734, -0.0188,  0.0876,  0.1115],\n",
      "          [ 0.0735, -0.0689, -0.0755,  0.1008,  0.0408],\n",
      "          [ 0.0031,  0.0156, -0.0928, -0.0386,  0.1112],\n",
      "          [-0.0285, -0.0058, -0.0959, -0.0646, -0.0024]],\n",
      "\n",
      "         [[-0.0717, -0.0143,  0.0470, -0.1130,  0.0343],\n",
      "          [-0.0763, -0.0564,  0.0443,  0.0918, -0.0316],\n",
      "          [-0.0474, -0.1044, -0.0595, -0.1011, -0.0264],\n",
      "          [ 0.0236, -0.1082,  0.1008,  0.0724, -0.1130],\n",
      "          [-0.0552,  0.0377, -0.0237, -0.0126, -0.0521]],\n",
      "\n",
      "         [[ 0.0927, -0.0645,  0.0958,  0.0075,  0.0232],\n",
      "          [ 0.0901, -0.0190, -0.0657, -0.0187,  0.0937],\n",
      "          [-0.0857,  0.0262, -0.1135,  0.0605,  0.0427],\n",
      "          [ 0.0049,  0.0496,  0.0001,  0.0639, -0.0914],\n",
      "          [-0.0170,  0.0512,  0.1150,  0.0588, -0.0840]]],\n",
      "\n",
      "\n",
      "        [[[ 0.0888, -0.0257, -0.0247, -0.1050, -0.0182],\n",
      "          [ 0.0817,  0.0161, -0.0673,  0.0355, -0.0370],\n",
      "          [ 0.1054, -0.1002, -0.0365, -0.1115, -0.0455],\n",
      "          [ 0.0364,  0.1112,  0.0194,  0.1132,  0.0226],\n",
      "          [ 0.0667,  0.0926,  0.0965, -0.0646,  0.1062]],\n",
      "\n",
      "         [[ 0.0699, -0.0540, -0.0551, -0.0969,  0.0290],\n",
      "          [-0.0936,  0.0488,  0.0365, -0.1003,  0.0315],\n",
      "          [-0.0094,  0.0527,  0.0663, -0.1148,  0.1059],\n",
      "          [ 0.0968,  0.0459, -0.1055, -0.0412, -0.0335],\n",
      "          [-0.0297,  0.0651,  0.0420,  0.0915, -0.0432]],\n",
      "\n",
      "         [[ 0.0389,  0.0411, -0.0961, -0.1120, -0.0599],\n",
      "          [ 0.0790, -0.1087, -0.1005,  0.0647,  0.0623],\n",
      "          [ 0.0950, -0.0872, -0.0845,  0.0592,  0.1004],\n",
      "          [ 0.0691,  0.0181,  0.0381,  0.1096, -0.0745],\n",
      "          [-0.0524,  0.0808, -0.0790, -0.0637,  0.0843]]]]), 'bias': tensor([ 0.0364,  0.0373, -0.0489, -0.0016,  0.1057, -0.0693,  0.0009,  0.0549,\n",
      "        -0.0797,  0.1121])})\n"
     ]
    }
   ],
   "source": [
    "print(conv_layer_2.state_dict())"
   ]
  },
  {
   "cell_type": "markdown",
   "id": "672272c3-ab6c-4b13-b61e-306094356f4f",
   "metadata": {},
   "source": [
    "Bunch of random numbers for a weight and bias tensor. Exactly the same! These shapes are then manipulated by the inputs we passed ito *nn.Conv2d()* when we set it up. Let's take a look at these."
   ]
  },
  {
   "cell_type": "code",
   "execution_count": 80,
   "id": "e3757e7b-0ca3-4b01-ad1d-f4615272eb35",
   "metadata": {},
   "outputs": [
    {
     "name": "stdout",
     "output_type": "stream",
     "text": [
      "conv_layer_2 weight shape: \n",
      "torch.Size([10, 3, 5, 5]) -> [out_channels=10, in_channels=3, kernel_size=5, kernel_size=5]\n",
      "conv_layer_2 bias shape: \n",
      "torch.Size([10]) -> [out_channels=10]\n"
     ]
    }
   ],
   "source": [
    "# Get shape of weight & bias tensors within conv_layer_2\n",
    "\n",
    "print(f\"conv_layer_2 weight shape: \\n{conv_layer_2.weight.shape} -> [out_channels=10, in_channels=3, kernel_size=5, kernel_size=5]\")\n",
    "print(f\"conv_layer_2 bias shape: \\n{conv_layer_2.bias.shape} -> [out_channels=10]\")"
   ]
  },
  {
   "cell_type": "markdown",
   "id": "91db0081-0307-4bbd-bf3f-79b5e2a2bfb4",
   "metadata": {},
   "source": [
    "So that leaves us with the biggest question of all - how do we know what parameters to set in our *nn.Conv2d()* layers?\n",
    "\n",
    "Again, we go back to the creative part of machine learning. These values aren't set in stone and we don't know what to set. These are hyperparameters so at this point, it's just best to experiment around and think of logical possibilities when choosing. Check out different values and see how they turn out and affect the model's performance. "
   ]
  },
  {
   "cell_type": "markdown",
   "id": "4ee8624b-2a07-4d76-9e7f-038e4ad83157",
   "metadata": {},
   "source": [
    "We're working with different and quite frankly, exciting new layers that introduce many complexities but at the end of the day, the same princpiple stay's the same. We are initializing with random numbers then update them to better represent data. That's it. "
   ]
  },
  {
   "cell_type": "markdown",
   "id": "7af2cd1b-547e-43d6-9abf-ae5093f04385",
   "metadata": {},
   "source": [
    "**Stepping Through nn.MaxPool2d()**\n",
    "\n",
    "Let's move the data through *nn.MaxPool2d()*"
   ]
  },
  {
   "cell_type": "code",
   "execution_count": 81,
   "id": "d755dceb-1a2e-4887-8b40-0f6dd090f1d8",
   "metadata": {},
   "outputs": [
    {
     "name": "stdout",
     "output_type": "stream",
     "text": [
      "Test image original shape: torch.Size([3, 64, 64])\n",
      "Shape after going through conv_layer(): torch.Size([10, 62, 62])\n",
      "Shape after going through conv_layer() and max_pool_layer(): torch.Size([10, 31, 31])\n"
     ]
    }
   ],
   "source": [
    "# Print original image shape \n",
    "print(f\"Test image original shape: {test_image.shape}\")\n",
    "\n",
    "# Create sample nn.MaxPool2d() Layer\n",
    "max_pool_layer = nn.MaxPool2d(kernel_size=2)\n",
    "\n",
    "# Pass data through convolution layer\n",
    "test_image_through_conv = conv_layer(test_image)\n",
    "print(f\"Shape after going through conv_layer(): {test_image_through_conv.shape}\")\n",
    "\n",
    "# Pass data through maxpool layer\n",
    "test_image_through_conv_and_maxpool = max_pool_layer(test_image_through_conv)\n",
    "print(f\"Shape after going through conv_layer() and max_pool_layer(): {test_image_through_conv_and_maxpool.shape}\")"
   ]
  },
  {
   "cell_type": "markdown",
   "id": "ab904a51-35f2-4033-a677-66f2bcdc8f02",
   "metadata": {},
   "source": [
    "Keep note of the changes with the shapes that are happening in and out of *nn.MaxPool2d()* layer. The *kernel_size* of the *nn.MaxPool2d()* layer drastically affects the size of the output shape. This technically halves the entire image from a 62x62 to 31x31 image. \n",
    "\n",
    "Let's try working with an even smaller tensor."
   ]
  },
  {
   "cell_type": "code",
   "execution_count": 82,
   "id": "0a4f02a0-4fb1-4e0c-af45-2d0580d75475",
   "metadata": {},
   "outputs": [
    {
     "name": "stdout",
     "output_type": "stream",
     "text": [
      "Random Tensor: \n",
      "tensor([[[[0.3367, 0.1288],\n",
      "          [0.2345, 0.2303]]]])\n",
      "Random Tensor Shape: torch.Size([1, 1, 2, 2])\n",
      "\n",
      "Max pool tensor:\n",
      "tensor([[[[0.3367]]]])\n",
      "Max pool tensor shape: torch.Size([1, 1, 1, 1])\n"
     ]
    }
   ],
   "source": [
    "torch.manual_seed(42)\n",
    "# Create random tensor toy with similiar number of dimensions to an image\n",
    "random_tensor = torch.randn(size=(1, 1, 2, 2))\n",
    "print(f\"Random Tensor: \\n{random_tensor}\")\n",
    "print(f\"Random Tensor Shape: {random_tensor.shape}\")\n",
    "\n",
    "# Create maxpool layer\n",
    "max_pool_layer = nn.MaxPool2d(kernel_size=2)\n",
    "\n",
    "# Passing random tensor to maxpool layer\n",
    "max_pool_tensor = max_pool_layer(random_tensor)\n",
    "print(f\"\\nMax pool tensor:\\n{max_pool_tensor}\") # <-- MaxPool takes the largest value of an area\n",
    "print(f\"Max pool tensor shape: {max_pool_tensor.shape}\")"
   ]
  },
  {
   "cell_type": "markdown",
   "id": "031b32d5-9a93-4755-a31b-39313b948092",
   "metadata": {},
   "source": [
    "Take a look at the shapes of *random_tensor* and *max_pool_tensor*. The values change from [2,2] into [1,1]. Essentially they also got halved as the same as our previous example. \n",
    "\n",
    "Is it always like that? No. It entirely depends on the hyperparameter values that you set with *kernel_size* from *nn.MaxPool2d()*\n",
    "\n",
    "Also take note that the value that's left in *max_pool_tensor* is the highest value from *random_tensor*. So why? Why is it choosing the highest value and throwing away the rest? \n",
    "\n",
    "This is another concept that you should understand when it comes to neural networks.\n",
    "\n",
    "**Every layer in a neural network is trying to compress data from higher dimensional space to lower dimensional space**.\n",
    "\n",
    "Basically, we take a lot of numbers (raw data) and then learn the patters in those numbers, these patterns should be predictive while also being smaller in size than the original values. Take it another way, you can consider the whole purpose of neural networks is to *compress information*."
   ]
  },
  {
   "cell_type": "markdown",
   "id": "77b6c3d4-5681-4423-b897-5256180bd2d7",
   "metadata": {},
   "source": [
    "![Display](images/03-conv-net-as-compression.png \"Neural Network is Compression\")"
   ]
  },
  {
   "cell_type": "markdown",
   "id": "908de148-b14d-4b08-8057-29dbaab3e318",
   "metadata": {},
   "source": [
    "This means that from how a neural network looks at things, compression is equivalent to intelligence. \n",
    "\n",
    "That is the concept behind *nn.MaxPool2d()* layer. This takes the maximum value from a portion of a tensor and disregards the rest as meaningless details. \n",
    "\n",
    "We are retaining only the important information and features that we should consider and the rest shouldn't be kept in mind. Convolution and pooling layers are choosing what we need to recognize the patterns only in order to improve efficiency and reduce the cost.\n",
    "\n",
    "The same concept happens with *nn.Conv2d()* but the only difference is that it isn't taking the maximum value but insteads performs a convolution operation instead to see the data. \n",
    "\n",
    "*nn.MaxPool2d* is just one pooling layer that we can use. There are others such as *nn.AvgPool2d()*. You can already probably guess with the name of what it's supposed to do. "
   ]
  },
  {
   "cell_type": "code",
   "execution_count": 83,
   "id": "f317eabc-3b83-4226-a99a-7cec77d6de0c",
   "metadata": {},
   "outputs": [
    {
     "name": "stdout",
     "output_type": "stream",
     "text": [
      "Random Tensor: \n",
      "tensor([[[[0.3367, 0.1288],\n",
      "          [0.2345, 0.2303]]]])\n",
      "Random Tensor Shape: torch.Size([1, 1, 2, 2])\n",
      "\n",
      "Average pool tensor:\n",
      "tensor([[[[0.2326]]]])\n",
      "Average pool tensor shape: torch.Size([1, 1, 1, 1])\n"
     ]
    }
   ],
   "source": [
    "torch.manual_seed(42)\n",
    "# Create random tensor toy with similiar number of dimensions to an image\n",
    "random_tensor = torch.randn(size=(1, 1, 2, 2))\n",
    "print(f\"Random Tensor: \\n{random_tensor}\")\n",
    "print(f\"Random Tensor Shape: {random_tensor.shape}\")\n",
    "\n",
    "# Create maxpool layer\n",
    "avg_pool_layer = nn.AvgPool2d(kernel_size=2)\n",
    "\n",
    "# Passing random tensor to average pool layer\n",
    "avg_pool_tensor = avg_pool_layer(random_tensor)\n",
    "print(f\"\\nAverage pool tensor:\\n{avg_pool_tensor}\") # <-- average pool takes all the values and calculates the average as the output\n",
    "print(f\"Average pool tensor shape: {avg_pool_tensor.shape}\")"
   ]
  },
  {
   "cell_type": "markdown",
   "id": "e79121d9-daf1-4630-9c2a-588b840381c4",
   "metadata": {},
   "source": [
    "**Setting a Loss Function & Optimizer For Model_2**\n",
    "\n",
    "We've been talking about the newly introduced layers for our first CNN enough. If it's still all a bit too hard to grasp just start from small and work your way up from there. Pick a model, pass some data, and just observe whatever happens.\n",
    "\n",
    "Aside from that, let's get moving and start training. \n",
    "\n",
    "We first have to create our loss function and optimizer. As usual, *nn.CrossEntropyLoss* is a good loss function to use since we're working with multiclassification data. For the optimizer, *torch.optim.SGD()* is solid to optimize the *model_2.parameters()* and the learning rate will be maintained at 0.1."
   ]
  },
  {
   "cell_type": "code",
   "execution_count": 84,
   "id": "1aad3cc7-05b3-46b1-89e1-6c9a4a7c47a0",
   "metadata": {},
   "outputs": [],
   "source": [
    "# Setting up loss & optimizer\n",
    "loss_fn = nn.CrossEntropyLoss()\n",
    "optimizer = torch.optim.SGD(model_2.parameters(), 0.1)"
   ]
  },
  {
   "cell_type": "markdown",
   "id": "3c9495eb-3e46-4e0b-af77-cd43f149b599",
   "metadata": {},
   "source": [
    "**Training & Testing Model_2 with Existing Training & Testing Functions**\n",
    "\n",
    "Remember that we already created our testing and training functions earlier so we don't really need to make them again from scratch. We just have to call them. Let's do just that. Everything is pretty much still the same."
   ]
  },
  {
   "cell_type": "code",
   "execution_count": 89,
   "id": "66590faa-ac18-4986-919b-e1f74836d8e9",
   "metadata": {},
   "outputs": [
    {
     "data": {
      "application/vnd.jupyter.widget-view+json": {
       "model_id": "3f14827e8a024576bab05f55f63a82f1",
       "version_major": 2,
       "version_minor": 0
      },
      "text/plain": [
       "  0%|          | 0/3 [00:00<?, ?it/s]"
      ]
     },
     "metadata": {},
     "output_type": "display_data"
    },
    {
     "name": "stdout",
     "output_type": "stream",
     "text": [
      "Epoch: 0\n",
      "--------\n",
      "Train Loss: 2.30229 | Train Accuracy: 0.10000\n",
      "Test Loss: 2.30231 | Test Accuracy: 0.09994\n",
      "Epoch: 1\n",
      "--------\n",
      "Train Loss: 2.30228 | Train Accuracy: 0.10000\n",
      "Test Loss: 2.30231 | Test Accuracy: 0.09994\n",
      "Epoch: 2\n",
      "--------\n",
      "Train Loss: 2.30228 | Train Accuracy: 0.10000\n",
      "Test Loss: 2.30231 | Test Accuracy: 0.09994\n",
      "Train time on cuda: 73.772 seconds\n"
     ]
    }
   ],
   "source": [
    "torch.manual_seed(42)\n",
    "\n",
    "train_time_start_model_2 = timer()\n",
    "\n",
    "epochs = 3 \n",
    "for epoch in tqdm(range(epochs)):\n",
    "    print(f\"Epoch: {epoch}\\n--------\")\n",
    "    train_step(\n",
    "        dataloader=train_dataloader,\n",
    "        model=model_2,\n",
    "        loss_func=loss_fn,\n",
    "        optimizer=optimizer,\n",
    "        accuracy_fn=accuracy_fn,\n",
    "        device=device\n",
    "    )\n",
    "\n",
    "    test_step(\n",
    "        dataloader=test_dataloader,\n",
    "        model=model_2,\n",
    "        loss_func=loss_fn,\n",
    "        accuracy_fn=accuracy_fn,\n",
    "        device=device\n",
    "    )\n",
    "\n",
    "train_time_end_model_2 = timer()\n",
    "total_train_time_model_2 = print_train_time(\n",
    "    start=train_time_start_model_2,\n",
    "    end=train_time_end_model_2,\n",
    "    device=device\n",
    ")"
   ]
  },
  {
   "cell_type": "markdown",
   "id": "421a76b6-864a-421a-8ef2-b491b2dcb15c",
   "metadata": {},
   "source": [
    "Seems like our convolutional neural network is off to a great start! Things have improved quite a bit. Let's try evaluating it."
   ]
  },
  {
   "cell_type": "code",
   "execution_count": 42,
   "id": "07b89370-bf0c-4887-9bf2-ee6196a1be53",
   "metadata": {},
   "outputs": [
    {
     "data": {
      "text/plain": [
       "{'model_name': 'FashionMNISTModelV2',\n",
       " 'model_loss': 0.32413312792778015,\n",
       " 'model_acc': 0.8837859034538269}"
      ]
     },
     "execution_count": 42,
     "metadata": {},
     "output_type": "execute_result"
    }
   ],
   "source": [
    "model_2_results = eval_model(\n",
    "    model_2,\n",
    "    test_dataloader,\n",
    "    loss_fn,\n",
    "    accuracy_fn\n",
    ")\n",
    "\n",
    "model_2_results"
   ]
  },
  {
   "cell_type": "markdown",
   "id": "9d21dd23-2d7b-435a-837f-6de27a815416",
   "metadata": {},
   "source": [
    "**Comparing Models & Training Time**\n",
    "So far, we've trained three seperate models:\n",
    "\n",
    "1. *model_0* - baseline model with two *nn.Linear* layers.\n",
    "2. *model_1* - accomodates for non-linearity with *nn.ReLU* in between the linear layers.\n",
    "3. *model_2* - CNN model that mimics TinyVGG's architecture. Containts two blocks of convolutional & pooling layers.\n",
    "\n",
    "Creating multiple models and comparing them is a regular thing when it comes to machine learning and you should do the same since this allows you to also practice with creating different types of models. Basically, we create different models to see which works best. You can't know if you don't make them in the first place. \n",
    "\n",
    "Let's combine all these evaluation results into one DataFrame object. Great thing is that we have pandas library to work with to make it a lot more visually pleasing. "
   ]
  },
  {
   "cell_type": "code",
   "execution_count": 43,
   "id": "a8bddc92-ce16-40ef-aaed-d6f9c1f6730d",
   "metadata": {},
   "outputs": [
    {
     "data": {
      "text/html": [
       "<div>\n",
       "<style scoped>\n",
       "    .dataframe tbody tr th:only-of-type {\n",
       "        vertical-align: middle;\n",
       "    }\n",
       "\n",
       "    .dataframe tbody tr th {\n",
       "        vertical-align: top;\n",
       "    }\n",
       "\n",
       "    .dataframe thead th {\n",
       "        text-align: right;\n",
       "    }\n",
       "</style>\n",
       "<table border=\"1\" class=\"dataframe\">\n",
       "  <thead>\n",
       "    <tr style=\"text-align: right;\">\n",
       "      <th></th>\n",
       "      <th>model_name</th>\n",
       "      <th>model_loss</th>\n",
       "      <th>model_acc</th>\n",
       "    </tr>\n",
       "  </thead>\n",
       "  <tbody>\n",
       "    <tr>\n",
       "      <th>0</th>\n",
       "      <td>FashionMNISTModelV0</td>\n",
       "      <td>0.476639</td>\n",
       "      <td>0.834265</td>\n",
       "    </tr>\n",
       "    <tr>\n",
       "      <th>1</th>\n",
       "      <td>FashionMNISTModelV1</td>\n",
       "      <td>0.685001</td>\n",
       "      <td>0.750200</td>\n",
       "    </tr>\n",
       "    <tr>\n",
       "      <th>2</th>\n",
       "      <td>FashionMNISTModelV2</td>\n",
       "      <td>0.324133</td>\n",
       "      <td>0.883786</td>\n",
       "    </tr>\n",
       "  </tbody>\n",
       "</table>\n",
       "</div>"
      ],
      "text/plain": [
       "            model_name  model_loss  model_acc\n",
       "0  FashionMNISTModelV0    0.476639   0.834265\n",
       "1  FashionMNISTModelV1    0.685001   0.750200\n",
       "2  FashionMNISTModelV2    0.324133   0.883786"
      ]
     },
     "execution_count": 43,
     "metadata": {},
     "output_type": "execute_result"
    }
   ],
   "source": [
    "compare_results = pd.DataFrame([model_0_results, model_1_results, model_2_results])\n",
    "compare_results"
   ]
  },
  {
   "cell_type": "markdown",
   "id": "34c1b6ad-8d7e-4594-b4f9-4a519f82fd78",
   "metadata": {},
   "source": [
    "It seems like our CNN model_2 is the best-performing model out of all the 3 with the model_0 baseline containing only linear layers following suite and model_1 containing non-linear activation functions at last place. "
   ]
  },
  {
   "cell_type": "markdown",
   "id": "9c7a0a79-1e11-4408-8634-ec8f7a2db554",
   "metadata": {},
   "source": [
    "**Performance-Trade Speedoff**\n",
    "\n",
    "One of the most key important elements when it comes to training is realizing the tradeoffs that you get. For the most part, you tend to get better performance with results from larger and complex networks. It's simple. The more neurons, layers, and etc. means more room for patterns to be memorized and used. \n",
    "\n",
    "However, the better the performance of your model means the suffering of training and inference speed increases exponentially. \n",
    "\n",
    "But for the most part, it all depends on the hardware that is being utilized. The more CPU/GPU cores that you have, the faster the training process goes and the newer generation hardware that you have means even faster training. But that's expensive. \n",
    "\n",
    "Let's take our current models and visualize their accuracies."
   ]
  },
  {
   "cell_type": "code",
   "execution_count": 44,
   "id": "43fbf334-1da0-49b3-9b66-b8ac79672de7",
   "metadata": {},
   "outputs": [
    {
     "data": {
      "image/png": "[encoded data removed]",
      "text/plain": [
       "<Figure size 640x480 with 1 Axes>"
      ]
     },
     "metadata": {},
     "output_type": "display_data"
    }
   ],
   "source": [
    "compare_results.set_index(\"model_name\")[\"model_acc\"].plot(kind=\"barh\")\n",
    "plt.xlabel(\"accuracy (%)\")\n",
    "plt.ylabel(\"model\");"
   ]
  },
  {
   "cell_type": "markdown",
   "id": "63c32038-db28-458a-82ed-29bf0b9d0de6",
   "metadata": {},
   "source": [
    "**Make & Evaluate Random Predictions From Best Model**\n",
    "\n",
    "Now that we've realized our best-performing model, it's time we evaluate it. Let's create a function *make_predictions* in which we can pass data into the model for it to predict on."
   ]
  },
  {
   "cell_type": "code",
   "execution_count": 45,
   "id": "90ae6427-8c90-4e25-a8c0-311a0b6abf51",
   "metadata": {},
   "outputs": [],
   "source": [
    "def make_predictions(model: torch.nn.Module, data: list, device: torch.device = device):\n",
    "    pred_probs = []\n",
    "    model.eval()\n",
    "    with torch.inference_mode():\n",
    "        for sample in data:\n",
    "            # Model requires 4D Tensor\n",
    "            sample = torch.unsqueeze(sample, dim=0).to(device)\n",
    "            # Forward Pass into Model (Creates Logits)\n",
    "            pred_logit = model(sample)\n",
    "            # Get Prediction Probability / Our batch has 1 sample so we can perform on dim=0 \n",
    "            # because squeezing means that from [batchsize, features] it turns into [features] \n",
    "            # thats why we can do dim=0\n",
    "            pred_prob = torch.softmax(pred_logit.squeeze(), dim=0)\n",
    "            # Transfer Prediction Probabilty from GPU to CPU for further calculations\n",
    "            pred_probs.append(pred_prob.cpu())\n",
    "\n",
    "    # Stack the pred_probs to turn list into tensor\n",
    "    return torch.stack(pred_probs)"
   ]
  },
  {
   "cell_type": "code",
   "execution_count": 46,
   "id": "f5299dc3-8bb7-4578-b7e3-0c084fcf729a",
   "metadata": {},
   "outputs": [
    {
     "name": "stdout",
     "output_type": "stream",
     "text": [
      "Test Sample Image Shape: torch.Size([1, 28, 28])\n",
      "Test Sample Image Label: 5 (Sandal)\n"
     ]
    }
   ],
   "source": [
    "import random\n",
    "random.seed(42)\n",
    "test_samples = []\n",
    "test_labels = []\n",
    "for sample, label in random.sample(list(test_data), k=9):\n",
    "    test_samples.append(sample)\n",
    "    test_labels.append(label)\n",
    "\n",
    "# View the first test sample shape & label\n",
    "print(f\"Test Sample Image Shape: {test_samples[0].shape}\\nTest Sample Image Label: {test_labels[0]} ({class_names[test_labels[0]]})\")"
   ]
  },
  {
   "cell_type": "markdown",
   "id": "fed4acd7-0d88-4ceb-9070-8ca860be9327",
   "metadata": {},
   "source": [
    "Let's utilize our newly created function to predict on *test_samples*"
   ]
  },
  {
   "cell_type": "code",
   "execution_count": 47,
   "id": "12d8677f-bf7c-4846-a836-5bca2577369b",
   "metadata": {},
   "outputs": [
    {
     "data": {
      "text/plain": [
       "tensor([[2.6594e-08, 7.0735e-09, 2.1130e-08, 1.9016e-08, 3.1013e-09, 9.9996e-01,\n",
       "         1.3105e-08, 5.1918e-06, 1.1983e-05, 2.4420e-05],\n",
       "        [1.0249e-01, 5.9669e-01, 5.5579e-03, 1.2535e-01, 9.5014e-02, 7.2098e-04,\n",
       "         7.3458e-02, 3.8781e-04, 1.1076e-04, 2.3330e-04]])"
      ]
     },
     "execution_count": 47,
     "metadata": {},
     "output_type": "execute_result"
    }
   ],
   "source": [
    "# make predictions on test samples with model_2\n",
    "pred_probs = make_predictions(model_2, test_samples)\n",
    "pred_probs[:2]"
   ]
  },
  {
   "cell_type": "markdown",
   "id": "b2dc2103-7d67-4dd6-ade4-f7019dde8315",
   "metadata": {},
   "source": [
    "Now that we have our prediction probabilities then we can start working on transforming these into prediction labels by just taking out the maximum value from *torch.softmax()* with *torch.argmax()* activation function."
   ]
  },
  {
   "cell_type": "code",
   "execution_count": 48,
   "id": "7a43fc25-501a-4d99-9bc8-72ea1cbeace2",
   "metadata": {},
   "outputs": [
    {
     "data": {
      "text/plain": [
       "tensor([5, 1, 7, 4, 3, 0, 4, 7, 1])"
      ]
     },
     "execution_count": 48,
     "metadata": {},
     "output_type": "execute_result"
    }
   ],
   "source": [
    "# Remember argmax take's the ARGUMENT LOCATION of the highest value\n",
    "pred_classes = pred_probs.argmax(dim=1)\n",
    "pred_classes"
   ]
  },
  {
   "cell_type": "code",
   "execution_count": 49,
   "id": "f388f008-e4a8-49be-b271-c3ada4ed1437",
   "metadata": {
    "scrolled": true
   },
   "outputs": [
    {
     "data": {
      "text/plain": [
       "([5, 1, 7, 4, 3, 0, 4, 7, 1], tensor([5, 1, 7, 4, 3, 0, 4, 7, 1]))"
      ]
     },
     "execution_count": 49,
     "metadata": {},
     "output_type": "execute_result"
    }
   ],
   "source": [
    "# Let's take a look if our predictions follow the same form as our test labels\n",
    "test_labels, pred_classes"
   ]
  },
  {
   "cell_type": "markdown",
   "id": "6065b2b5-f838-41af-90ca-b96220ed8000",
   "metadata": {},
   "source": [
    "Seems like they're both the same format! Meaning that we can now identify labels properly and can compare them. \n",
    "\n",
    "We're dealing with images so why should we just stick to arbitrary numbers? We should stay the same form as the data that we're dealing with! That means we ----- VISUALIZE! VISUALIZE! VISUALIZE! \n",
    "\n",
    "Time to go back to our favorite visualizer - matplotlib."
   ]
  },
  {
   "cell_type": "code",
   "execution_count": 51,
   "id": "7df21676-c20d-4bf1-82e7-f24a1f1b5eaf",
   "metadata": {},
   "outputs": [
    {
     "data": {
      "image/png": "[encoded data removed]",
      "text/plain": [
       "<Figure size 900x900 with 9 Axes>"
      ]
     },
     "metadata": {},
     "output_type": "display_data"
    }
   ],
   "source": [
    "plt.figure(figsize=(9,9))\n",
    "nrows = 3\n",
    "ncols = 3\n",
    "for i, sample in enumerate(test_samples):\n",
    "    # Create a subplot\n",
    "    plt.subplot(nrows, ncols, i+1)\n",
    "    # Plot the target image\n",
    "    plt.imshow(sample.squeeze(), cmap=\"gray\")\n",
    "    # Finding the prediction label (in text form, e.g. \"Sandal\")\n",
    "    pred_label = class_names[pred_classes[i]]\n",
    "    # Get the truth label (in text form e.g \"T-shirt\")\n",
    "    truth_label = class_names[test_labels[i]]\n",
    "    # Create the title text of the plot\n",
    "    title_text = f\"Pred: {pred_label} | Truth: {truth_label}\"\n",
    "    # Check for equality and change title colour accordingly\n",
    "    if pred_label == truth_label:\n",
    "        plt.title(title_text, fontsize=10, c=\"g\")\n",
    "    else:\n",
    "        plt.title(title_text, fontsize=10, c=\"r\")\n",
    "    plt.axis(False);"
   ]
  },
  {
   "cell_type": "markdown",
   "id": "c3b0fa7d-6b33-4284-9374-f502a3160cdc",
   "metadata": {},
   "source": [
    "Now that is some beautiful visualization! Not only is it pleasing to look at but it is also easy to understand that we did a good job. "
   ]
  },
  {
   "cell_type": "markdown",
   "id": "24ac7f54-4ff2-4367-b530-570bd4bfc88e",
   "metadata": {},
   "source": [
    "**Confusion Matrix for Further Prediction Evaluation**\n",
    "\n",
    "There are plenty of different evaluation metrics that is possible to use when it comes to classification problems but one of the easiest and visualizing is a confusion matrix. \n",
    "\n",
    "You're no stranger to evaluation metrics, we've already been using it by the use of accuracy, but there's plenty more!\n",
    "\n",
    "Confusin matrix is exactly what it means, we are able to distinguish where our classification gets confused between predictions and true labels. \n",
    "\n",
    "Let's try making one. First we'll count the steps:\n",
    "\n",
    "1. Make predictions with our trained model - *model_2* (confusion matrix compares prediction to true labels).\n",
    "2. Make confusion matrix using *torchmetrics.ConfusionMatrix*.\n",
    "3. Plot confusion matix using *mlxtend.ploting.plot_confusion_matrix()*.\n",
    "\n",
    "Let's start working by first creating predictions with a trained model. "
   ]
  },
  {
   "cell_type": "code",
   "execution_count": 87,
   "id": "9c91b0ba-5aab-46ad-ab4a-c82b1f72ec93",
   "metadata": {},
   "outputs": [
    {
     "data": {
      "application/vnd.jupyter.widget-view+json": {
       "model_id": "93f1e7292788443fbe00ad6fe7b34034",
       "version_major": 2,
       "version_minor": 0
      },
      "text/plain": [
       "Making Predictions:   0%|          | 0/313 [00:00<?, ?it/s]"
      ]
     },
     "metadata": {},
     "output_type": "display_data"
    }
   ],
   "source": [
    "from tqdm.auto import tqdm\n",
    "\n",
    "# Make predictions with trained model\n",
    "y_preds = []\n",
    "model_2.eval()\n",
    "with torch.inference_mode():\n",
    "    for X, y in tqdm(test_dataloader, desc=\"Making Predictions\"):\n",
    "        # Send data and targes to target device\n",
    "        X, y = X.to(device), y.to(device)\n",
    "        # Forward pass\n",
    "        y_logits = model_2(X)\n",
    "        # Turn predictions from logits -> prediction probabilities -> prediction labels\n",
    "        # Notice we're not squeezing anymore? It's because our batchsize is now 32 instead of 1 \n",
    "        # so squeezing isn't going to do anything anymore and we have to specify dim=1 because\n",
    "        # [batch_size, features] remains intact as the shape.\n",
    "        y_pred = torch.softmax(y_logits, dim=1).argmax(dim=1)\n",
    "        y_preds.append(y_pred.cpu())\n",
    "\n",
    "# Concatenate lists of predictions into a tensor\n",
    "y_pred_tensor = torch.cat(y_preds)"
   ]
  },
  {
   "cell_type": "markdown",
   "id": "244e735d-d600-4db0-bb68-add666515519",
   "metadata": {},
   "source": [
    "Since we've got predictions, it's time to go through steps 2 & 3: \n",
    "\n",
    "2. Make a confusion matrix using *torchmetrics.ConfusionMatrix*\n",
    "3. Plot confusion matrix using *mlxtend.plotting.plot_confusion_matrix()*\n",
    "\n",
    "Make sure you have *torchmetrics* and *mlxtend* installed since these two libraries will help along with making a visual confusion matrix. "
   ]
  },
  {
   "cell_type": "markdown",
   "id": "476aa778-ab48-4796-8474-455bdca875b7",
   "metadata": {},
   "source": [
    "First we need to work with creating a *torchmetrics.ConfusionMatrix* instance. We need to tell it exactly how many classes we are currently working with. Setting it by *num_classes=len(class_names)*.\n",
    "\n",
    "Then we can start creating a confusion matrix (in tensor format) by passing our model's predictions in the our confusion matrix instance. We do this by inserting the predictions to *preds=y_pred_tensor* and with the targets *target=test_data.targets*\n",
    "\n",
    "Then we plot our confusion matrix with *plot_confusion_matrix* from *mlxtend.plotting*"
   ]
  },
  {
   "cell_type": "code",
   "execution_count": 56,
   "id": "7772aaa3-6d8b-43f1-b1c9-f479fda7b8d9",
   "metadata": {},
   "outputs": [
    {
     "data": {
      "image/png": "[encoded data removed]",
      "text/plain": [
       "<Figure size 1000x700 with 1 Axes>"
      ]
     },
     "metadata": {},
     "output_type": "display_data"
    }
   ],
   "source": [
    "confmat = ConfusionMatrix(num_classes=len(class_names), task='multiclass')\n",
    "confmat_tensor = confmat(preds = y_pred_tensor, target = test_data.targets)\n",
    "\n",
    "fig, ax = plot_confusion_matrix(\n",
    "    conf_mat = confmat_tensor.numpy(), # We convert the tensor to NumPy arrays since Matplotlib\n",
    "    class_names = class_names,\n",
    "    figsize = (10,7)\n",
    ")"
   ]
  },
  {
   "cell_type": "markdown",
   "id": "75d55e7a-bb98-464e-92a5-6b3ba6380992",
   "metadata": {},
   "source": [
    "That looks amazing! We can see where our model gets confused on what label with which prediction. From the graph, we can realize that our model is doing pretty well since the majority of the values are located diagonally from top to bottom. That means that it's predicting a good percentage of our data correctly. \n",
    "\n",
    "Ideally, it'll be better if all the other grids are 0 and only in the diagonal grid are the values located but that's asking for a 100% accuracy for the model. \n",
    "\n",
    "We can see that the model gets confused the most with items that are close to each other. For example, it often gets confused by pullover and coats. \n",
    "\n",
    "This visualization and matrix offers a lot of clarity and help as compared to just regular accuracy because we are able to distinguish where and what the model gets wrong. It also hints as to why it is getting things wrong. \n",
    "\n",
    "It's quite understandable to be confusied with \"shirts\" and \"T-shirt\". With these newly added information, we could do more on adjusting the model or even our data to even better represent them."
   ]
  },
  {
   "cell_type": "code",
   "execution_count": null,
   "id": "2d59760a-16c8-4d9c-a12b-15fd068cad84",
   "metadata": {},
   "outputs": [],
   "source": [
    "plt.figure(figsize=(9,9))\n",
    "nrows = 3\n",
    "ncols = 3\n",
    "for i, sample in enumerate(test_samples):\n",
    "    # Create a subplot\n",
    "    plt.subplot(nrows, ncols, i+1)\n",
    "    # Plot the target image\n",
    "    plt.imshow(sample.squeeze(), cmap=\"gray\")\n",
    "    # Finding the prediction label (in text form, e.g. \"Sandal\")\n",
    "    pred_label = class_names[pred_classes[i]]\n",
    "    # Get the truth label (in text form e.g \"T-shirt\")\n",
    "    truth_label = class_names[test_labels[i]]\n",
    "    # Create the title text of the plot\n",
    "    title_text = f\"Pred: {pred_label} | Truth: {truth_label}\"\n",
    "    # Check for equality and change title colour accordingly\n",
    "    if pred_label != truth_label:\n",
    "        plt.title(title_text, fontsize=10, c=\"g\")\n",
    "    else:\n",
    "        plt.title(title_text, fontsize=10, c=\"r\")\n",
    "    plt.axis(False);"
   ]
  },
  {
   "cell_type": "markdown",
   "id": "f8d79588-a441-42e7-b5b7-45958b039887",
   "metadata": {},
   "source": [
    "**Save & Load Best Performing Model**\n",
    "\n",
    "We'll be finishing everything off by saving and loading the best performing model. Recall that we can use the following to save a PyTorch model:\n",
    "\n",
    "1. *torch.save* - function to save a whole PyTorch model or model's *state_dict()*\n",
    "2. *torch.load* - function to laod a saved PyTorch object\n",
    "3. *torch.nn.Module.load_state_dict()* - a function to load a *state_dict()* into an existing model instance.\n",
    "\n",
    "Let's save our *model_2*'s *state_dict()* - load it back and then evaluate it to make sure that we're doing everything right."
   ]
  },
  {
   "cell_type": "code",
   "execution_count": 65,
   "id": "ca71ae5f-9590-4c50-8e27-f3e3fdd8722c",
   "metadata": {},
   "outputs": [
    {
     "name": "stdout",
     "output_type": "stream",
     "text": [
      "Saving Model To: models\\03_pytorch_computer_vision_model_2.pth\n"
     ]
    }
   ],
   "source": [
    "MODEL_PATH = Path(\"models\")\n",
    "MODEL_PATH.mkdir(parents=True, # create parent directories if req\n",
    "                exist_ok=True # if directory exists, skip error\n",
    "                )\n",
    "\n",
    "MODEL_NAME = \"03_pytorch_computer_vision_model_2.pth\"\n",
    "MODEL_SAVE_PATH = MODEL_PATH / MODEL_NAME\n",
    "\n",
    "print(f\"Saving Model To: {MODEL_SAVE_PATH}\")\n",
    "torch.save(obj=model_2.state_dict(),\n",
    "          f=MODEL_SAVE_PATH)"
   ]
  },
  {
   "cell_type": "markdown",
   "id": "59fafc8e-7f1c-4823-930e-b9f4c9e39d54",
   "metadata": {},
   "source": [
    "We've saved the model's *state_dict* and now we can load it back up to a new instance by a combination of *load_state_dict* and *torch.load*\n",
    "\n",
    "Since we're using *load_state_dict*, we first need to create an instance of *fashionMNISTModelV2()* with the same input parameters as our saved model's  *state_dict()*"
   ]
  },
  {
   "cell_type": "code",
   "execution_count": 81,
   "id": "24250337-abbb-474a-b571-437dfc17f76a",
   "metadata": {},
   "outputs": [
    {
     "data": {
      "text/plain": [
       "WindowsPath('models/03_pytorch_computer_vision_model_2.pth')"
      ]
     },
     "execution_count": 81,
     "metadata": {},
     "output_type": "execute_result"
    }
   ],
   "source": [
    "MODEL_SAVE_PATH"
   ]
  },
  {
   "cell_type": "code",
   "execution_count": 83,
   "id": "772d0833-fd41-479d-8d21-5a495e292f5e",
   "metadata": {},
   "outputs": [],
   "source": [
    "loaded_model_2 = FashionMNISTModelV2(1, 10, 10)\n",
    "loaded_model_2.load_state_dict(torch.load(f=MODEL_SAVE_PATH))\n",
    "\n",
    "loaded_model_2 = loaded_model_2.to(device)"
   ]
  },
  {
   "cell_type": "markdown",
   "id": "d8a4dad6-9f39-4f0f-a7c9-93fff9c5ccc3",
   "metadata": {},
   "source": [
    "We now have a loaded model based on our *model_2*'s original trained parameters. Let's check it out with *eval_mode* to see if\n",
    "everything works as similiar as it was before."
   ]
  },
  {
   "cell_type": "code",
   "execution_count": 85,
   "id": "c1a49a64-4d37-4027-b067-902b9605fd6d",
   "metadata": {},
   "outputs": [
    {
     "data": {
      "text/plain": [
       "{'model_name': 'FashionMNISTModelV2',\n",
       " 'model_loss': 0.32413312792778015,\n",
       " 'model_acc': 0.8837859034538269}"
      ]
     },
     "execution_count": 85,
     "metadata": {},
     "output_type": "execute_result"
    }
   ],
   "source": [
    "torch.manual_seed(42)\n",
    "\n",
    "loaded_model_2_results = eval_model(\n",
    "    model=loaded_model_2,\n",
    "    dataloader=test_dataloader,\n",
    "    loss_fn=loss_fn,\n",
    "    accuracy_fn=accuracy_fn\n",
    ")\n",
    "\n",
    "# Let's check if these results are the same as model_2's original results\n",
    "loaded_model_2_results"
   ]
  },
  {
   "cell_type": "code",
   "execution_count": 86,
   "id": "f0e7a791-b069-4b47-bc4a-c43fee713ce8",
   "metadata": {},
   "outputs": [
    {
     "data": {
      "text/plain": [
       "{'model_name': 'FashionMNISTModelV2',\n",
       " 'model_loss': 0.32413312792778015,\n",
       " 'model_acc': 0.8837859034538269}"
      ]
     },
     "execution_count": 86,
     "metadata": {},
     "output_type": "execute_result"
    }
   ],
   "source": [
    "model_2_results"
   ]
  },
  {
   "cell_type": "markdown",
   "id": "f996798c-03fd-4f37-aee4-1378038c3398",
   "metadata": {},
   "source": [
    "Seems close enough but there's another way that we can look at this by using *torch.isclose()* and passing a certain tolerance level via the parameters *atol* (absolute tolerance) and *rtol* (relative tolerance).\n",
    "\n",
    "If the model's results are close then the output of the *torch.isclose()* should be a boolean - true. "
   ]
  },
  {
   "cell_type": "code",
   "execution_count": 87,
   "id": "7e17d88d-2db3-4dd0-96a4-c861c4cd1a3c",
   "metadata": {},
   "outputs": [
    {
     "data": {
      "text/plain": [
       "tensor(True)"
      ]
     },
     "execution_count": 87,
     "metadata": {},
     "output_type": "execute_result"
    }
   ],
   "source": [
    "torch.isclose(torch.tensor(model_2_results[\"model_loss\"]),\n",
    "             torch.tensor(loaded_model_2_results[\"model_loss\"]),\n",
    "             atol=1e-08,\n",
    "             rtol=0.0001)"
   ]
  }
 ],
 "metadata": {
  "kernelspec": {
   "display_name": "Python 3 (ipykernel)",
   "language": "python",
   "name": "python3"
  },
  "language_info": {
   "codemirror_mode": {
    "name": "ipython",
    "version": 3
   },
   "file_extension": ".py",
   "mimetype": "text/x-python",
   "name": "python",
   "nbconvert_exporter": "python",
   "pygments_lexer": "ipython3",
   "version": "3.12.3"
  }
 },
 "nbformat": 4,
 "nbformat_minor": 5
}
