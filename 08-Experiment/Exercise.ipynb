{
 "cells": [
  {
   "cell_type": "code",
   "execution_count": 1,
   "id": "f959d594-d8fa-442b-acc1-d655fa19fa89",
   "metadata": {},
   "outputs": [],
   "source": [
    "%load_ext autoreload\n",
    "%autoreload 2"
   ]
  },
  {
   "cell_type": "code",
   "execution_count": 163,
   "id": "d0e0c05f-03da-4a38-8ba6-d45353eda105",
   "metadata": {},
   "outputs": [],
   "source": [
    "import torch\n",
    "import random\n",
    "import os \n",
    "import matplotlib.pyplot as plt\n",
    "\n",
    "from torch import nn\n",
    "from torch.utils.data import Dataset, DataLoader\n",
    "from torchvision import models, datasets\n",
    "from torchvision.transforms import v2\n",
    "from torchinfo import summary\n",
    "from torch.utils.tensorboard import SummaryWriter\n",
    "\n",
    "from scripts import utils, predict, data_setup\n",
    "from scripts.engine import train_step, test_step\n",
    "\n",
    "from typing import List, Tuple, Dict\n",
    "from tqdm.auto import tqdm\n",
    "from pathlib import Path\n",
    "from datetime import datetime\n",
    "\n",
    "from mlxtend.plotting import plot_confusion_matrix\n",
    "from torchmetrics import ConfusionMatrix\n",
    "from PIL import Image"
   ]
  },
  {
   "cell_type": "code",
   "execution_count": 164,
   "id": "0e6e5ef0-9292-4512-96e5-e14b1b825d16",
   "metadata": {},
   "outputs": [],
   "source": [
    "device = 'cuda' if torch.cuda.is_available() else 'cpu'"
   ]
  },
  {
   "cell_type": "code",
   "execution_count": 165,
   "id": "50010198-cc48-4b9f-96e2-0de47c98c719",
   "metadata": {},
   "outputs": [
    {
     "data": {
      "text/plain": [
       "(WindowsPath('data/data_10_percent'),\n",
       " WindowsPath('data/data_20_percent'),\n",
       " WindowsPath('data/data_100_percent'),\n",
       " WindowsPath('data/food101_100_percent'))"
      ]
     },
     "execution_count": 165,
     "metadata": {},
     "output_type": "execute_result"
    }
   ],
   "source": [
    "data_path = Path('data')\n",
    "data_path_10_percent = data_path/'data_10_percent'\n",
    "data_path_20_percent = data_path/'data_20_percent'\n",
    "data_path_100_percent = data_path/'data_100_percent'\n",
    "data_path_full = data_path/'food101_100_percent'\n",
    "\n",
    "data_path_10_percent, data_path_20_percent, data_path_100_percent, data_path_full"
   ]
  },
  {
   "cell_type": "code",
   "execution_count": 166,
   "id": "ff6cbb74-f7d8-49e1-86d8-30f108450d5b",
   "metadata": {},
   "outputs": [
    {
     "data": {
      "text/plain": [
       "ImageClassification(\n",
       "    crop_size=[224]\n",
       "    resize_size=[256]\n",
       "    mean=[0.485, 0.456, 0.406]\n",
       "    std=[0.229, 0.224, 0.225]\n",
       "    interpolation=InterpolationMode.BILINEAR\n",
       ")"
      ]
     },
     "execution_count": 166,
     "metadata": {},
     "output_type": "execute_result"
    }
   ],
   "source": [
    "weights = models.ResNet18_Weights.DEFAULT\n",
    "model = models.resnet18(weights=weights)\n",
    "\n",
    "weights.transforms()"
   ]
  },
  {
   "cell_type": "code",
   "execution_count": 167,
   "id": "190b9c2f-0cbf-47a1-949a-2c5f30118e44",
   "metadata": {
    "scrolled": true
   },
   "outputs": [
    {
     "data": {
      "text/plain": [
       "========================================================================================================================\n",
       "Layer (type (var_name))                  Input Shape          Output Shape         Param #              Trainable\n",
       "========================================================================================================================\n",
       "ResNet (ResNet)                          [32, 3, 224, 224]    [32, 1000]           --                   True\n",
       "├─Conv2d (conv1)                         [32, 3, 224, 224]    [32, 64, 112, 112]   9,408                True\n",
       "├─BatchNorm2d (bn1)                      [32, 64, 112, 112]   [32, 64, 112, 112]   128                  True\n",
       "├─ReLU (relu)                            [32, 64, 112, 112]   [32, 64, 112, 112]   --                   --\n",
       "├─MaxPool2d (maxpool)                    [32, 64, 112, 112]   [32, 64, 56, 56]     --                   --\n",
       "├─Sequential (layer1)                    [32, 64, 56, 56]     [32, 64, 56, 56]     --                   True\n",
       "│    └─BasicBlock (0)                    [32, 64, 56, 56]     [32, 64, 56, 56]     --                   True\n",
       "│    │    └─Conv2d (conv1)               [32, 64, 56, 56]     [32, 64, 56, 56]     36,864               True\n",
       "│    │    └─BatchNorm2d (bn1)            [32, 64, 56, 56]     [32, 64, 56, 56]     128                  True\n",
       "│    │    └─ReLU (relu)                  [32, 64, 56, 56]     [32, 64, 56, 56]     --                   --\n",
       "│    │    └─Conv2d (conv2)               [32, 64, 56, 56]     [32, 64, 56, 56]     36,864               True\n",
       "│    │    └─BatchNorm2d (bn2)            [32, 64, 56, 56]     [32, 64, 56, 56]     128                  True\n",
       "│    │    └─ReLU (relu)                  [32, 64, 56, 56]     [32, 64, 56, 56]     --                   --\n",
       "│    └─BasicBlock (1)                    [32, 64, 56, 56]     [32, 64, 56, 56]     --                   True\n",
       "│    │    └─Conv2d (conv1)               [32, 64, 56, 56]     [32, 64, 56, 56]     36,864               True\n",
       "│    │    └─BatchNorm2d (bn1)            [32, 64, 56, 56]     [32, 64, 56, 56]     128                  True\n",
       "│    │    └─ReLU (relu)                  [32, 64, 56, 56]     [32, 64, 56, 56]     --                   --\n",
       "│    │    └─Conv2d (conv2)               [32, 64, 56, 56]     [32, 64, 56, 56]     36,864               True\n",
       "│    │    └─BatchNorm2d (bn2)            [32, 64, 56, 56]     [32, 64, 56, 56]     128                  True\n",
       "│    │    └─ReLU (relu)                  [32, 64, 56, 56]     [32, 64, 56, 56]     --                   --\n",
       "├─Sequential (layer2)                    [32, 64, 56, 56]     [32, 128, 28, 28]    --                   True\n",
       "│    └─BasicBlock (0)                    [32, 64, 56, 56]     [32, 128, 28, 28]    --                   True\n",
       "│    │    └─Conv2d (conv1)               [32, 64, 56, 56]     [32, 128, 28, 28]    73,728               True\n",
       "│    │    └─BatchNorm2d (bn1)            [32, 128, 28, 28]    [32, 128, 28, 28]    256                  True\n",
       "│    │    └─ReLU (relu)                  [32, 128, 28, 28]    [32, 128, 28, 28]    --                   --\n",
       "│    │    └─Conv2d (conv2)               [32, 128, 28, 28]    [32, 128, 28, 28]    147,456              True\n",
       "│    │    └─BatchNorm2d (bn2)            [32, 128, 28, 28]    [32, 128, 28, 28]    256                  True\n",
       "│    │    └─Sequential (downsample)      [32, 64, 56, 56]     [32, 128, 28, 28]    8,448                True\n",
       "│    │    └─ReLU (relu)                  [32, 128, 28, 28]    [32, 128, 28, 28]    --                   --\n",
       "│    └─BasicBlock (1)                    [32, 128, 28, 28]    [32, 128, 28, 28]    --                   True\n",
       "│    │    └─Conv2d (conv1)               [32, 128, 28, 28]    [32, 128, 28, 28]    147,456              True\n",
       "│    │    └─BatchNorm2d (bn1)            [32, 128, 28, 28]    [32, 128, 28, 28]    256                  True\n",
       "│    │    └─ReLU (relu)                  [32, 128, 28, 28]    [32, 128, 28, 28]    --                   --\n",
       "│    │    └─Conv2d (conv2)               [32, 128, 28, 28]    [32, 128, 28, 28]    147,456              True\n",
       "│    │    └─BatchNorm2d (bn2)            [32, 128, 28, 28]    [32, 128, 28, 28]    256                  True\n",
       "│    │    └─ReLU (relu)                  [32, 128, 28, 28]    [32, 128, 28, 28]    --                   --\n",
       "├─Sequential (layer3)                    [32, 128, 28, 28]    [32, 256, 14, 14]    --                   True\n",
       "│    └─BasicBlock (0)                    [32, 128, 28, 28]    [32, 256, 14, 14]    --                   True\n",
       "│    │    └─Conv2d (conv1)               [32, 128, 28, 28]    [32, 256, 14, 14]    294,912              True\n",
       "│    │    └─BatchNorm2d (bn1)            [32, 256, 14, 14]    [32, 256, 14, 14]    512                  True\n",
       "│    │    └─ReLU (relu)                  [32, 256, 14, 14]    [32, 256, 14, 14]    --                   --\n",
       "│    │    └─Conv2d (conv2)               [32, 256, 14, 14]    [32, 256, 14, 14]    589,824              True\n",
       "│    │    └─BatchNorm2d (bn2)            [32, 256, 14, 14]    [32, 256, 14, 14]    512                  True\n",
       "│    │    └─Sequential (downsample)      [32, 128, 28, 28]    [32, 256, 14, 14]    33,280               True\n",
       "│    │    └─ReLU (relu)                  [32, 256, 14, 14]    [32, 256, 14, 14]    --                   --\n",
       "│    └─BasicBlock (1)                    [32, 256, 14, 14]    [32, 256, 14, 14]    --                   True\n",
       "│    │    └─Conv2d (conv1)               [32, 256, 14, 14]    [32, 256, 14, 14]    589,824              True\n",
       "│    │    └─BatchNorm2d (bn1)            [32, 256, 14, 14]    [32, 256, 14, 14]    512                  True\n",
       "│    │    └─ReLU (relu)                  [32, 256, 14, 14]    [32, 256, 14, 14]    --                   --\n",
       "│    │    └─Conv2d (conv2)               [32, 256, 14, 14]    [32, 256, 14, 14]    589,824              True\n",
       "│    │    └─BatchNorm2d (bn2)            [32, 256, 14, 14]    [32, 256, 14, 14]    512                  True\n",
       "│    │    └─ReLU (relu)                  [32, 256, 14, 14]    [32, 256, 14, 14]    --                   --\n",
       "├─Sequential (layer4)                    [32, 256, 14, 14]    [32, 512, 7, 7]      --                   True\n",
       "│    └─BasicBlock (0)                    [32, 256, 14, 14]    [32, 512, 7, 7]      --                   True\n",
       "│    │    └─Conv2d (conv1)               [32, 256, 14, 14]    [32, 512, 7, 7]      1,179,648            True\n",
       "│    │    └─BatchNorm2d (bn1)            [32, 512, 7, 7]      [32, 512, 7, 7]      1,024                True\n",
       "│    │    └─ReLU (relu)                  [32, 512, 7, 7]      [32, 512, 7, 7]      --                   --\n",
       "│    │    └─Conv2d (conv2)               [32, 512, 7, 7]      [32, 512, 7, 7]      2,359,296            True\n",
       "│    │    └─BatchNorm2d (bn2)            [32, 512, 7, 7]      [32, 512, 7, 7]      1,024                True\n",
       "│    │    └─Sequential (downsample)      [32, 256, 14, 14]    [32, 512, 7, 7]      132,096              True\n",
       "│    │    └─ReLU (relu)                  [32, 512, 7, 7]      [32, 512, 7, 7]      --                   --\n",
       "│    └─BasicBlock (1)                    [32, 512, 7, 7]      [32, 512, 7, 7]      --                   True\n",
       "│    │    └─Conv2d (conv1)               [32, 512, 7, 7]      [32, 512, 7, 7]      2,359,296            True\n",
       "│    │    └─BatchNorm2d (bn1)            [32, 512, 7, 7]      [32, 512, 7, 7]      1,024                True\n",
       "│    │    └─ReLU (relu)                  [32, 512, 7, 7]      [32, 512, 7, 7]      --                   --\n",
       "│    │    └─Conv2d (conv2)               [32, 512, 7, 7]      [32, 512, 7, 7]      2,359,296            True\n",
       "│    │    └─BatchNorm2d (bn2)            [32, 512, 7, 7]      [32, 512, 7, 7]      1,024                True\n",
       "│    │    └─ReLU (relu)                  [32, 512, 7, 7]      [32, 512, 7, 7]      --                   --\n",
       "├─AdaptiveAvgPool2d (avgpool)            [32, 512, 7, 7]      [32, 512, 1, 1]      --                   --\n",
       "├─Linear (fc)                            [32, 512]            [32, 1000]           513,000              True\n",
       "========================================================================================================================\n",
       "Total params: 11,689,512\n",
       "Trainable params: 11,689,512\n",
       "Non-trainable params: 0\n",
       "Total mult-adds (Units.GIGABYTES): 58.05\n",
       "========================================================================================================================\n",
       "Input size (MB): 19.27\n",
       "Forward/backward pass size (MB): 1271.92\n",
       "Params size (MB): 46.76\n",
       "Estimated Total Size (MB): 1337.94\n",
       "========================================================================================================================"
      ]
     },
     "execution_count": 167,
     "metadata": {},
     "output_type": "execute_result"
    }
   ],
   "source": [
    "summary(model=model,\n",
    "        input_size=(32,3,224,224),\n",
    "        col_names=[\"input_size\", \"output_size\", \"num_params\", \"trainable\"],\n",
    "        col_width=20,\n",
    "        row_settings=[\"var_names\"]\n",
    ")"
   ]
  },
  {
   "cell_type": "code",
   "execution_count": 168,
   "id": "15835ec1-57b4-4761-9bb4-eb896ae1b483",
   "metadata": {},
   "outputs": [],
   "source": [
    "simple_transforms = v2.Compose([\n",
    "    v2.Resize((224,224)),\n",
    "    v2.ToImage(),\n",
    "    v2.ToDtype(torch.float32, scale=True),\n",
    "    v2.Normalize(mean=[0.485, 0.456, 0.406],\n",
    "                        std=[0.229, 0.224, 0.225])\n",
    "])\n",
    "\n",
    "augmented_transforms = v2.Compose([\n",
    "    v2.Resize((224,224)),\n",
    "    v2.ToImage(),\n",
    "    v2.ToDtype(torch.uint8, scale=True),\n",
    "    v2.RandAugment(),\n",
    "    v2.ToDtype(torch.float32, scale=True),\n",
    "    v2.Normalize(mean=[0.485, 0.456, 0.406],\n",
    "                    std=[0.229, 0.224, 0.225])\n",
    "])"
   ]
  },
  {
   "cell_type": "code",
   "execution_count": 169,
   "id": "f3050e92-2732-4599-937a-2519b2760199",
   "metadata": {},
   "outputs": [],
   "source": [
    "train_data_path_10_percent = data_path_10_percent/'train'\n",
    "test_data_path_10_percent = data_path_10_percent/'test'\n",
    "\n",
    "train_data_path_20_percent = data_path_20_percent/'train'\n",
    "test_data_path_20_percent = data_path_20_percent/'test'\n",
    "\n",
    "train_data_path_100_percent = data_path_100_percent/'train'\n",
    "test_data_path_100_percent = data_path_100_percent/'test'"
   ]
  },
  {
   "cell_type": "code",
   "execution_count": 170,
   "id": "17308b19-089e-439d-9291-c5a9cc9d719d",
   "metadata": {},
   "outputs": [],
   "source": [
    "BATCH_SIZE = 32\n",
    "\n",
    "train_dataloader_10_percent, test_dataloader_10_percent, class_list_10 = data_setup.create_dataloaders(\n",
    "    train_dir=train_data_path_10_percent,\n",
    "    test_dir=test_data_path_10_percent,\n",
    "    transforms=simple_transforms,\n",
    "    augmented=augmented_transforms,\n",
    "    batch_size=BATCH_SIZE,\n",
    "    num_workers=0,\n",
    ")\n",
    "\n",
    "train_dataloader_20_percent, test_dataloader_20_percent, class_list_20 = data_setup.create_dataloaders(\n",
    "    train_dir=train_data_path_20_percent,\n",
    "    test_dir=test_data_path_20_percent,\n",
    "    transforms=simple_transforms,\n",
    "    augmented=augmented_transforms,\n",
    "    batch_size=BATCH_SIZE,\n",
    "    num_workers=0,\n",
    ")\n",
    "\n",
    "train_dataloader_100_percent, test_dataloader_100_percent, class_list_100 = data_setup.create_dataloaders(\n",
    "    train_dir=train_data_path_100_percent,\n",
    "    test_dir=test_data_path_100_percent,\n",
    "    transforms=simple_transforms,\n",
    "    augmented=augmented_transforms,\n",
    "    batch_size=BATCH_SIZE,\n",
    "    num_workers=0,\n",
    ")"
   ]
  },
  {
   "cell_type": "code",
   "execution_count": 171,
   "id": "6948c362-c262-41d9-95f1-0f518aaa303c",
   "metadata": {},
   "outputs": [],
   "source": [
    "train_dataset_full = datasets.Food101(root=data_path_full, split='train', transform=simple_transforms)\n",
    "test_dataset_full = datasets.Food101(root=data_path_full, split='test', transform=simple_transforms)"
   ]
  },
  {
   "cell_type": "code",
   "execution_count": 172,
   "id": "5cefcd0d-cd21-42cc-aed3-e9f250ea0685",
   "metadata": {},
   "outputs": [],
   "source": [
    "train_dataloader_full = DataLoader(dataset=train_dataset_full, batch_size=32, shuffle=True, num_workers=0)\n",
    "test_dataloader_full = DataLoader(dataset=test_dataset_full, batch_size=32, shuffle=False, num_workers=0)\n",
    "class_list_full = train_dataset_full.classes"
   ]
  },
  {
   "cell_type": "code",
   "execution_count": 173,
   "id": "226e844f-de55-44d2-9ddf-05f65a56b13b",
   "metadata": {},
   "outputs": [
    {
     "name": "stdout",
     "output_type": "stream",
     "text": [
      "[INFO] 10 Percent DataLoader |--------------------------------------------------\n",
      "Train Dataloader: Batch Size = 32 | Number of Batches = 8\n",
      "Test Dataloader: Batch Size = 32 | Number of Batches = 3\n",
      "Class List Length: 3\n",
      "\n",
      "[INFO] 20 Percent DataLoader |--------------------------------------------------\n",
      "Train Dataloader: Batch Size = 32 | Number of Batches = 15\n",
      "Test Dataloader: Batch Size = 32 | Number of Batches = 5\n",
      "Class List Length: 3\n",
      "\n",
      "[INFO] 100 Percent DataLoader |--------------------------------------------------\n",
      "Train Dataloader: Batch Size = 32 | Number of Batches = 85\n",
      "Test Dataloader: Batch Size = 32 | Number of Batches = 10\n",
      "Class List Length: 3\n",
      "\n",
      "[INFO] Full DataLoader |--------------------------------------------------\n",
      "Train Dataloader: Batch Size = 32 | Number of Batches = 2368\n",
      "Test Dataloader: Batch Size = 32 | Number of Batches = 790\n",
      "Class List Length: 101\n"
     ]
    }
   ],
   "source": [
    "print(f\"[INFO] 10 Percent DataLoader |\" + \"-\"*50)\n",
    "data_setup.info_dataloader(train_dataloader_10_percent, test_dataloader_10_percent, class_list_10)\n",
    "print(f\"\\n[INFO] 20 Percent DataLoader |\" + \"-\"*50)\n",
    "data_setup.info_dataloader(train_dataloader_20_percent, test_dataloader_20_percent, class_list_20)\n",
    "print(f\"\\n[INFO] 100 Percent DataLoader |\" + \"-\"*50)\n",
    "data_setup.info_dataloader(train_dataloader_100_percent, test_dataloader_100_percent, class_list_100)\n",
    "print(f\"\\n[INFO] Full DataLoader |\" + \"-\"*50)\n",
    "data_setup.info_dataloader(train_dataloader_full, test_dataloader_full, class_list_full)"
   ]
  },
  {
   "cell_type": "code",
   "execution_count": 174,
   "id": "76858f48-47de-4565-9207-50d09374757b",
   "metadata": {},
   "outputs": [
    {
     "data": {
      "image/png": "[encoded data removed]",
      "text/plain": [
       "<Figure size 640x480 with 10 Axes>"
      ]
     },
     "metadata": {},
     "output_type": "display_data"
    }
   ],
   "source": [
    "utils.view_dataloader_imgs(train_dataloader_10_percent, class_list_10)"
   ]
  },
  {
   "cell_type": "code",
   "execution_count": 57,
   "id": "5cc06fe1-91f9-4601-a3d7-72fa10a12923",
   "metadata": {},
   "outputs": [],
   "source": [
    "def create_resnet(model_name=str, class_list=None):\n",
    "    if model_name == \"resnet18\":\n",
    "        weights = models.ResNet18_Weights.DEFAULT\n",
    "        model = models.resnet18(weights=weights)\n",
    "    else:\n",
    "        weights = models.ResNet34_Weights.DEFAULT\n",
    "        model = models.resnet34(weights=weights)\n",
    "\n",
    "    for param in model.parameters():\n",
    "        param.requires_grad = False\n",
    "\n",
    "    for param in model.fc.parameters():\n",
    "        param.requires_grad = True\n",
    "\n",
    "    model.fc = nn.Linear(in_features=512, out_features=len(class_list), bias=True)\n",
    "    model.name = model_name\n",
    "    print(f\"[INFO] Created Model - {model.name}\")\n",
    "\n",
    "    return model"
   ]
  },
  {
   "cell_type": "code",
   "execution_count": 58,
   "id": "0f538dc3-04f4-4c78-8c52-ab224acd5af5",
   "metadata": {},
   "outputs": [
    {
     "name": "stdout",
     "output_type": "stream",
     "text": [
      "[INFO] Created Model - resnet18\n"
     ]
    }
   ],
   "source": [
    "resnet18 = create_resnet(model_name='resnet18', class_list=class_list_10)"
   ]
  },
  {
   "cell_type": "code",
   "execution_count": 59,
   "id": "8bdc77fe-5f5a-49c8-8384-ac61d1062d1c",
   "metadata": {
    "scrolled": true
   },
   "outputs": [
    {
     "data": {
      "text/plain": [
       "========================================================================================================================\n",
       "Layer (type (var_name))                  Input Shape          Output Shape         Param #              Trainable\n",
       "========================================================================================================================\n",
       "ResNet (ResNet)                          [32, 3, 224, 224]    [32, 3]              --                   Partial\n",
       "├─Conv2d (conv1)                         [32, 3, 224, 224]    [32, 64, 112, 112]   (9,408)              False\n",
       "├─BatchNorm2d (bn1)                      [32, 64, 112, 112]   [32, 64, 112, 112]   (128)                False\n",
       "├─ReLU (relu)                            [32, 64, 112, 112]   [32, 64, 112, 112]   --                   --\n",
       "├─MaxPool2d (maxpool)                    [32, 64, 112, 112]   [32, 64, 56, 56]     --                   --\n",
       "├─Sequential (layer1)                    [32, 64, 56, 56]     [32, 64, 56, 56]     --                   False\n",
       "│    └─BasicBlock (0)                    [32, 64, 56, 56]     [32, 64, 56, 56]     --                   False\n",
       "│    │    └─Conv2d (conv1)               [32, 64, 56, 56]     [32, 64, 56, 56]     (36,864)             False\n",
       "│    │    └─BatchNorm2d (bn1)            [32, 64, 56, 56]     [32, 64, 56, 56]     (128)                False\n",
       "│    │    └─ReLU (relu)                  [32, 64, 56, 56]     [32, 64, 56, 56]     --                   --\n",
       "│    │    └─Conv2d (conv2)               [32, 64, 56, 56]     [32, 64, 56, 56]     (36,864)             False\n",
       "│    │    └─BatchNorm2d (bn2)            [32, 64, 56, 56]     [32, 64, 56, 56]     (128)                False\n",
       "│    │    └─ReLU (relu)                  [32, 64, 56, 56]     [32, 64, 56, 56]     --                   --\n",
       "│    └─BasicBlock (1)                    [32, 64, 56, 56]     [32, 64, 56, 56]     --                   False\n",
       "│    │    └─Conv2d (conv1)               [32, 64, 56, 56]     [32, 64, 56, 56]     (36,864)             False\n",
       "│    │    └─BatchNorm2d (bn1)            [32, 64, 56, 56]     [32, 64, 56, 56]     (128)                False\n",
       "│    │    └─ReLU (relu)                  [32, 64, 56, 56]     [32, 64, 56, 56]     --                   --\n",
       "│    │    └─Conv2d (conv2)               [32, 64, 56, 56]     [32, 64, 56, 56]     (36,864)             False\n",
       "│    │    └─BatchNorm2d (bn2)            [32, 64, 56, 56]     [32, 64, 56, 56]     (128)                False\n",
       "│    │    └─ReLU (relu)                  [32, 64, 56, 56]     [32, 64, 56, 56]     --                   --\n",
       "├─Sequential (layer2)                    [32, 64, 56, 56]     [32, 128, 28, 28]    --                   False\n",
       "│    └─BasicBlock (0)                    [32, 64, 56, 56]     [32, 128, 28, 28]    --                   False\n",
       "│    │    └─Conv2d (conv1)               [32, 64, 56, 56]     [32, 128, 28, 28]    (73,728)             False\n",
       "│    │    └─BatchNorm2d (bn1)            [32, 128, 28, 28]    [32, 128, 28, 28]    (256)                False\n",
       "│    │    └─ReLU (relu)                  [32, 128, 28, 28]    [32, 128, 28, 28]    --                   --\n",
       "│    │    └─Conv2d (conv2)               [32, 128, 28, 28]    [32, 128, 28, 28]    (147,456)            False\n",
       "│    │    └─BatchNorm2d (bn2)            [32, 128, 28, 28]    [32, 128, 28, 28]    (256)                False\n",
       "│    │    └─Sequential (downsample)      [32, 64, 56, 56]     [32, 128, 28, 28]    (8,448)              False\n",
       "│    │    └─ReLU (relu)                  [32, 128, 28, 28]    [32, 128, 28, 28]    --                   --\n",
       "│    └─BasicBlock (1)                    [32, 128, 28, 28]    [32, 128, 28, 28]    --                   False\n",
       "│    │    └─Conv2d (conv1)               [32, 128, 28, 28]    [32, 128, 28, 28]    (147,456)            False\n",
       "│    │    └─BatchNorm2d (bn1)            [32, 128, 28, 28]    [32, 128, 28, 28]    (256)                False\n",
       "│    │    └─ReLU (relu)                  [32, 128, 28, 28]    [32, 128, 28, 28]    --                   --\n",
       "│    │    └─Conv2d (conv2)               [32, 128, 28, 28]    [32, 128, 28, 28]    (147,456)            False\n",
       "│    │    └─BatchNorm2d (bn2)            [32, 128, 28, 28]    [32, 128, 28, 28]    (256)                False\n",
       "│    │    └─ReLU (relu)                  [32, 128, 28, 28]    [32, 128, 28, 28]    --                   --\n",
       "├─Sequential (layer3)                    [32, 128, 28, 28]    [32, 256, 14, 14]    --                   False\n",
       "│    └─BasicBlock (0)                    [32, 128, 28, 28]    [32, 256, 14, 14]    --                   False\n",
       "│    │    └─Conv2d (conv1)               [32, 128, 28, 28]    [32, 256, 14, 14]    (294,912)            False\n",
       "│    │    └─BatchNorm2d (bn1)            [32, 256, 14, 14]    [32, 256, 14, 14]    (512)                False\n",
       "│    │    └─ReLU (relu)                  [32, 256, 14, 14]    [32, 256, 14, 14]    --                   --\n",
       "│    │    └─Conv2d (conv2)               [32, 256, 14, 14]    [32, 256, 14, 14]    (589,824)            False\n",
       "│    │    └─BatchNorm2d (bn2)            [32, 256, 14, 14]    [32, 256, 14, 14]    (512)                False\n",
       "│    │    └─Sequential (downsample)      [32, 128, 28, 28]    [32, 256, 14, 14]    (33,280)             False\n",
       "│    │    └─ReLU (relu)                  [32, 256, 14, 14]    [32, 256, 14, 14]    --                   --\n",
       "│    └─BasicBlock (1)                    [32, 256, 14, 14]    [32, 256, 14, 14]    --                   False\n",
       "│    │    └─Conv2d (conv1)               [32, 256, 14, 14]    [32, 256, 14, 14]    (589,824)            False\n",
       "│    │    └─BatchNorm2d (bn1)            [32, 256, 14, 14]    [32, 256, 14, 14]    (512)                False\n",
       "│    │    └─ReLU (relu)                  [32, 256, 14, 14]    [32, 256, 14, 14]    --                   --\n",
       "│    │    └─Conv2d (conv2)               [32, 256, 14, 14]    [32, 256, 14, 14]    (589,824)            False\n",
       "│    │    └─BatchNorm2d (bn2)            [32, 256, 14, 14]    [32, 256, 14, 14]    (512)                False\n",
       "│    │    └─ReLU (relu)                  [32, 256, 14, 14]    [32, 256, 14, 14]    --                   --\n",
       "├─Sequential (layer4)                    [32, 256, 14, 14]    [32, 512, 7, 7]      --                   False\n",
       "│    └─BasicBlock (0)                    [32, 256, 14, 14]    [32, 512, 7, 7]      --                   False\n",
       "│    │    └─Conv2d (conv1)               [32, 256, 14, 14]    [32, 512, 7, 7]      (1,179,648)          False\n",
       "│    │    └─BatchNorm2d (bn1)            [32, 512, 7, 7]      [32, 512, 7, 7]      (1,024)              False\n",
       "│    │    └─ReLU (relu)                  [32, 512, 7, 7]      [32, 512, 7, 7]      --                   --\n",
       "│    │    └─Conv2d (conv2)               [32, 512, 7, 7]      [32, 512, 7, 7]      (2,359,296)          False\n",
       "│    │    └─BatchNorm2d (bn2)            [32, 512, 7, 7]      [32, 512, 7, 7]      (1,024)              False\n",
       "│    │    └─Sequential (downsample)      [32, 256, 14, 14]    [32, 512, 7, 7]      (132,096)            False\n",
       "│    │    └─ReLU (relu)                  [32, 512, 7, 7]      [32, 512, 7, 7]      --                   --\n",
       "│    └─BasicBlock (1)                    [32, 512, 7, 7]      [32, 512, 7, 7]      --                   False\n",
       "│    │    └─Conv2d (conv1)               [32, 512, 7, 7]      [32, 512, 7, 7]      (2,359,296)          False\n",
       "│    │    └─BatchNorm2d (bn1)            [32, 512, 7, 7]      [32, 512, 7, 7]      (1,024)              False\n",
       "│    │    └─ReLU (relu)                  [32, 512, 7, 7]      [32, 512, 7, 7]      --                   --\n",
       "│    │    └─Conv2d (conv2)               [32, 512, 7, 7]      [32, 512, 7, 7]      (2,359,296)          False\n",
       "│    │    └─BatchNorm2d (bn2)            [32, 512, 7, 7]      [32, 512, 7, 7]      (1,024)              False\n",
       "│    │    └─ReLU (relu)                  [32, 512, 7, 7]      [32, 512, 7, 7]      --                   --\n",
       "├─AdaptiveAvgPool2d (avgpool)            [32, 512, 7, 7]      [32, 512, 1, 1]      --                   --\n",
       "├─Linear (fc)                            [32, 512]            [32, 3]              1,539                True\n",
       "========================================================================================================================\n",
       "Total params: 11,178,051\n",
       "Trainable params: 1,539\n",
       "Non-trainable params: 11,176,512\n",
       "Total mult-adds (Units.GIGABYTES): 58.03\n",
       "========================================================================================================================\n",
       "Input size (MB): 19.27\n",
       "Forward/backward pass size (MB): 1271.66\n",
       "Params size (MB): 44.71\n",
       "Estimated Total Size (MB): 1335.64\n",
       "========================================================================================================================"
      ]
     },
     "execution_count": 59,
     "metadata": {},
     "output_type": "execute_result"
    }
   ],
   "source": [
    "summary(model=resnet18,\n",
    "        input_size=(32,3,224,224),\n",
    "        col_names=[\"input_size\", \"output_size\", \"num_params\", \"trainable\"],\n",
    "        col_width=20,\n",
    "        row_settings=[\"var_names\"]\n",
    ")"
   ]
  },
  {
   "cell_type": "code",
   "execution_count": 60,
   "id": "1fdb5dcf-4bd8-4c7e-9abd-deef9dbcbddd",
   "metadata": {},
   "outputs": [],
   "source": [
    "def create_writer(experiment_name: str,\n",
    "                 model_name: str,\n",
    "                 extra: str=None) -> torch.utils.tensorboard.SummaryWriter():\n",
    "\n",
    "    timestamp = datetime.now().strftime(\"%y-%m-%d\")\n",
    "    if extra:\n",
    "        log_dir = os.path.join(\"ex_runs\", timestamp, experiment_name, model_name, extra)\n",
    "    else:\n",
    "        log_dir = os.path.join(\"ex_runs\", timestamp, experiment_name, model_name)\n",
    "\n",
    "    print(f\"[INFO] Creating Writer - Saved To {log_dir}\")\n",
    "    return SummaryWriter(log_dir=log_dir)"
   ]
  },
  {
   "cell_type": "code",
   "execution_count": 61,
   "id": "ec0dd1eb-85c0-4e90-8d3b-76ddd223979f",
   "metadata": {},
   "outputs": [],
   "source": [
    "def train(\n",
    "    model: torch.nn.Module,\n",
    "    train_dataloader: torch.utils.data.DataLoader,\n",
    "    test_dataloader: torch.utils.data.DataLoader,\n",
    "    loss_fn: torch.nn.Module,\n",
    "    optimizer: torch.optim.Optimizer,\n",
    "    device: torch.device,\n",
    "    epochs: int,\n",
    "    writer: torch.utils.tensorboard.SummaryWriter(),\n",
    "):\n",
    "    \n",
    "    results = {\"train_loss\":[], \"train_acc\":[], \"test_loss\":[],\"test_acc\":[]}\n",
    "\n",
    "    model.eval().to(device)\n",
    "    for epoch in tqdm(range(epochs)):\n",
    "        train_loss, train_acc = train_step(\n",
    "            model=model,\n",
    "            dataloader=train_dataloader,\n",
    "            loss_fn=loss_fn,\n",
    "            optimizer=optimizer,\n",
    "            device=device\n",
    "        )\n",
    "\n",
    "        test_loss, test_acc = test_step(\n",
    "            model=model,\n",
    "            dataloader=test_dataloader,\n",
    "            loss_fn=loss_fn,\n",
    "            device=device\n",
    "        )\n",
    "\n",
    "        results[\"train_loss\"].append(train_loss)\n",
    "        results[\"train_acc\"].append(train_acc)\n",
    "        results[\"test_loss\"].append(test_loss)\n",
    "        results[\"test_acc\"].append(test_acc)\n",
    "\n",
    "        print(f\"Epochs: {epoch+1} | \"\n",
    "            f\"Train Loss: {train_loss:.4f} | \"\n",
    "            f\"Train Acc: {train_acc:.4f} | \"\n",
    "            f\"Test Loss: {test_loss:.4f} | \"\n",
    "            f\"Test Acc: {test_acc:.4f} \")\n",
    "\n",
    "        if writer:\n",
    "            writer.add_scalars(main_tag=\"Loss\",\n",
    "                              tag_scalar_dict={\"train_loss\": train_loss,\n",
    "                                              \"test_loss\": test_loss},\n",
    "                               global_step=epoch)\n",
    "\n",
    "            writer.add_scalars(main_tag=\"Accuracy\",\n",
    "                      tag_scalar_dict={\"train_acc\": train_acc,\n",
    "                                      \"test_acc\": test_acc},\n",
    "                               global_step=epoch)\n",
    "            writer.close()\n",
    "        else:\n",
    "            pass\n",
    "\n",
    "    return results"
   ]
  },
  {
   "cell_type": "code",
   "execution_count": 75,
   "id": "09460e8a-8c7b-41ef-95a8-3089d2195dfc",
   "metadata": {},
   "outputs": [],
   "source": [
    "epochs = [5,9]\n",
    "model_list = [\"resnet18\", \"resnet34\"]\n",
    "train_dataloader = {'dataloader_10_percent': train_dataloader_10_percent,\n",
    "                    'dataloader_20_percent': train_dataloader_20_percent,\n",
    "                    'dataloader_100_percent': train_dataloader_100_percent\n",
    "                    }\n",
    "test_dataloader = test_dataloader_10_percent"
   ]
  },
  {
   "cell_type": "code",
   "execution_count": 76,
   "id": "f38be1c8-21b1-40bf-8287-d0c8e1b07a4c",
   "metadata": {},
   "outputs": [
    {
     "name": "stdout",
     "output_type": "stream",
     "text": [
      "[INFO] Experiment # - 1\n",
      "[INFO] Running Config: dataloader_10_percent | resnet18 | 5\n",
      "[INFO] Created Model - resnet18\n",
      "[INFO] Creating Writer - Saved To ex_runs\\24-06-29\\dataloader_10_percent\\resnet18\\5_epochs\n"
     ]
    },
    {
     "data": {
      "application/vnd.jupyter.widget-view+json": {
       "model_id": "96ce9250d95b4732bc3120b0f78f9948",
       "version_major": 2,
       "version_minor": 0
      },
      "text/plain": [
       "  0%|          | 0/5 [00:00<?, ?it/s]"
      ]
     },
     "metadata": {},
     "output_type": "display_data"
    },
    {
     "name": "stdout",
     "output_type": "stream",
     "text": [
      "Epochs: 1 | Train Loss: 1.0520 | Train Acc: 0.4805 | Test Loss: 3.0987 | Test Acc: 0.2604 \n",
      "Epochs: 2 | Train Loss: 1.0596 | Train Acc: 0.6562 | Test Loss: 1.4941 | Test Acc: 0.5417 \n",
      "Epochs: 3 | Train Loss: 1.0834 | Train Acc: 0.5312 | Test Loss: 1.4470 | Test Acc: 0.5417 \n",
      "Epochs: 4 | Train Loss: 0.8494 | Train Acc: 0.6172 | Test Loss: 2.9222 | Test Acc: 0.1979 \n",
      "Epochs: 5 | Train Loss: 0.9869 | Train Acc: 0.5547 | Test Loss: 2.5278 | Test Acc: 0.2604 \n",
      "INFO: Saving Model To: exp_model\\1_resnet18_dataloader_10_percent_5_epochs.pth\n",
      "--------------------------------------------------\n",
      "\n",
      "[INFO] Experiment # - 2\n",
      "[INFO] Running Config: dataloader_10_percent | resnet34 | 5\n",
      "[INFO] Created Model - resnet34\n",
      "[INFO] Creating Writer - Saved To ex_runs\\24-06-29\\dataloader_10_percent\\resnet34\\5_epochs\n"
     ]
    },
    {
     "data": {
      "application/vnd.jupyter.widget-view+json": {
       "model_id": "92d0bb42b9874fe18458721bb4c2a035",
       "version_major": 2,
       "version_minor": 0
      },
      "text/plain": [
       "  0%|          | 0/5 [00:00<?, ?it/s]"
      ]
     },
     "metadata": {},
     "output_type": "display_data"
    },
    {
     "name": "stdout",
     "output_type": "stream",
     "text": [
      "Epochs: 1 | Train Loss: 1.3556 | Train Acc: 0.2734 | Test Loss: 3.3321 | Test Acc: 0.2604 \n",
      "Epochs: 2 | Train Loss: 1.3057 | Train Acc: 0.4844 | Test Loss: 3.1663 | Test Acc: 0.2604 \n",
      "Epochs: 3 | Train Loss: 1.0192 | Train Acc: 0.7070 | Test Loss: 2.7342 | Test Acc: 0.1979 \n",
      "Epochs: 4 | Train Loss: 0.8912 | Train Acc: 0.7617 | Test Loss: 1.2065 | Test Acc: 0.5521 \n",
      "Epochs: 5 | Train Loss: 1.0290 | Train Acc: 0.5508 | Test Loss: 1.5104 | Test Acc: 0.5417 \n",
      "INFO: Saving Model To: exp_model\\2_resnet34_dataloader_10_percent_5_epochs.pth\n",
      "--------------------------------------------------\n",
      "\n",
      "[INFO] Experiment # - 3\n",
      "[INFO] Running Config: dataloader_10_percent | resnet18 | 9\n",
      "[INFO] Created Model - resnet18\n",
      "[INFO] Creating Writer - Saved To ex_runs\\24-06-29\\dataloader_10_percent\\resnet18\\9_epochs\n"
     ]
    },
    {
     "data": {
      "application/vnd.jupyter.widget-view+json": {
       "model_id": "c428a8ead14d4a35abd064cdc845e938",
       "version_major": 2,
       "version_minor": 0
      },
      "text/plain": [
       "  0%|          | 0/9 [00:00<?, ?it/s]"
      ]
     },
     "metadata": {},
     "output_type": "display_data"
    },
    {
     "name": "stdout",
     "output_type": "stream",
     "text": [
      "Epochs: 1 | Train Loss: 1.2116 | Train Acc: 0.3164 | Test Loss: 1.7028 | Test Acc: 0.5417 \n",
      "Epochs: 2 | Train Loss: 1.2633 | Train Acc: 0.4180 | Test Loss: 3.1488 | Test Acc: 0.2604 \n",
      "Epochs: 3 | Train Loss: 1.2641 | Train Acc: 0.4570 | Test Loss: 1.5414 | Test Acc: 0.5417 \n",
      "Epochs: 4 | Train Loss: 1.0508 | Train Acc: 0.5859 | Test Loss: 2.5704 | Test Acc: 0.2604 \n",
      "Epochs: 5 | Train Loss: 0.8436 | Train Acc: 0.6211 | Test Loss: 1.1559 | Test Acc: 0.5417 \n",
      "Epochs: 6 | Train Loss: 0.9331 | Train Acc: 0.6250 | Test Loss: 1.0688 | Test Acc: 0.5625 \n",
      "Epochs: 7 | Train Loss: 0.7856 | Train Acc: 0.7617 | Test Loss: 1.9985 | Test Acc: 0.2708 \n",
      "Epochs: 8 | Train Loss: 0.7701 | Train Acc: 0.6641 | Test Loss: 0.9972 | Test Acc: 0.5938 \n",
      "Epochs: 9 | Train Loss: 0.7093 | Train Acc: 0.6758 | Test Loss: 2.7824 | Test Acc: 0.1979 \n",
      "INFO: Saving Model To: exp_model\\3_resnet18_dataloader_10_percent_9_epochs.pth\n",
      "--------------------------------------------------\n",
      "\n",
      "[INFO] Experiment # - 4\n",
      "[INFO] Running Config: dataloader_10_percent | resnet34 | 9\n",
      "[INFO] Created Model - resnet34\n",
      "[INFO] Creating Writer - Saved To ex_runs\\24-06-29\\dataloader_10_percent\\resnet34\\9_epochs\n"
     ]
    },
    {
     "data": {
      "application/vnd.jupyter.widget-view+json": {
       "model_id": "9dd957fb6375410ebbd971e45e2741cc",
       "version_major": 2,
       "version_minor": 0
      },
      "text/plain": [
       "  0%|          | 0/9 [00:00<?, ?it/s]"
      ]
     },
     "metadata": {},
     "output_type": "display_data"
    },
    {
     "name": "stdout",
     "output_type": "stream",
     "text": [
      "Epochs: 1 | Train Loss: 1.0784 | Train Acc: 0.3867 | Test Loss: 3.3963 | Test Acc: 0.1979 \n",
      "Epochs: 2 | Train Loss: 1.1773 | Train Acc: 0.5469 | Test Loss: 3.2389 | Test Acc: 0.2604 \n",
      "Epochs: 3 | Train Loss: 1.0817 | Train Acc: 0.5234 | Test Loss: 2.6715 | Test Acc: 0.2604 \n",
      "Epochs: 4 | Train Loss: 0.9612 | Train Acc: 0.7188 | Test Loss: 2.4213 | Test Acc: 0.2604 \n",
      "Epochs: 5 | Train Loss: 0.8307 | Train Acc: 0.6758 | Test Loss: 2.5484 | Test Acc: 0.2083 \n",
      "Epochs: 6 | Train Loss: 0.7565 | Train Acc: 0.7617 | Test Loss: 2.3379 | Test Acc: 0.2188 \n",
      "Epochs: 7 | Train Loss: 0.7218 | Train Acc: 0.6953 | Test Loss: 1.2140 | Test Acc: 0.5729 \n",
      "Epochs: 8 | Train Loss: 0.7420 | Train Acc: 0.6680 | Test Loss: 2.2017 | Test Acc: 0.2292 \n",
      "Epochs: 9 | Train Loss: 0.7420 | Train Acc: 0.6797 | Test Loss: 1.9743 | Test Acc: 0.2595 \n",
      "INFO: Saving Model To: exp_model\\4_resnet34_dataloader_10_percent_9_epochs.pth\n",
      "--------------------------------------------------\n",
      "\n",
      "[INFO] Experiment # - 5\n",
      "[INFO] Running Config: dataloader_20_percent | resnet18 | 5\n",
      "[INFO] Created Model - resnet18\n",
      "[INFO] Creating Writer - Saved To ex_runs\\24-06-29\\dataloader_20_percent\\resnet18\\5_epochs\n"
     ]
    },
    {
     "data": {
      "application/vnd.jupyter.widget-view+json": {
       "model_id": "ab8b1e6f99084cf5b725f00c3c26ce31",
       "version_major": 2,
       "version_minor": 0
      },
      "text/plain": [
       "  0%|          | 0/5 [00:00<?, ?it/s]"
      ]
     },
     "metadata": {},
     "output_type": "display_data"
    },
    {
     "name": "stdout",
     "output_type": "stream",
     "text": [
      "Epochs: 1 | Train Loss: 1.0163 | Train Acc: 0.4750 | Test Loss: 1.6035 | Test Acc: 0.3854 \n",
      "Epochs: 2 | Train Loss: 0.7545 | Train Acc: 0.7312 | Test Loss: 0.8640 | Test Acc: 0.6477 \n",
      "Epochs: 3 | Train Loss: 0.6402 | Train Acc: 0.7458 | Test Loss: 1.8289 | Test Acc: 0.2604 \n",
      "Epochs: 4 | Train Loss: 0.6239 | Train Acc: 0.7875 | Test Loss: 0.4315 | Test Acc: 0.8854 \n",
      "Epochs: 5 | Train Loss: 0.5514 | Train Acc: 0.8083 | Test Loss: 0.4114 | Test Acc: 0.8854 \n",
      "INFO: Saving Model To: exp_model\\5_resnet18_dataloader_20_percent_5_epochs.pth\n",
      "--------------------------------------------------\n",
      "\n",
      "[INFO] Experiment # - 6\n",
      "[INFO] Running Config: dataloader_20_percent | resnet34 | 5\n",
      "[INFO] Created Model - resnet34\n",
      "[INFO] Creating Writer - Saved To ex_runs\\24-06-29\\dataloader_20_percent\\resnet34\\5_epochs\n"
     ]
    },
    {
     "data": {
      "application/vnd.jupyter.widget-view+json": {
       "model_id": "7703742461654993965a8a386f7d75a1",
       "version_major": 2,
       "version_minor": 0
      },
      "text/plain": [
       "  0%|          | 0/5 [00:00<?, ?it/s]"
      ]
     },
     "metadata": {},
     "output_type": "display_data"
    },
    {
     "name": "stdout",
     "output_type": "stream",
     "text": [
      "Epochs: 1 | Train Loss: 0.9086 | Train Acc: 0.6000 | Test Loss: 0.8616 | Test Acc: 0.5360 \n",
      "Epochs: 2 | Train Loss: 0.7835 | Train Acc: 0.6375 | Test Loss: 1.5738 | Test Acc: 0.4479 \n",
      "Epochs: 3 | Train Loss: 0.5959 | Train Acc: 0.8146 | Test Loss: 1.0131 | Test Acc: 0.5492 \n",
      "Epochs: 4 | Train Loss: 0.6057 | Train Acc: 0.7854 | Test Loss: 0.9625 | Test Acc: 0.6042 \n",
      "Epochs: 5 | Train Loss: 0.6318 | Train Acc: 0.7604 | Test Loss: 2.3709 | Test Acc: 0.2188 \n",
      "INFO: Saving Model To: exp_model\\6_resnet34_dataloader_20_percent_5_epochs.pth\n",
      "--------------------------------------------------\n",
      "\n",
      "[INFO] Experiment # - 7\n",
      "[INFO] Running Config: dataloader_20_percent | resnet18 | 9\n",
      "[INFO] Created Model - resnet18\n",
      "[INFO] Creating Writer - Saved To ex_runs\\24-06-29\\dataloader_20_percent\\resnet18\\9_epochs\n"
     ]
    },
    {
     "data": {
      "application/vnd.jupyter.widget-view+json": {
       "model_id": "02de270a5a7747b29f7c71727cb7f9af",
       "version_major": 2,
       "version_minor": 0
      },
      "text/plain": [
       "  0%|          | 0/9 [00:00<?, ?it/s]"
      ]
     },
     "metadata": {},
     "output_type": "display_data"
    },
    {
     "name": "stdout",
     "output_type": "stream",
     "text": [
      "Epochs: 1 | Train Loss: 1.1821 | Train Acc: 0.3438 | Test Loss: 3.1536 | Test Acc: 0.2604 \n",
      "Epochs: 2 | Train Loss: 0.9713 | Train Acc: 0.6333 | Test Loss: 1.0843 | Test Acc: 0.5521 \n",
      "Epochs: 3 | Train Loss: 0.7484 | Train Acc: 0.6937 | Test Loss: 2.2620 | Test Acc: 0.2604 \n",
      "Epochs: 4 | Train Loss: 0.7447 | Train Acc: 0.7458 | Test Loss: 0.9685 | Test Acc: 0.5729 \n",
      "Epochs: 5 | Train Loss: 0.6743 | Train Acc: 0.7375 | Test Loss: 2.5281 | Test Acc: 0.2083 \n",
      "Epochs: 6 | Train Loss: 0.6006 | Train Acc: 0.7521 | Test Loss: 0.3919 | Test Acc: 0.8750 \n",
      "Epochs: 7 | Train Loss: 0.4943 | Train Acc: 0.8000 | Test Loss: 0.3603 | Test Acc: 0.9072 \n",
      "Epochs: 8 | Train Loss: 0.5159 | Train Acc: 0.8438 | Test Loss: 1.1768 | Test Acc: 0.4053 \n",
      "Epochs: 9 | Train Loss: 0.5079 | Train Acc: 0.7958 | Test Loss: 1.5728 | Test Acc: 0.3229 \n",
      "INFO: Saving Model To: exp_model\\7_resnet18_dataloader_20_percent_9_epochs.pth\n",
      "--------------------------------------------------\n",
      "\n",
      "[INFO] Experiment # - 8\n",
      "[INFO] Running Config: dataloader_20_percent | resnet34 | 9\n",
      "[INFO] Created Model - resnet34\n",
      "[INFO] Creating Writer - Saved To ex_runs\\24-06-29\\dataloader_20_percent\\resnet34\\9_epochs\n"
     ]
    },
    {
     "data": {
      "application/vnd.jupyter.widget-view+json": {
       "model_id": "76037f05559e4a0793ccf0a299d61448",
       "version_major": 2,
       "version_minor": 0
      },
      "text/plain": [
       "  0%|          | 0/9 [00:00<?, ?it/s]"
      ]
     },
     "metadata": {},
     "output_type": "display_data"
    },
    {
     "name": "stdout",
     "output_type": "stream",
     "text": [
      "Epochs: 1 | Train Loss: 1.0843 | Train Acc: 0.4771 | Test Loss: 0.7779 | Test Acc: 0.6581 \n",
      "Epochs: 2 | Train Loss: 0.7548 | Train Acc: 0.6979 | Test Loss: 1.3520 | Test Acc: 0.5417 \n",
      "Epochs: 3 | Train Loss: 0.7306 | Train Acc: 0.7542 | Test Loss: 0.6375 | Test Acc: 0.7727 \n",
      "Epochs: 4 | Train Loss: 0.5169 | Train Acc: 0.8146 | Test Loss: 0.9225 | Test Acc: 0.6212 \n",
      "Epochs: 5 | Train Loss: 0.5333 | Train Acc: 0.7708 | Test Loss: 1.0855 | Test Acc: 0.5398 \n",
      "Epochs: 6 | Train Loss: 0.5094 | Train Acc: 0.8083 | Test Loss: 0.4579 | Test Acc: 0.7623 \n",
      "Epochs: 7 | Train Loss: 0.3980 | Train Acc: 0.8667 | Test Loss: 0.3091 | Test Acc: 0.9280 \n",
      "Epochs: 8 | Train Loss: 0.4085 | Train Acc: 0.8583 | Test Loss: 0.3052 | Test Acc: 0.9271 \n",
      "Epochs: 9 | Train Loss: 0.4339 | Train Acc: 0.8292 | Test Loss: 0.4131 | Test Acc: 0.8646 \n",
      "INFO: Saving Model To: exp_model\\8_resnet34_dataloader_20_percent_9_epochs.pth\n",
      "--------------------------------------------------\n",
      "\n",
      "[INFO] Experiment # - 9\n",
      "[INFO] Running Config: dataloader_100_percent | resnet18 | 5\n",
      "[INFO] Created Model - resnet18\n",
      "[INFO] Creating Writer - Saved To ex_runs\\24-06-29\\dataloader_100_percent\\resnet18\\5_epochs\n"
     ]
    },
    {
     "data": {
      "application/vnd.jupyter.widget-view+json": {
       "model_id": "a69d10e13e6b495dab89ca874f219f4a",
       "version_major": 2,
       "version_minor": 0
      },
      "text/plain": [
       "  0%|          | 0/5 [00:00<?, ?it/s]"
      ]
     },
     "metadata": {},
     "output_type": "display_data"
    },
    {
     "name": "stdout",
     "output_type": "stream",
     "text": [
      "Epochs: 1 | Train Loss: 0.6900 | Train Acc: 0.7320 | Test Loss: 0.5282 | Test Acc: 0.7339 \n",
      "Epochs: 2 | Train Loss: 0.4256 | Train Acc: 0.8537 | Test Loss: 0.2786 | Test Acc: 0.9583 \n",
      "Epochs: 3 | Train Loss: 0.3724 | Train Acc: 0.8707 | Test Loss: 0.2594 | Test Acc: 0.9072 \n",
      "Epochs: 4 | Train Loss: 0.3462 | Train Acc: 0.8717 | Test Loss: 0.3170 | Test Acc: 0.8665 \n",
      "Epochs: 5 | Train Loss: 0.3255 | Train Acc: 0.8814 | Test Loss: 0.2274 | Test Acc: 0.9176 \n",
      "INFO: Saving Model To: exp_model\\9_resnet18_dataloader_100_percent_5_epochs.pth\n",
      "--------------------------------------------------\n",
      "\n",
      "[INFO] Experiment # - 10\n",
      "[INFO] Running Config: dataloader_100_percent | resnet34 | 5\n",
      "[INFO] Created Model - resnet34\n",
      "[INFO] Creating Writer - Saved To ex_runs\\24-06-29\\dataloader_100_percent\\resnet34\\5_epochs\n"
     ]
    },
    {
     "data": {
      "application/vnd.jupyter.widget-view+json": {
       "model_id": "15f31da94a744102924f2015e43741a4",
       "version_major": 2,
       "version_minor": 0
      },
      "text/plain": [
       "  0%|          | 0/5 [00:00<?, ?it/s]"
      ]
     },
     "metadata": {},
     "output_type": "display_data"
    },
    {
     "name": "stdout",
     "output_type": "stream",
     "text": [
      "Epochs: 1 | Train Loss: 0.6459 | Train Acc: 0.7284 | Test Loss: 0.3371 | Test Acc: 0.9384 \n",
      "Epochs: 2 | Train Loss: 0.4001 | Train Acc: 0.8520 | Test Loss: 0.2143 | Test Acc: 0.9384 \n",
      "Epochs: 3 | Train Loss: 0.3467 | Train Acc: 0.8737 | Test Loss: 0.1976 | Test Acc: 0.9384 \n",
      "Epochs: 4 | Train Loss: 0.3134 | Train Acc: 0.8835 | Test Loss: 0.3202 | Test Acc: 0.9081 \n",
      "Epochs: 5 | Train Loss: 0.3006 | Train Acc: 0.8917 | Test Loss: 0.1924 | Test Acc: 0.9489 \n",
      "INFO: Saving Model To: exp_model\\10_resnet34_dataloader_100_percent_5_epochs.pth\n",
      "--------------------------------------------------\n",
      "\n",
      "[INFO] Experiment # - 11\n",
      "[INFO] Running Config: dataloader_100_percent | resnet18 | 9\n",
      "[INFO] Created Model - resnet18\n",
      "[INFO] Creating Writer - Saved To ex_runs\\24-06-29\\dataloader_100_percent\\resnet18\\9_epochs\n"
     ]
    },
    {
     "data": {
      "application/vnd.jupyter.widget-view+json": {
       "model_id": "ede75e66f84644f596e8f1d4e964da11",
       "version_major": 2,
       "version_minor": 0
      },
      "text/plain": [
       "  0%|          | 0/9 [00:00<?, ?it/s]"
      ]
     },
     "metadata": {},
     "output_type": "display_data"
    },
    {
     "name": "stdout",
     "output_type": "stream",
     "text": [
      "Epochs: 1 | Train Loss: 0.6740 | Train Acc: 0.7360 | Test Loss: 0.3169 | Test Acc: 0.9167 \n",
      "Epochs: 2 | Train Loss: 0.4312 | Train Acc: 0.8438 | Test Loss: 0.2586 | Test Acc: 0.9167 \n",
      "Epochs: 3 | Train Loss: 0.3822 | Train Acc: 0.8533 | Test Loss: 0.2976 | Test Acc: 0.8769 \n",
      "Epochs: 4 | Train Loss: 0.3492 | Train Acc: 0.8784 | Test Loss: 0.2169 | Test Acc: 0.9280 \n",
      "Epochs: 5 | Train Loss: 0.3219 | Train Acc: 0.8830 | Test Loss: 0.1997 | Test Acc: 0.9583 \n",
      "Epochs: 6 | Train Loss: 0.3190 | Train Acc: 0.8844 | Test Loss: 0.2550 | Test Acc: 0.8769 \n",
      "Epochs: 7 | Train Loss: 0.3002 | Train Acc: 0.8960 | Test Loss: 0.2171 | Test Acc: 0.9479 \n",
      "Epochs: 8 | Train Loss: 0.2986 | Train Acc: 0.8858 | Test Loss: 0.2035 | Test Acc: 0.9176 \n",
      "Epochs: 9 | Train Loss: 0.2914 | Train Acc: 0.8955 | Test Loss: 0.3287 | Test Acc: 0.8769 \n",
      "INFO: Saving Model To: exp_model\\11_resnet18_dataloader_100_percent_9_epochs.pth\n",
      "--------------------------------------------------\n",
      "\n",
      "[INFO] Experiment # - 12\n",
      "[INFO] Running Config: dataloader_100_percent | resnet34 | 9\n",
      "[INFO] Created Model - resnet34\n",
      "[INFO] Creating Writer - Saved To ex_runs\\24-06-29\\dataloader_100_percent\\resnet34\\9_epochs\n"
     ]
    },
    {
     "data": {
      "application/vnd.jupyter.widget-view+json": {
       "model_id": "c4272cc4328149648abe5c4bd21d8991",
       "version_major": 2,
       "version_minor": 0
      },
      "text/plain": [
       "  0%|          | 0/9 [00:00<?, ?it/s]"
      ]
     },
     "metadata": {},
     "output_type": "display_data"
    },
    {
     "name": "stdout",
     "output_type": "stream",
     "text": [
      "Epochs: 1 | Train Loss: 0.6201 | Train Acc: 0.7560 | Test Loss: 0.2981 | Test Acc: 0.9280 \n",
      "Epochs: 2 | Train Loss: 0.3923 | Train Acc: 0.8635 | Test Loss: 0.2264 | Test Acc: 0.9384 \n",
      "Epochs: 3 | Train Loss: 0.3492 | Train Acc: 0.8766 | Test Loss: 0.1849 | Test Acc: 0.9384 \n",
      "Epochs: 4 | Train Loss: 0.3195 | Train Acc: 0.8822 | Test Loss: 0.2243 | Test Acc: 0.9384 \n",
      "Epochs: 5 | Train Loss: 0.3003 | Train Acc: 0.8931 | Test Loss: 0.1584 | Test Acc: 0.9688 \n",
      "Epochs: 6 | Train Loss: 0.2852 | Train Acc: 0.8969 | Test Loss: 0.1509 | Test Acc: 0.9688 \n",
      "Epochs: 7 | Train Loss: 0.2859 | Train Acc: 0.8926 | Test Loss: 0.2875 | Test Acc: 0.9280 \n",
      "Epochs: 8 | Train Loss: 0.2879 | Train Acc: 0.8955 | Test Loss: 0.1823 | Test Acc: 0.9384 \n",
      "Epochs: 9 | Train Loss: 0.2625 | Train Acc: 0.9081 | Test Loss: 0.1650 | Test Acc: 0.9384 \n",
      "INFO: Saving Model To: exp_model\\12_resnet34_dataloader_100_percent_9_epochs.pth\n",
      "--------------------------------------------------\n",
      "\n"
     ]
    }
   ],
   "source": [
    "exp_track = 0\n",
    "\n",
    "for name_dataloader, train_dataloader in train_dataloader.items(): \n",
    "    for epoch in epochs:\n",
    "        for model_name in model_list:\n",
    "            exp_track += 1\n",
    "            print(f\"[INFO] Experiment # - {exp_track}\")\n",
    "            print(f\"[INFO] Running Config: {name_dataloader} | {model_name} | {epoch}\")\n",
    "\n",
    "            resnet = create_resnet(model_name, class_list_10)\n",
    "\n",
    "            loss_fn=nn.CrossEntropyLoss()\n",
    "            optimizer=torch.optim.SGD(resnet.parameters(), lr=0.01)\n",
    "\n",
    "            results = train(\n",
    "                model=resnet,\n",
    "                train_dataloader=train_dataloader,\n",
    "                test_dataloader=test_dataloader,\n",
    "                loss_fn=loss_fn,\n",
    "                optimizer=optimizer,\n",
    "                device=device,\n",
    "                epochs=epoch,\n",
    "                writer=create_writer(experiment_name=name_dataloader,\n",
    "                                     model_name=model_name,\n",
    "                                     extra=f\"{epoch}_epochs\")\n",
    "            )\n",
    "\n",
    "            save_file_path = f\"{exp_track}_{model_name}_{name_dataloader}_{epoch}_epochs.pth\"\n",
    "            utils.save_model(model=resnet,\n",
    "                             target_dir='exp_model',\n",
    "                             model_name=save_file_path\n",
    "                            )\n",
    "            print(\"-\"*50 + \"\\n\")"
   ]
  },
  {
   "cell_type": "code",
   "execution_count": 66,
   "id": "95ffa052-5e35-4f10-af39-35bb00055621",
   "metadata": {},
   "outputs": [
    {
     "name": "stdout",
     "output_type": "stream",
     "text": [
      "SUCCESS: The process \"tensorboard.exe\" with PID 22444 has been terminated.\n"
     ]
    }
   ],
   "source": [
    "!taskkill /IM \"tensorboard.exe\" /F\n",
    "!rmdir /S /Q %temp%\\.tensorboard-info"
   ]
  },
  {
   "cell_type": "code",
   "execution_count": 67,
   "id": "cf500947-1477-4feb-9735-e5f1a0f27210",
   "metadata": {
    "scrolled": true
   },
   "outputs": [
    {
     "name": "stdout",
     "output_type": "stream",
     "text": [
      "The tensorboard extension is already loaded. To reload it, use:\n",
      "  %reload_ext tensorboard\n"
     ]
    },
    {
     "data": {
      "text/html": [
       "\n",
       "      <iframe id=\"tensorboard-frame-9ebbc8347382514b\" width=\"100%\" height=\"800\" frameborder=\"0\">\n",
       "      </iframe>\n",
       "      <script>\n",
       "        (function() {\n",
       "          const frame = document.getElementById(\"tensorboard-frame-9ebbc8347382514b\");\n",
       "          const url = new URL(\"/\", window.location);\n",
       "          const port = 6006;\n",
       "          if (port) {\n",
       "            url.port = port;\n",
       "          }\n",
       "          frame.src = url;\n",
       "        })();\n",
       "      </script>\n",
       "    "
      ],
      "text/plain": [
       "<IPython.core.display.HTML object>"
      ]
     },
     "metadata": {},
     "output_type": "display_data"
    }
   ],
   "source": [
    "%load_ext tensorboard\n",
    "%tensorboard --logdir ex_runs --host=127.0.0.1 --port=6006"
   ]
  },
  {
   "cell_type": "code",
   "execution_count": null,
   "id": "773afc64-c82b-4494-b5c2-3471cfd130e1",
   "metadata": {},
   "outputs": [],
   "source": []
  },
  {
   "cell_type": "code",
   "execution_count": null,
   "id": "d9d3dcbc-a85a-422e-b465-1de43a1e58d3",
   "metadata": {},
   "outputs": [],
   "source": []
  }
 ],
 "metadata": {
  "kernelspec": {
   "display_name": "Python 3 (ipykernel)",
   "language": "python",
   "name": "python3"
  },
  "language_info": {
   "codemirror_mode": {
    "name": "ipython",
    "version": 3
   },
   "file_extension": ".py",
   "mimetype": "text/x-python",
   "name": "python",
   "nbconvert_exporter": "python",
   "pygments_lexer": "ipython3",
   "version": "3.12.3"
  }
 },
 "nbformat": 4,
 "nbformat_minor": 5
}
